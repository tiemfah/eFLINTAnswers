{
 "cells": [
  {
   "cell_type": "markdown",
   "id": "4d7a1162-5713-4a41-b9e5-0ba66c9a7928",
   "metadata": {},
   "source": [
    "# eFLINT exploration notebook"
   ]
  },
  {
   "cell_type": "markdown",
   "id": "adc7ca5e-0560-4aa9-b06b-78329d405fd4",
   "metadata": {},
   "source": [
    "eFLINT can be communicated with through commandlines, for example this is a command to getting the server status."
   ]
  },
  {
   "cell_type": "code",
   "execution_count": 1,
   "id": "f4ec0ca7-6747-4d65-9a04-4455584c2b8d",
   "metadata": {},
   "outputs": [
    {
     "name": "stdout",
     "output_type": "stream",
     "text": [
      "zsh:1: parse error near `|'\n"
     ]
    }
   ],
   "source": [
    "!echo '{ \"command\": \"status\" }' | nc localhost 8080|"
   ]
  },
  {
   "cell_type": "markdown",
   "id": "13c5c953-d15d-4061-9ff9-1a7805a4cc36",
   "metadata": {},
   "source": [
    "First we have to setup python to be able to communicate with eFLINT server through command lines"
   ]
  },
  {
   "cell_type": "code",
   "execution_count": 2,
   "id": "206f39ce-5d1c-489f-94fe-99f73bdcb729",
   "metadata": {},
   "outputs": [
    {
     "name": "stdout",
     "output_type": "stream",
     "text": [
      "eFLINT replied with:\n",
      "{\"all-disabled-transitions\":[],\"all-duties\":[],\"all-enabled-transitions\":[],\"created_facts\":[],\"errors\":[],\"inst-query-results\":[],\"new-disabled-transitions\":[],\"new-duties\":[],\"new-enabled-transitions\":[],\"new-state\":1,\"old-state\":1,\"output-events\":[],\"query-results\":[],\"response\":\"success\",\"source_contents\":[],\"target_contents\":[],\"terminated-duties\":[],\"terminated_facts\":[],\"violations\":[]}\n",
      "\n"
     ]
    }
   ],
   "source": [
    "import subprocess\n",
    "\n",
    "cmd = '''echo '{ \"command\": \"status\" }' | nc localhost 8080'''\n",
    "result = subprocess.check_output(cmd, shell=True, text=True)\n",
    "\n",
    "print(\"eFLINT replied with:\")\n",
    "print(result)"
   ]
  },
  {
   "cell_type": "markdown",
   "id": "4911eae9-b25c-499c-a28a-cec78dae3878",
   "metadata": {},
   "source": [
    "Now we want to parse these response into data structure or a class in python"
   ]
  },
  {
   "cell_type": "markdown",
   "id": "8b84bf2c-ea7b-42a0-834a-34e316a9c622",
   "metadata": {},
   "source": [
    "This is a hard coded, we would prefer it to be a class."
   ]
  },
  {
   "cell_type": "code",
   "execution_count": 3,
   "id": "b4f8ad24-672f-4bf1-81eb-a3c5ecd85a6b",
   "metadata": {},
   "outputs": [],
   "source": [
    "from eflint.eflint_lib import EF\n",
    "ef = EF()"
   ]
  },
  {
   "cell_type": "markdown",
   "id": "dc0a55b6-a0b4-4ac5-bca3-e2cb5fe5d559",
   "metadata": {},
   "source": [
    "Now verify it."
   ]
  },
  {
   "cell_type": "code",
   "execution_count": 4,
   "id": "08f2e748-6f28-4871-ad19-f621a0dad415",
   "metadata": {},
   "outputs": [
    {
     "name": "stdout",
     "output_type": "stream",
     "text": [
      "eFLINT from function replied with: {\"all-disabled-transitions\":[],\"all-duties\":[],\"all-enabled-transitions\":[],\"created_facts\":[],\"errors\":[],\"inst-query-results\":[],\"new-disabled-transitions\":[],\"new-duties\":[],\"new-enabled-transitions\":[],\"new-state\":1,\"old-state\":1,\"output-events\":[],\"query-results\":[],\"response\":\"success\",\"source_contents\":[],\"target_contents\":[],\"terminated-duties\":[],\"terminated_facts\":[],\"violations\":[]}\n",
      "\n"
     ]
    }
   ],
   "source": [
    "response = ef.send_eflint_command({ \"command\": \"status\" })\n",
    "print(\"eFLINT from function replied with: \" + result)"
   ]
  },
  {
   "cell_type": "markdown",
   "id": "e905930e-d922-426f-970a-065b95a2d6d6",
   "metadata": {},
   "source": [
    "Now these responses are a string which is hard to work with. We will parse them into dataclasses."
   ]
  },
  {
   "cell_type": "markdown",
   "id": "1eede495-c5b3-411f-bfec-71324fe619bf",
   "metadata": {},
   "source": [
    "But to make it better, it could be a function in that class"
   ]
  },
  {
   "cell_type": "markdown",
   "id": "13580bca-3ab6-49d2-9fa5-0f7d2bdeb50e",
   "metadata": {},
   "source": [
    "To make Jupyter notebook reload my EF class, we will use `importlib` package."
   ]
  },
  {
   "cell_type": "code",
   "execution_count": 22,
   "id": "d13e3b1e-0366-407a-9a29-4022caefb240",
   "metadata": {},
   "outputs": [],
   "source": [
    "\n",
    "from eflint import eflint_lib\n",
    "import importlib\n",
    "importlib.reload(eflint_lib)\n",
    "\n",
    "from eflint.eflint_lib import EF\n",
    "ef = EF()"
   ]
  },
  {
   "cell_type": "code",
   "execution_count": 16,
   "id": "8055a12b-dbb0-4c97-873b-83bd7b6d7833",
   "metadata": {},
   "outputs": [
    {
     "data": {
      "text/plain": [
       "{'all-disabled-transitions': [],\n",
       " 'all-duties': [],\n",
       " 'all-enabled-transitions': [],\n",
       " 'created_facts': [],\n",
       " 'errors': [],\n",
       " 'inst-query-results': [],\n",
       " 'new-disabled-transitions': [],\n",
       " 'new-duties': [],\n",
       " 'new-enabled-transitions': [],\n",
       " 'new-state': 1,\n",
       " 'old-state': 1,\n",
       " 'output-events': [],\n",
       " 'query-results': [],\n",
       " 'response': 'success',\n",
       " 'source_contents': [],\n",
       " 'target_contents': [],\n",
       " 'terminated-duties': [],\n",
       " 'terminated_facts': [],\n",
       " 'violations': []}"
      ]
     },
     "execution_count": 16,
     "metadata": {},
     "output_type": "execute_result"
    }
   ],
   "source": [
    "ef.status()"
   ]
  },
  {
   "cell_type": "code",
   "execution_count": 9,
   "id": "62b15dec-1f12-4ef9-bcd0-31ca63b04225",
   "metadata": {},
   "outputs": [],
   "source": [
    "from dataclasses import dataclass\n",
    "from typing import List\n",
    "\n",
    "@dataclass\n",
    "class ServerStatusResponse:\n",
    "    all_disabled_transitions: List[str]\n",
    "    all_duties: List[str]\n",
    "    all_enabled_transitions: List[str]\n",
    "    created_facts: List[str]\n",
    "    errors: List[str]\n",
    "    inst_query_results: List[str]\n",
    "    new_disabled_transitions: List[str]\n",
    "    new_duties: List[str]\n",
    "    new_enabled_transitions: List[str]\n",
    "    new_state: int\n",
    "    old_state: int\n",
    "    output_events: List[str]\n",
    "    query_results: List[str]\n",
    "    response: str\n",
    "    source_contents: List[str]\n",
    "    target_contents: List[str]\n",
    "    terminated_duties: List[str]\n",
    "    terminated_facts: List[str]\n",
    "    violations: List[str]"
   ]
  },
  {
   "cell_type": "markdown",
   "id": "2c624bb7-5240-4f53-9132-c95635a41fdf",
   "metadata": {},
   "source": [
    "Because response are using kebab case, but in Python snake case are preferred."
   ]
  },
  {
   "cell_type": "code",
   "execution_count": 10,
   "id": "1ca63f2f-5160-4c9b-affc-5f25e5ef6602",
   "metadata": {},
   "outputs": [],
   "source": [
    "\n",
    "\n",
    "def kebab_to_snake(s):\n",
    "    return s.replace('-', '_')\n",
    "\n",
    "def convert_keys_kebab_to_snake(d):\n",
    "    return {kebab_to_snake(k): v for k, v in d.items()}"
   ]
  },
  {
   "cell_type": "code",
   "execution_count": 11,
   "id": "5ebc7fef-aa8b-459f-9807-1b1ab4ad828b",
   "metadata": {},
   "outputs": [],
   "source": [
    "parsed_snake = convert_keys_kebab_to_snake(EF().status())\n",
    "response = ServerStatusResponse(**parsed_snake)"
   ]
  },
  {
   "cell_type": "markdown",
   "id": "67a177a7-80f2-4827-85db-ce2c874886c2",
   "metadata": {},
   "source": [
    "Now this is our response object."
   ]
  },
  {
   "cell_type": "code",
   "execution_count": 12,
   "id": "23452239-f59a-4444-b997-743dedaee43c",
   "metadata": {},
   "outputs": [
    {
     "data": {
      "text/plain": [
       "ServerStatusResponse(all_disabled_transitions=[], all_duties=[], all_enabled_transitions=[], created_facts=[], errors=[], inst_query_results=[], new_disabled_transitions=[], new_duties=[], new_enabled_transitions=[], new_state=1, old_state=1, output_events=[], query_results=[], response='success', source_contents=[], target_contents=[], terminated_duties=[], terminated_facts=[], violations=[])"
      ]
     },
     "execution_count": 12,
     "metadata": {},
     "output_type": "execute_result"
    }
   ],
   "source": [
    "response"
   ]
  },
  {
   "cell_type": "code",
   "execution_count": 13,
   "id": "33f6fd00-6fea-4119-baa9-af7b11f07913",
   "metadata": {},
   "outputs": [
    {
     "data": {
      "text/plain": [
       "'success'"
      ]
     },
     "execution_count": 13,
     "metadata": {},
     "output_type": "execute_result"
    }
   ],
   "source": [
    "response.response"
   ]
  },
  {
   "cell_type": "markdown",
   "id": "be169e0b-1cfc-4a8d-8682-dd6c8bf5ae8b",
   "metadata": {},
   "source": [
    "---"
   ]
  },
  {
   "cell_type": "markdown",
   "id": "0e4c97be-2a2f-4a30-a86c-0e302443d0cc",
   "metadata": {},
   "source": [
    "# eFLINTAnswer"
   ]
  },
  {
   "cell_type": "markdown",
   "id": "1bb2348a-7d9a-4a98-8bb1-d2b2d7710ef9",
   "metadata": {},
   "source": [
    "Now, our project is objective is to introduce support for human in the loop for distributed policy systems. For example, to build and own a house in Amsterdam there are many legal entity to produce policy that home owner must comply to. Such as Heritage Regulations and Water Management Regulations, reality is so much more complicated but this is a good scenarios that will highlight our contribution. Which will be a questionnares to help potential home owner navigates this complex legal structure through eFLINT."
   ]
  },
  {
   "cell_type": "markdown",
   "id": "e7aaf152-6015-4690-8f46-02d911c0ba12",
   "metadata": {},
   "source": [
    "But to do that, first we have to put some policy into our eFLINT server. Which is done by using \"phrase\" command. And for that we'll go with even simpler exmaple."
   ]
  },
  {
   "cell_type": "code",
   "execution_count": 20,
   "id": "d76a725e-4b61-43cf-9cef-2a1329533c74",
   "metadata": {},
   "outputs": [
    {
     "data": {
      "text/plain": [
       "{'all-disabled-transitions': [],\n",
       " 'all-duties': [],\n",
       " 'all-enabled-transitions': [],\n",
       " 'created_facts': [],\n",
       " 'errors': [],\n",
       " 'inst-query-results': [],\n",
       " 'new-disabled-transitions': [],\n",
       " 'new-duties': [],\n",
       " 'new-enabled-transitions': [],\n",
       " 'new-state': 9,\n",
       " 'old-state': 8,\n",
       " 'output-events': [],\n",
       " 'query-results': [],\n",
       " 'response': 'success',\n",
       " 'source_contents': [],\n",
       " 'target_contents': [],\n",
       " 'terminated-duties': [],\n",
       " 'terminated_facts': [],\n",
       " 'violations': []}"
      ]
     },
     "execution_count": 20,
     "metadata": {},
     "output_type": "execute_result"
    }
   ],
   "source": [
    "ef.phrase(\"Fact entity Identified by String\")\n",
    "ef.phrase(\"Fact featherless Identified by entity\")\n",
    "ef.phrase(\"Fact biped Identified by entity\")\n",
    "ef.phrase(\"Fact human Identified by entity Holds when featherless(entity) && biped(entity)\")"
   ]
  },
  {
   "cell_type": "markdown",
   "id": "67657d63-dd9f-4ef6-9549-b5ac7fc4a487",
   "metadata": {},
   "source": [
    "Now we want to check if there is a new fact, actually it's a type in eFLINT, created in the eFLINT server."
   ]
  },
  {
   "cell_type": "code",
   "execution_count": 21,
   "id": "ea05d58b-40be-48d6-aa45-6988622d3314",
   "metadata": {},
   "outputs": [
    {
     "name": "stdout",
     "output_type": "stream",
     "text": [
      "{\"types\":{\"actor\":{\"closed\":true,\"conditions\":[],\"derivation\":[],\"domain\":{\"domain-type\":\"AnyString\"},\"domain_constraint\":{\"b\":true,\"term-type\":\"BoolLit\"},\"kind\":{\"fact\":{\"actor\":true,\"invariant\":false},\"kind-type\":\"Fact\"}},\"biped\":{\"closed\":true,\"conditions\":[],\"derivation\":[],\"domain\":{\"domain-type\":\"Products\",\"vars\":[{\"domID\":\"entity\",\"string\":\"\"}]},\"domain_constraint\":{\"b\":true,\"term-type\":\"BoolLit\"},\"kind\":{\"fact\":{\"actor\":false,\"invariant\":false},\"kind-type\":\"Fact\"}},\"entity\":{\"closed\":true,\"conditions\":[],\"derivation\":[],\"domain\":{\"domain-type\":\"AnyString\"},\"domain_constraint\":{\"b\":true,\"term-type\":\"BoolLit\"},\"kind\":{\"fact\":{\"actor\":false,\"invariant\":false},\"kind-type\":\"Fact\"}},\"featherless\":{\"closed\":true,\"conditions\":[],\"derivation\":[],\"domain\":{\"domain-type\":\"Products\",\"vars\":[{\"domID\":\"entity\",\"string\":\"\"}]},\"domain_constraint\":{\"b\":true,\"term-type\":\"BoolLit\"},\"kind\":{\"fact\":{\"actor\":false,\"invariant\":false},\"kind-type\":\"Fact\"}},\"human\":{\"closed\":true,\"conditions\":[],\"derivation\":[{\"derivation-type\":\"HoldsWhen\",\"term\":{\"t1\":{\"t\":{\"args\":{\"Right\":[{\"term\":{\"term-type\":\"Ref\",\"var\":{\"domID\":\"entity\",\"string\":\"\"}},\"var\":{\"domID\":\"entity\",\"string\":\"\"}}]},\"domID\":\"featherless\",\"term-type\":\"App\"},\"term-type\":\"Present\"},\"t2\":{\"t\":{\"args\":{\"Right\":[{\"term\":{\"term-type\":\"Ref\",\"var\":{\"domID\":\"entity\",\"string\":\"\"}},\"var\":{\"domID\":\"entity\",\"string\":\"\"}}]},\"domID\":\"biped\",\"term-type\":\"App\"},\"term-type\":\"Present\"},\"term-type\":\"And\"}}],\"domain\":{\"domain-type\":\"Products\",\"vars\":[{\"domID\":\"entity\",\"string\":\"\"}]},\"domain_constraint\":{\"b\":true,\"term-type\":\"BoolLit\"},\"kind\":{\"fact\":{\"actor\":false,\"invariant\":false},\"kind-type\":\"Fact\"}},\"int\":{\"closed\":true,\"conditions\":[],\"derivation\":[],\"domain\":{\"domain-type\":\"AnyInt\"},\"domain_constraint\":{\"b\":true,\"term-type\":\"BoolLit\"},\"kind\":{\"fact\":{\"actor\":false,\"invariant\":false},\"kind-type\":\"Fact\"}},\"string\":{\"closed\":true,\"conditions\":[],\"derivation\":[],\"domain\":{\"domain-type\":\"AnyString\"},\"domain_constraint\":{\"b\":true,\"term-type\":\"BoolLit\"},\"kind\":{\"fact\":{\"actor\":false,\"invariant\":false},\"kind-type\":\"Fact\"}}}}\n"
     ]
    }
   ],
   "source": [
    "!echo '{\"command\": \"types\"}' | nc localhost 8080"
   ]
  },
  {
   "cell_type": "markdown",
   "id": "8765f493-0bd6-4582-942f-b688d190ae50",
   "metadata": {},
   "source": [
    "After confirming that the commands work, We want to parse it to a function."
   ]
  },
  {
   "cell_type": "code",
   "execution_count": 25,
   "id": "ca07ead0-68b3-4779-89a3-93d0768310ad",
   "metadata": {},
   "outputs": [
    {
     "data": {
      "text/plain": [
       "{'types': {'actor': {'closed': True,\n",
       "   'conditions': [],\n",
       "   'derivation': [],\n",
       "   'domain': {'domain-type': 'AnyString'},\n",
       "   'domain_constraint': {'b': True, 'term-type': 'BoolLit'},\n",
       "   'kind': {'fact': {'actor': True, 'invariant': False}, 'kind-type': 'Fact'}},\n",
       "  'biped': {'closed': True,\n",
       "   'conditions': [],\n",
       "   'derivation': [],\n",
       "   'domain': {'domain-type': 'Products',\n",
       "    'vars': [{'domID': 'entity', 'string': ''}]},\n",
       "   'domain_constraint': {'b': True, 'term-type': 'BoolLit'},\n",
       "   'kind': {'fact': {'actor': False, 'invariant': False},\n",
       "    'kind-type': 'Fact'}},\n",
       "  'entity': {'closed': True,\n",
       "   'conditions': [],\n",
       "   'derivation': [],\n",
       "   'domain': {'domain-type': 'AnyString'},\n",
       "   'domain_constraint': {'b': True, 'term-type': 'BoolLit'},\n",
       "   'kind': {'fact': {'actor': False, 'invariant': False},\n",
       "    'kind-type': 'Fact'}},\n",
       "  'featherless': {'closed': True,\n",
       "   'conditions': [],\n",
       "   'derivation': [],\n",
       "   'domain': {'domain-type': 'Products',\n",
       "    'vars': [{'domID': 'entity', 'string': ''}]},\n",
       "   'domain_constraint': {'b': True, 'term-type': 'BoolLit'},\n",
       "   'kind': {'fact': {'actor': False, 'invariant': False},\n",
       "    'kind-type': 'Fact'}},\n",
       "  'human': {'closed': True,\n",
       "   'conditions': [],\n",
       "   'derivation': [{'derivation-type': 'HoldsWhen',\n",
       "     'term': {'t1': {'t': {'args': {'Right': [{'term': {'term-type': 'Ref',\n",
       "            'var': {'domID': 'entity', 'string': ''}},\n",
       "           'var': {'domID': 'entity', 'string': ''}}]},\n",
       "        'domID': 'featherless',\n",
       "        'term-type': 'App'},\n",
       "       'term-type': 'Present'},\n",
       "      't2': {'t': {'args': {'Right': [{'term': {'term-type': 'Ref',\n",
       "            'var': {'domID': 'entity', 'string': ''}},\n",
       "           'var': {'domID': 'entity', 'string': ''}}]},\n",
       "        'domID': 'biped',\n",
       "        'term-type': 'App'},\n",
       "       'term-type': 'Present'},\n",
       "      'term-type': 'And'}}],\n",
       "   'domain': {'domain-type': 'Products',\n",
       "    'vars': [{'domID': 'entity', 'string': ''}]},\n",
       "   'domain_constraint': {'b': True, 'term-type': 'BoolLit'},\n",
       "   'kind': {'fact': {'actor': False, 'invariant': False},\n",
       "    'kind-type': 'Fact'}},\n",
       "  'int': {'closed': True,\n",
       "   'conditions': [],\n",
       "   'derivation': [],\n",
       "   'domain': {'domain-type': 'AnyInt'},\n",
       "   'domain_constraint': {'b': True, 'term-type': 'BoolLit'},\n",
       "   'kind': {'fact': {'actor': False, 'invariant': False},\n",
       "    'kind-type': 'Fact'}},\n",
       "  'string': {'closed': True,\n",
       "   'conditions': [],\n",
       "   'derivation': [],\n",
       "   'domain': {'domain-type': 'AnyString'},\n",
       "   'domain_constraint': {'b': True, 'term-type': 'BoolLit'},\n",
       "   'kind': {'fact': {'actor': False, 'invariant': False},\n",
       "    'kind-type': 'Fact'}}}}"
      ]
     },
     "execution_count": 25,
     "metadata": {},
     "output_type": "execute_result"
    }
   ],
   "source": [
    "types_response = ef.types()\n",
    "types_response"
   ]
  },
  {
   "cell_type": "code",
   "execution_count": 28,
   "id": "bb453893-29db-468d-b9ba-3efa166f54f1",
   "metadata": {},
   "outputs": [
    {
     "data": {
      "text/plain": [
       "{'closed': True,\n",
       " 'conditions': [],\n",
       " 'derivation': [{'derivation-type': 'HoldsWhen',\n",
       "   'term': {'t1': {'t': {'args': {'Right': [{'term': {'term-type': 'Ref',\n",
       "          'var': {'domID': 'entity', 'string': ''}},\n",
       "         'var': {'domID': 'entity', 'string': ''}}]},\n",
       "      'domID': 'featherless',\n",
       "      'term-type': 'App'},\n",
       "     'term-type': 'Present'},\n",
       "    't2': {'t': {'args': {'Right': [{'term': {'term-type': 'Ref',\n",
       "          'var': {'domID': 'entity', 'string': ''}},\n",
       "         'var': {'domID': 'entity', 'string': ''}}]},\n",
       "      'domID': 'biped',\n",
       "      'term-type': 'App'},\n",
       "     'term-type': 'Present'},\n",
       "    'term-type': 'And'}}],\n",
       " 'domain': {'domain-type': 'Products',\n",
       "  'vars': [{'domID': 'entity', 'string': ''}]},\n",
       " 'domain_constraint': {'b': True, 'term-type': 'BoolLit'},\n",
       " 'kind': {'fact': {'actor': False, 'invariant': False}, 'kind-type': 'Fact'}}"
      ]
     },
     "execution_count": 28,
     "metadata": {},
     "output_type": "execute_result"
    }
   ],
   "source": [
    "types_response[\"types\"][\"human\"]"
   ]
  },
  {
   "cell_type": "markdown",
   "id": "e8e855af-a3fe-4c46-b643-46e8cb4521d1",
   "metadata": {},
   "source": [
    "We want to extract dependency of type \"human\" and we should be able to see that to be human it holds when it is featherless and biped. We want to display this in a graph form"
   ]
  },
  {
   "cell_type": "code",
   "execution_count": 19,
   "id": "022e03f7-f7fd-4612-b19e-cee1ace45fb3",
   "metadata": {},
   "outputs": [],
   "source": [
    "@dataclass\n",
    "class Node:\n",
    "    name: str\n",
    "    dependencies: List[\"Node\"]\n",
    "\n",
    "    def __repr__(self):\n",
    "        \"\"\"Custom representation to avoid recursion depth issues when printing\"\"\"\n",
    "        dep_names = [dep.name for dep in self.dependencies]\n",
    "        return f\"Node(name='{self.name}', dependencies={dep_names})\""
   ]
  },
  {
   "cell_type": "code",
   "execution_count": 20,
   "id": "0f73467d-75cb-40a1-ad90-1a7bdb2117af",
   "metadata": {},
   "outputs": [],
   "source": [
    "def typeinfo_to_node(type_info: dict, type_name: str = \"human\") -> Node:\n",
    "    \"\"\"\n",
    "    Convert a response types dict to a Node object with dependencies.\n",
    "    \"\"\"\n",
    "    dependencies = []\n",
    "    \n",
    "    # Process the derivation list to find dependencies\n",
    "    for derivation in type_info[\"derivation\"]:\n",
    "        if derivation[\"derivation_type\"] == 'HoldsWhen':\n",
    "            if hasattr(deriv, 'term') and hasattr(deriv.term, 'term_type') and deriv.term.term_type == 'And':\n",
    "                # Extract from t1 (typically featherless)\n",
    "                if hasattr(deriv.term.t1, 't') and hasattr(deriv.term.t1.t, 'domID'):\n",
    "                    dep_name = deriv.term.t1.t.domID\n",
    "                    if dep_name != 'entity':  # Skip entity references\n",
    "                        dependencies.append(Node(name=dep_name, dependencies=[]))\n",
    "                \n",
    "                # Extract from t2 (typically biped)\n",
    "                if hasattr(deriv.term.t2, 't') and hasattr(deriv.term.t2.t, 'domID'):\n",
    "                    dep_name = deriv.term.t2.t.domID\n",
    "                    if dep_name != 'entity':  # Skip entity references\n",
    "                        dependencies.append(Node(name=dep_name, dependencies=[]))\n",
    "    \n",
    "    # Create the main node with its dependencies\n",
    "    return Node(name=type_name, dependencies=dependencies)"
   ]
  },
  {
   "cell_type": "code",
   "execution_count": 21,
   "id": "af423222-ae58-49a1-b49e-28bd2315f98d",
   "metadata": {},
   "outputs": [],
   "source": [
    "human_node = typeinfo_to_node(types_response.types[\"human\"], \"human\")"
   ]
  },
  {
   "cell_type": "code",
   "execution_count": 22,
   "id": "0a47189a-5930-4336-80d7-40bb49fd6491",
   "metadata": {},
   "outputs": [
    {
     "data": {
      "text/plain": [
       "Node(name='human', dependencies=['featherless', 'biped'])"
      ]
     },
     "execution_count": 22,
     "metadata": {},
     "output_type": "execute_result"
    }
   ],
   "source": [
    "human_node"
   ]
  },
  {
   "cell_type": "code",
   "execution_count": 29,
   "id": "c9af7c97-8f2b-4f79-8f28-e9872dbfab50",
   "metadata": {},
   "outputs": [],
   "source": [
    "import networkx as nx\n",
    "import matplotlib.pyplot as plt\n",
    "\n",
    "def visualize_node(node):\n",
    "    \"\"\"Visualize a Node and its dependencies as a graph.\"\"\"\n",
    "    # Create directed graph\n",
    "    G = nx.DiGraph()\n",
    "    \n",
    "    # Add the main node\n",
    "    G.add_node(node.name)\n",
    "    \n",
    "    # Add dependency nodes and edges\n",
    "    for dep in node.dependencies:\n",
    "        G.add_node(dep.name)\n",
    "        G.add_edge(node.name, dep.name)\n",
    "    \n",
    "    # Create figure\n",
    "    plt.figure(figsize=(8, 6))\n",
    "    \n",
    "    # Set node positions\n",
    "    pos = nx.spring_layout(G)\n",
    "    \n",
    "    # Draw nodes with labels\n",
    "    nx.draw(G, pos, with_labels=True, \n",
    "            node_color='white', \n",
    "            edgecolors='black',\n",
    "            node_size=1500, \n",
    "            font_size=10, \n",
    "            font_weight='normal',\n",
    "            width=1,\n",
    "            arrows=True, \n",
    "            arrowsize=15)"
   ]
  },
  {
   "cell_type": "code",
   "execution_count": 30,
   "id": "2ffdd1fa-bb79-4b67-a92f-437cb1959590",
   "metadata": {},
   "outputs": [
    {
     "data": {
      "image/png": "[encoded data removed]",
      "text/plain": [
       "<Figure size 800x600 with 1 Axes>"
      ]
     },
     "metadata": {},
     "output_type": "display_data"
    }
   ],
   "source": [
    "visualize_node(human_node)"
   ]
  },
  {
   "cell_type": "markdown",
   "id": "5e44b46a-612e-4a8c-9307-244cace1b3ee",
   "metadata": {},
   "source": [
    "I want to demonstrate this with an example from Dutch pension system, AOW."
   ]
  },
  {
   "cell_type": "markdown",
   "id": "542b9dcb-467d-4ce2-8cec-973b67ede98a",
   "metadata": {},
   "source": [
    "Model eFLINT file."
   ]
  },
  {
   "cell_type": "code",
   "execution_count": 31,
   "id": "a4ec850d-b79e-4951-848c-a468ff85cfdb",
   "metadata": {},
   "outputs": [
    {
     "data": {
      "text/plain": [
       "'{\"all-disabled-transitions\":[],\"all-duties\":[],\"all-enabled-transitions\":[],\"created_facts\":[],\"errors\":[],\"inst-query-results\":[],\"new-disabled-transitions\":[],\"new-duties\":[],\"new-enabled-transitions\":[],\"new-state\":15,\"old-state\":14,\"output-events\":[],\"query-results\":[],\"response\":\"success\",\"source_contents\":[],\"target_contents\":[],\"terminated-duties\":[],\"terminated_facts\":[],\"violations\":[]}\\n'"
      ]
     },
     "execution_count": 31,
     "metadata": {},
     "output_type": "execute_result"
    }
   ],
   "source": [
    "send_phrase(\"Var [Municipality] Identified by String\")\n",
    "send_phrase(\"Bool [AOW age attained]\")\n",
    "send_phrase(\"Bool [Applicant residing in Utrecht] Holds when [Municipality]('Utrecht')\")\n",
    "send_phrase(\"Bool [Children living at home]\")\n",
    "send_phrase(\"Bool [Single person]\")\n",
    "send_phrase(\"Var [Monthly income] Identified by Int\")\n",
    "send_phrase(\"Var [Assets] Identified by Int\")\n",
    "send_phrase(\"Bool [Older than 21]\")\n",
    "send_phrase(\"Var [Entitlement description]\")\n",
    "send_phrase(\"Var [Individual income supplement to be paid] Identified by Int\")"
   ]
  },
  {
   "cell_type": "markdown",
   "id": "3e40d1ea-4f28-4f4b-bba1-a0d295d2bff8",
   "metadata": {},
   "source": [
    "Parameter eFLINT file."
   ]
  },
  {
   "cell_type": "code",
   "execution_count": 32,
   "id": "9ff4490a-3d6d-41d0-a97e-3a13ac2ab3e0",
   "metadata": {},
   "outputs": [
    {
     "data": {
      "text/plain": [
       "'{\"all-disabled-transitions\":[],\"all-duties\":[],\"all-enabled-transitions\":[],\"created_facts\":[],\"errors\":[],\"inst-query-results\":[],\"new-disabled-transitions\":[],\"new-duties\":[],\"new-enabled-transitions\":[],\"new-state\":19,\"old-state\":18,\"output-events\":[],\"query-results\":[],\"response\":\"success\",\"source_contents\":[],\"target_contents\":[],\"terminated-duties\":[],\"terminated_facts\":[],\"violations\":[]}\\n'"
      ]
     },
     "execution_count": 32,
     "metadata": {},
     "output_type": "execute_result"
    }
   ],
   "source": [
    "send_phrase(\"Var [UPPER_LIMIT_INCOME_SINGLE] Identified by Int\")\n",
    "send_phrase(\"Var [UPPER_LIMIT_INCOME_NOT_SINGLE] Identified by Int\")\n",
    "send_phrase(\"Var [UPPER_LIMIT_ASSETS_LOW] Identified by Int\")\n",
    "send_phrase(\"Var [UPPER_LIMIT_ASSETS_HIGH] Identified by Int\")"
   ]
  },
  {
   "cell_type": "markdown",
   "id": "df18f141-6699-4a17-83c6-21dcf4630569",
   "metadata": {},
   "source": [
    "Now we need `create` function to create an instance in eFLINT server to set actual rules."
   ]
  },
  {
   "cell_type": "code",
   "execution_count": 33,
   "id": "e6a51383-256e-4d99-9316-64ec9d5997c6",
   "metadata": {},
   "outputs": [],
   "source": [
    "def create(fact_type, fact_value):\n",
    "    \"\"\"\n",
    "    Create a fact instance in eFLINT.\n",
    "    \n",
    "    Args:\n",
    "        fact_type: String with the fact type (e.g., \"UPPER_LIMIT_INCOME_SINGLE\")\n",
    "        fact_value: Value for the fact (integer or string)\n",
    "    \"\"\"\n",
    "    # Construct the ATOM object\n",
    "    value_obj = {\n",
    "        \"tagged-type\": \"Instance\",  # You may need to adjust this based on your eFLINT server\n",
    "        \"fact-type\": fact_type,\n",
    "        \"value\": fact_value,\n",
    "        \"textual\": f\"+{fact_type}({fact_value})\"\n",
    "    }\n",
    "    \n",
    "    command = {\n",
    "        \"command\": \"create\",\n",
    "        \"value\": value_obj\n",
    "    }\n",
    "    \n",
    "    return send_eflint_command(command)"
   ]
  },
  {
   "cell_type": "code",
   "execution_count": 34,
   "id": "ead9a470-6082-41c1-8210-443786881370",
   "metadata": {},
   "outputs": [
    {
     "data": {
      "text/plain": [
       "'{\"all-disabled-transitions\":[],\"all-duties\":[],\"all-enabled-transitions\":[],\"created_facts\":[{\"fact-type\":\"[UPPER_LIMIT_ASSETS_HIGH]\",\"tagged-type\":\"int\",\"textual\":\"[UPPER_LIMIT_ASSETS_HIGH](12450)\",\"value\":12450}],\"errors\":[],\"inst-query-results\":[],\"new-disabled-transitions\":[],\"new-duties\":[],\"new-enabled-transitions\":[],\"new-state\":23,\"old-state\":22,\"output-events\":[],\"query-results\":[],\"response\":\"success\",\"source_contents\":[{\"fact-type\":\"[UPPER_LIMIT_INCOME_SINGLE]\",\"tagged-type\":\"int\",\"textual\":\"[UPPER_LIMIT_INCOME_SINGLE](1207)\",\"value\":1207},{\"fact-type\":\"[UPPER_LIMIT_INCOME_NOT_SINGLE]\",\"tagged-type\":\"int\",\"textual\":\"[UPPER_LIMIT_INCOME_NOT_SINGLE](1724)\",\"value\":1724},{\"fact-type\":\"[UPPER_LIMIT_ASSETS_LOW]\",\"tagged-type\":\"int\",\"textual\":\"[UPPER_LIMIT_ASSETS_LOW](6225)\",\"value\":6225}],\"target_contents\":[{\"fact-type\":\"[UPPER_LIMIT_INCOME_SINGLE]\",\"tagged-type\":\"int\",\"textual\":\"[UPPER_LIMIT_INCOME_SINGLE](1207)\",\"value\":1207},{\"fact-type\":\"[UPPER_LIMIT_INCOME_NOT_SINGLE]\",\"tagged-type\":\"int\",\"textual\":\"[UPPER_LIMIT_INCOME_NOT_SINGLE](1724)\",\"value\":1724},{\"fact-type\":\"[UPPER_LIMIT_ASSETS_LOW]\",\"tagged-type\":\"int\",\"textual\":\"[UPPER_LIMIT_ASSETS_LOW](6225)\",\"value\":6225},{\"fact-type\":\"[UPPER_LIMIT_ASSETS_HIGH]\",\"tagged-type\":\"int\",\"textual\":\"[UPPER_LIMIT_ASSETS_HIGH](12450)\",\"value\":12450}],\"terminated-duties\":[],\"terminated_facts\":[],\"violations\":[]}\\n'"
      ]
     },
     "execution_count": 34,
     "metadata": {},
     "output_type": "execute_result"
    }
   ],
   "source": [
    "create(\"[UPPER_LIMIT_INCOME_SINGLE]\", 1207)\n",
    "create(\"[UPPER_LIMIT_INCOME_NOT_SINGLE]\", 1724)\n",
    "create(\"[UPPER_LIMIT_ASSETS_LOW]\", 6225)\n",
    "create(\"[UPPER_LIMIT_ASSETS_HIGH]\", 12450)"
   ]
  },
  {
   "cell_type": "markdown",
   "id": "ffbb48c4-b82c-4606-a343-5594789e5a97",
   "metadata": {},
   "source": [
    "Rechtenplichten eFLINT file."
   ]
  },
  {
   "cell_type": "code",
   "execution_count": 35,
   "id": "37adfedb-72dd-41d3-9f77-28286e8398c9",
   "metadata": {},
   "outputs": [
    {
     "data": {
      "text/plain": [
       "'{\"all-disabled-transitions\":[],\"all-duties\":[],\"all-enabled-transitions\":[],\"created_facts\":[],\"errors\":[],\"inst-query-results\":[],\"new-disabled-transitions\":[],\"new-duties\":[],\"new-enabled-transitions\":[],\"new-state\":26,\"old-state\":25,\"output-events\":[],\"query-results\":[],\"response\":\"success\",\"source_contents\":[{\"fact-type\":\"[UPPER_LIMIT_INCOME_SINGLE]\",\"tagged-type\":\"int\",\"textual\":\"[UPPER_LIMIT_INCOME_SINGLE](1207)\",\"value\":1207},{\"fact-type\":\"[UPPER_LIMIT_INCOME_NOT_SINGLE]\",\"tagged-type\":\"int\",\"textual\":\"[UPPER_LIMIT_INCOME_NOT_SINGLE](1724)\",\"value\":1724},{\"fact-type\":\"[UPPER_LIMIT_ASSETS_LOW]\",\"tagged-type\":\"int\",\"textual\":\"[UPPER_LIMIT_ASSETS_LOW](6225)\",\"value\":6225},{\"fact-type\":\"[UPPER_LIMIT_ASSETS_HIGH]\",\"tagged-type\":\"int\",\"textual\":\"[UPPER_LIMIT_ASSETS_HIGH](12450)\",\"value\":12450}],\"target_contents\":[{\"fact-type\":\"[UPPER_LIMIT_INCOME_SINGLE]\",\"tagged-type\":\"int\",\"textual\":\"[UPPER_LIMIT_INCOME_SINGLE](1207)\",\"value\":1207},{\"fact-type\":\"[UPPER_LIMIT_INCOME_NOT_SINGLE]\",\"tagged-type\":\"int\",\"textual\":\"[UPPER_LIMIT_INCOME_NOT_SINGLE](1724)\",\"value\":1724},{\"fact-type\":\"[UPPER_LIMIT_ASSETS_LOW]\",\"tagged-type\":\"int\",\"textual\":\"[UPPER_LIMIT_ASSETS_LOW](6225)\",\"value\":6225},{\"fact-type\":\"[UPPER_LIMIT_ASSETS_HIGH]\",\"tagged-type\":\"int\",\"textual\":\"[UPPER_LIMIT_ASSETS_HIGH](12450)\",\"value\":12450}],\"terminated-duties\":[],\"terminated_facts\":[],\"violations\":[]}\\n'"
      ]
     },
     "execution_count": 35,
     "metadata": {},
     "output_type": "execute_result"
    }
   ],
   "source": [
    "send_phrase(\"Fact applicant Identified by Applicant\")\n",
    "send_phrase(\"Fact case_handler Identified by CaseHandler\")\n",
    "send_phrase(\"Fact application Identified by applicant\")"
   ]
  },
  {
   "cell_type": "code",
   "execution_count": 36,
   "id": "a98b9bc7-72c7-4ea7-aecf-c83c1a056fcd",
   "metadata": {},
   "outputs": [
    {
     "data": {
      "text/plain": [
       "'{\"all-disabled-transitions\":[],\"all-duties\":[],\"all-enabled-transitions\":[],\"created_facts\":[],\"errors\":[],\"inst-query-results\":[],\"new-disabled-transitions\":[],\"new-duties\":[],\"new-enabled-transitions\":[],\"new-state\":29,\"old-state\":28,\"output-events\":[],\"query-results\":[],\"response\":\"success\",\"source_contents\":[{\"fact-type\":\"[UPPER_LIMIT_INCOME_SINGLE]\",\"tagged-type\":\"int\",\"textual\":\"[UPPER_LIMIT_INCOME_SINGLE](1207)\",\"value\":1207},{\"fact-type\":\"[UPPER_LIMIT_INCOME_NOT_SINGLE]\",\"tagged-type\":\"int\",\"textual\":\"[UPPER_LIMIT_INCOME_NOT_SINGLE](1724)\",\"value\":1724},{\"fact-type\":\"[UPPER_LIMIT_ASSETS_LOW]\",\"tagged-type\":\"int\",\"textual\":\"[UPPER_LIMIT_ASSETS_LOW](6225)\",\"value\":6225},{\"fact-type\":\"[UPPER_LIMIT_ASSETS_HIGH]\",\"tagged-type\":\"int\",\"textual\":\"[UPPER_LIMIT_ASSETS_HIGH](12450)\",\"value\":12450}],\"target_contents\":[{\"fact-type\":\"[UPPER_LIMIT_INCOME_SINGLE]\",\"tagged-type\":\"int\",\"textual\":\"[UPPER_LIMIT_INCOME_SINGLE](1207)\",\"value\":1207},{\"fact-type\":\"[UPPER_LIMIT_INCOME_NOT_SINGLE]\",\"tagged-type\":\"int\",\"textual\":\"[UPPER_LIMIT_INCOME_NOT_SINGLE](1724)\",\"value\":1724},{\"fact-type\":\"[UPPER_LIMIT_ASSETS_LOW]\",\"tagged-type\":\"int\",\"textual\":\"[UPPER_LIMIT_ASSETS_LOW](6225)\",\"value\":6225},{\"fact-type\":\"[UPPER_LIMIT_ASSETS_HIGH]\",\"tagged-type\":\"int\",\"textual\":\"[UPPER_LIMIT_ASSETS_HIGH](12450)\",\"value\":12450}],\"terminated-duties\":[],\"terminated_facts\":[],\"violations\":[]}\\n'"
      ]
     },
     "execution_count": 36,
     "metadata": {},
     "output_type": "execute_result"
    }
   ],
   "source": [
    "send_phrase(\"Fact age Identified by 0..100\")\n",
    "send_phrase(\"Fact children Identified by 0..10\")\n",
    "send_phrase(\"Fact status Identified by Married, Registered, None\")"
   ]
  },
  {
   "cell_type": "code",
   "execution_count": 37,
   "id": "bae6c4b0-ca83-4288-9dab-77101b8e0444",
   "metadata": {},
   "outputs": [
    {
     "data": {
      "text/plain": [
       "'{\"all-disabled-transitions\":[],\"all-duties\":[],\"all-enabled-transitions\":[],\"created_facts\":[],\"errors\":[],\"inst-query-results\":[],\"new-disabled-transitions\":[],\"new-duties\":[],\"new-enabled-transitions\":[],\"new-state\":33,\"old-state\":32,\"output-events\":[],\"query-results\":[],\"response\":\"success\",\"source_contents\":[{\"fact-type\":\"[UPPER_LIMIT_INCOME_SINGLE]\",\"tagged-type\":\"int\",\"textual\":\"[UPPER_LIMIT_INCOME_SINGLE](1207)\",\"value\":1207},{\"fact-type\":\"[UPPER_LIMIT_INCOME_NOT_SINGLE]\",\"tagged-type\":\"int\",\"textual\":\"[UPPER_LIMIT_INCOME_NOT_SINGLE](1724)\",\"value\":1724},{\"fact-type\":\"[UPPER_LIMIT_ASSETS_LOW]\",\"tagged-type\":\"int\",\"textual\":\"[UPPER_LIMIT_ASSETS_LOW](6225)\",\"value\":6225},{\"fact-type\":\"[UPPER_LIMIT_ASSETS_HIGH]\",\"tagged-type\":\"int\",\"textual\":\"[UPPER_LIMIT_ASSETS_HIGH](12450)\",\"value\":12450}],\"target_contents\":[{\"fact-type\":\"[UPPER_LIMIT_INCOME_SINGLE]\",\"tagged-type\":\"int\",\"textual\":\"[UPPER_LIMIT_INCOME_SINGLE](1207)\",\"value\":1207},{\"fact-type\":\"[UPPER_LIMIT_INCOME_NOT_SINGLE]\",\"tagged-type\":\"int\",\"textual\":\"[UPPER_LIMIT_INCOME_NOT_SINGLE](1724)\",\"value\":1724},{\"fact-type\":\"[UPPER_LIMIT_ASSETS_LOW]\",\"tagged-type\":\"int\",\"textual\":\"[UPPER_LIMIT_ASSETS_LOW](6225)\",\"value\":6225},{\"fact-type\":\"[UPPER_LIMIT_ASSETS_HIGH]\",\"tagged-type\":\"int\",\"textual\":\"[UPPER_LIMIT_ASSETS_HIGH](12450)\",\"value\":12450}],\"terminated-duties\":[],\"terminated_facts\":[],\"violations\":[]}\\n'"
      ]
     },
     "execution_count": 37,
     "metadata": {},
     "output_type": "execute_result"
    }
   ],
   "source": [
    "send_phrase(\"\"\"Fact [Eligible for IIS] Identified by applicant\"\"\")\n",
    "send_phrase(\"\"\"Fact [Eligible for IIS] Holds when [Applicant residing in Utrecht]\"\"\")\n",
    "send_phrase(\"\"\"Fact [Eligible for IIS] Holds when [Eligible for IIS] && [AOW age attained]\"\"\")\n",
    "send_phrase(\"\"\"Fact [Eligible for IIS] Holds when [Eligible for IIS] && [Older than 21]\"\"\")"
   ]
  },
  {
   "cell_type": "code",
   "execution_count": 38,
   "id": "664b2d19-0bb7-46f9-8f95-30a67f1ff0ee",
   "metadata": {},
   "outputs": [
    {
     "data": {
      "text/plain": [
       "'{\"all-disabled-transitions\":[],\"all-duties\":[],\"all-enabled-transitions\":[],\"created_facts\":[],\"errors\":[],\"inst-query-results\":[],\"new-disabled-transitions\":[],\"new-duties\":[],\"new-enabled-transitions\":[],\"new-state\":35,\"old-state\":34,\"output-events\":[],\"query-results\":[],\"response\":\"success\",\"source_contents\":[{\"fact-type\":\"[UPPER_LIMIT_INCOME_SINGLE]\",\"tagged-type\":\"int\",\"textual\":\"[UPPER_LIMIT_INCOME_SINGLE](1207)\",\"value\":1207},{\"fact-type\":\"[UPPER_LIMIT_INCOME_NOT_SINGLE]\",\"tagged-type\":\"int\",\"textual\":\"[UPPER_LIMIT_INCOME_NOT_SINGLE](1724)\",\"value\":1724},{\"fact-type\":\"[UPPER_LIMIT_ASSETS_LOW]\",\"tagged-type\":\"int\",\"textual\":\"[UPPER_LIMIT_ASSETS_LOW](6225)\",\"value\":6225},{\"fact-type\":\"[UPPER_LIMIT_ASSETS_HIGH]\",\"tagged-type\":\"int\",\"textual\":\"[UPPER_LIMIT_ASSETS_HIGH](12450)\",\"value\":12450}],\"target_contents\":[{\"fact-type\":\"[UPPER_LIMIT_INCOME_SINGLE]\",\"tagged-type\":\"int\",\"textual\":\"[UPPER_LIMIT_INCOME_SINGLE](1207)\",\"value\":1207},{\"fact-type\":\"[UPPER_LIMIT_INCOME_NOT_SINGLE]\",\"tagged-type\":\"int\",\"textual\":\"[UPPER_LIMIT_INCOME_NOT_SINGLE](1724)\",\"value\":1724},{\"fact-type\":\"[UPPER_LIMIT_ASSETS_LOW]\",\"tagged-type\":\"int\",\"textual\":\"[UPPER_LIMIT_ASSETS_LOW](6225)\",\"value\":6225},{\"fact-type\":\"[UPPER_LIMIT_ASSETS_HIGH]\",\"tagged-type\":\"int\",\"textual\":\"[UPPER_LIMIT_ASSETS_HIGH](12450)\",\"value\":12450}],\"terminated-duties\":[],\"terminated_facts\":[],\"violations\":[]}\\n'"
      ]
     },
     "execution_count": 38,
     "metadata": {},
     "output_type": "execute_result"
    }
   ],
   "source": [
    "send_phrase(\"\"\"Fact [Income eligible] Holds when ([Single person] && [Monthly income] < [UPPER_LIMIT_INCOME_SINGLE]) || (![Single person] && [Monthly income] < [UPPER_LIMIT_INCOME_NOT_SINGLE])\"\"\")\n",
    "send_phrase(\"\"\"Fact [Eligible for IIS] Holds when [Eligible for IIS] && [Income eligible]\"\"\")"
   ]
  },
  {
   "cell_type": "code",
   "execution_count": 39,
   "id": "2facd5e1-2a7d-4843-a8a0-3b4343ca1c06",
   "metadata": {},
   "outputs": [
    {
     "data": {
      "text/plain": [
       "'{\"all-disabled-transitions\":[],\"all-duties\":[],\"all-enabled-transitions\":[],\"created_facts\":[],\"errors\":[],\"inst-query-results\":[],\"new-disabled-transitions\":[],\"new-duties\":[],\"new-enabled-transitions\":[],\"new-state\":37,\"old-state\":36,\"output-events\":[],\"query-results\":[],\"response\":\"success\",\"source_contents\":[{\"fact-type\":\"[UPPER_LIMIT_INCOME_SINGLE]\",\"tagged-type\":\"int\",\"textual\":\"[UPPER_LIMIT_INCOME_SINGLE](1207)\",\"value\":1207},{\"fact-type\":\"[UPPER_LIMIT_INCOME_NOT_SINGLE]\",\"tagged-type\":\"int\",\"textual\":\"[UPPER_LIMIT_INCOME_NOT_SINGLE](1724)\",\"value\":1724},{\"fact-type\":\"[UPPER_LIMIT_ASSETS_LOW]\",\"tagged-type\":\"int\",\"textual\":\"[UPPER_LIMIT_ASSETS_LOW](6225)\",\"value\":6225},{\"fact-type\":\"[UPPER_LIMIT_ASSETS_HIGH]\",\"tagged-type\":\"int\",\"textual\":\"[UPPER_LIMIT_ASSETS_HIGH](12450)\",\"value\":12450}],\"target_contents\":[{\"fact-type\":\"[UPPER_LIMIT_INCOME_SINGLE]\",\"tagged-type\":\"int\",\"textual\":\"[UPPER_LIMIT_INCOME_SINGLE](1207)\",\"value\":1207},{\"fact-type\":\"[UPPER_LIMIT_INCOME_NOT_SINGLE]\",\"tagged-type\":\"int\",\"textual\":\"[UPPER_LIMIT_INCOME_NOT_SINGLE](1724)\",\"value\":1724},{\"fact-type\":\"[UPPER_LIMIT_ASSETS_LOW]\",\"tagged-type\":\"int\",\"textual\":\"[UPPER_LIMIT_ASSETS_LOW](6225)\",\"value\":6225},{\"fact-type\":\"[UPPER_LIMIT_ASSETS_HIGH]\",\"tagged-type\":\"int\",\"textual\":\"[UPPER_LIMIT_ASSETS_HIGH](12450)\",\"value\":12450}],\"terminated-duties\":[],\"terminated_facts\":[],\"violations\":[]}\\n'"
      ]
     },
     "execution_count": 39,
     "metadata": {},
     "output_type": "execute_result"
    }
   ],
   "source": [
    "send_phrase(\"\"\"Fact [Assets eligible] Holds when ([Children living at home] && [Assets] < [UPPER_LIMIT_ASSETS_HIGH]) || (![Children living at home] && [Assets] < [UPPER_LIMIT_ASSETS_LOW])\"\"\")\n",
    "send_phrase(\"\"\"Fact [Eligible for IIS] Holds when [Eligible for IIS] && [Assets eligible]\"\"\")"
   ]
  },
  {
   "cell_type": "code",
   "execution_count": 138,
   "id": "ec98adb4-d42f-44ba-a37b-0225484e8a45",
   "metadata": {},
   "outputs": [
    {
     "data": {
      "text/plain": [
       "'{\"error\":\"Unsuccessful parse, showing 1 furthest matches\\\\ndid not match at position 2, where we find Derives[Individual income supplement to be paid]WhenTrueThen\\\\n    Found Derives AKA altid(\\\\\"Derives\\\\\")\\\\n    expected:\\\\n        . AKA keychar(\\'.\\')\\\\n        } AKA keychar(\\'}\\')\\\\n        Act AKA keyword(\\\\\"Act\\\\\")\\\\n        Bool AKA keyword(\\\\\"Bool\\\\\")\\\\n        Closed AKA keyword(\\\\\"Closed\\\\\")\\\\n        Conditioned by AKA keyword(\\\\\"Conditioned by\\\\\")\\\\n        Derived from AKA keyword(\\\\\"Derived from\\\\\")\\\\n        Duty AKA keyword(\\\\\"Duty\\\\\")\\\\n        Event AKA keyword(\\\\\"Event\\\\\")\\\\n        Extend AKA keyword(\\\\\"Extend\\\\\")\\\\n        Fact AKA keyword(\\\\\"Fact\\\\\")\\\\n        Function AKA keyword(\\\\\"Function\\\\\")\\\\n        Holds AKA keyword(\\\\\"Holds\\\\\")\\\\n        Holds when AKA keyword(\\\\\"Holds when\\\\\")\\\\n        Identified by AKA keyword(\\\\\"Identified by\\\\\")\\\\n        Invariant AKA keyword(\\\\\"Invariant\\\\\")\\\\n        Open AKA keyword(\\\\\"Open\\\\\")\\\\n        Physical AKA keyword(\\\\\"Physical\\\\\")\\\\n        Placeholder AKA keyword(\\\\\"Placeholder\\\\\")\\\\n        Predicate AKA keyword(\\\\\"Predicate\\\\\")\\\\n        Present AKA keyword(\\\\\"Present\\\\\")\\\\n        Present when AKA keyword(\\\\\"Present when\\\\\")\\\\n        Var AKA keyword(\\\\\"Var\\\\\")\\\\n        When AKA keyword(\\\\\"When\\\\\")\\\\n        Where AKA keyword(\\\\\"Where\\\\\")\\\\n         AKA <end-of-string>\",\"response\":\"invalid input\"}\\n'"
      ]
     },
     "execution_count": 138,
     "metadata": {},
     "output_type": "execute_result"
    }
   ],
   "source": [
    "send_phrase(\"\"\"Fact [Single supplement] Identified by Int Holds when [Eligible for IIS] && [Single person]\"\"\")\n",
    "send_phrase(\"\"\"Fact [Single supplement] Derives [Individual income supplement to be paid] When True Then [UPPER_LIMIT_INCOME_SINGLE] - [Monthly income] End\"\"\")"
   ]
  },
  {
   "cell_type": "code",
   "execution_count": 139,
   "id": "7980a475-f7f4-43a1-9368-4190da51243c",
   "metadata": {},
   "outputs": [
    {
     "data": {
      "text/plain": [
       "'{\"error\":\"Unsuccessful parse, showing 1 furthest matches\\\\ndid not match at position 2, where we find Derives[Individual income supplement to be paid]WhenTrueThen\\\\n    Found Derives AKA altid(\\\\\"Derives\\\\\")\\\\n    expected:\\\\n        . AKA keychar(\\'.\\')\\\\n        } AKA keychar(\\'}\\')\\\\n        Act AKA keyword(\\\\\"Act\\\\\")\\\\n        Bool AKA keyword(\\\\\"Bool\\\\\")\\\\n        Closed AKA keyword(\\\\\"Closed\\\\\")\\\\n        Conditioned by AKA keyword(\\\\\"Conditioned by\\\\\")\\\\n        Derived from AKA keyword(\\\\\"Derived from\\\\\")\\\\n        Duty AKA keyword(\\\\\"Duty\\\\\")\\\\n        Event AKA keyword(\\\\\"Event\\\\\")\\\\n        Extend AKA keyword(\\\\\"Extend\\\\\")\\\\n        Fact AKA keyword(\\\\\"Fact\\\\\")\\\\n        Function AKA keyword(\\\\\"Function\\\\\")\\\\n        Holds AKA keyword(\\\\\"Holds\\\\\")\\\\n        Holds when AKA keyword(\\\\\"Holds when\\\\\")\\\\n        Identified by AKA keyword(\\\\\"Identified by\\\\\")\\\\n        Invariant AKA keyword(\\\\\"Invariant\\\\\")\\\\n        Open AKA keyword(\\\\\"Open\\\\\")\\\\n        Physical AKA keyword(\\\\\"Physical\\\\\")\\\\n        Placeholder AKA keyword(\\\\\"Placeholder\\\\\")\\\\n        Predicate AKA keyword(\\\\\"Predicate\\\\\")\\\\n        Present AKA keyword(\\\\\"Present\\\\\")\\\\n        Present when AKA keyword(\\\\\"Present when\\\\\")\\\\n        Var AKA keyword(\\\\\"Var\\\\\")\\\\n        When AKA keyword(\\\\\"When\\\\\")\\\\n        Where AKA keyword(\\\\\"Where\\\\\")\\\\n         AKA <end-of-string>\",\"response\":\"invalid input\"}\\n'"
      ]
     },
     "execution_count": 139,
     "metadata": {},
     "output_type": "execute_result"
    }
   ],
   "source": [
    "send_phrase(\"\"\"Fact [Non single supplement] Identified by Int Holds when [Eligible for IIS] && ![Single person]\"\"\")\n",
    "send_phrase(\"\"\"Fact [Non single supplement] Derives [Individual income supplement to be paid] When True Then [UPPER_LIMIT_INCOME_NOT_SINGLE] - [Monthly income] End\"\"\")"
   ]
  },
  {
   "cell_type": "code",
   "execution_count": 140,
   "id": "57299aef-c329-4f4c-b663-b5a5f9ead406",
   "metadata": {},
   "outputs": [
    {
     "data": {
      "text/plain": [
       "'{\"error\":\"Unsuccessful parse, showing 1 furthest matches\\\\ndid not match at position 2, where we find Derives[Entitlement description]WhenTrueThen\\\\n    Found Derives AKA altid(\\\\\"Derives\\\\\")\\\\n    expected:\\\\n        . AKA keychar(\\'.\\')\\\\n        } AKA keychar(\\'}\\')\\\\n        Act AKA keyword(\\\\\"Act\\\\\")\\\\n        Bool AKA keyword(\\\\\"Bool\\\\\")\\\\n        Closed AKA keyword(\\\\\"Closed\\\\\")\\\\n        Conditioned by AKA keyword(\\\\\"Conditioned by\\\\\")\\\\n        Derived from AKA keyword(\\\\\"Derived from\\\\\")\\\\n        Duty AKA keyword(\\\\\"Duty\\\\\")\\\\n        Event AKA keyword(\\\\\"Event\\\\\")\\\\n        Extend AKA keyword(\\\\\"Extend\\\\\")\\\\n        Fact AKA keyword(\\\\\"Fact\\\\\")\\\\n        Function AKA keyword(\\\\\"Function\\\\\")\\\\n        Holds AKA keyword(\\\\\"Holds\\\\\")\\\\n        Holds when AKA keyword(\\\\\"Holds when\\\\\")\\\\n        Identified by AKA keyword(\\\\\"Identified by\\\\\")\\\\n        Invariant AKA keyword(\\\\\"Invariant\\\\\")\\\\n        Open AKA keyword(\\\\\"Open\\\\\")\\\\n        Physical AKA keyword(\\\\\"Physical\\\\\")\\\\n        Placeholder AKA keyword(\\\\\"Placeholder\\\\\")\\\\n        Predicate AKA keyword(\\\\\"Predicate\\\\\")\\\\n        Present AKA keyword(\\\\\"Present\\\\\")\\\\n        Present when AKA keyword(\\\\\"Present when\\\\\")\\\\n        Var AKA keyword(\\\\\"Var\\\\\")\\\\n        When AKA keyword(\\\\\"When\\\\\")\\\\n        Where AKA keyword(\\\\\"Where\\\\\")\\\\n         AKA <end-of-string>\",\"response\":\"invalid input\"}\\n'"
      ]
     },
     "execution_count": 140,
     "metadata": {},
     "output_type": "execute_result"
    }
   ],
   "source": [
    "send_phrase(\"\"\"Fact [Set entitlement] Identified by String Holds when [Eligible for IIS]\"\"\")\n",
    "send_phrase(\"\"\"Fact [Set entitlement] Derives [Entitlement description] When True Then \"Entitled to individual income supplement\" End\"\"\")"
   ]
  },
  {
   "cell_type": "code",
   "execution_count": 141,
   "id": "146a1129-f641-4d75-bedd-246f71780005",
   "metadata": {},
   "outputs": [
    {
     "data": {
      "text/plain": [
       "'{\"all-disabled-transitions\":[],\"all-duties\":[],\"all-enabled-transitions\":[],\"created_facts\":[],\"errors\":[{\"error\":\"Undeclared type or placeholder `[IIS decision]`\\\\n\",\"error-type\":\"compilation error\"}],\"inst-query-results\":[],\"new-disabled-transitions\":[],\"new-duties\":[],\"new-enabled-transitions\":[],\"new-state\":66,\"old-state\":66,\"output-events\":[],\"query-results\":[],\"response\":\"success\",\"source_contents\":[{\"fact-type\":\"[UPPER_LIMIT_INCOME_SINGLE]\",\"tagged-type\":\"int\",\"textual\":\"[UPPER_LIMIT_INCOME_SINGLE](1207)\",\"value\":1207},{\"fact-type\":\"[UPPER_LIMIT_INCOME_NOT_SINGLE]\",\"tagged-type\":\"int\",\"textual\":\"[UPPER_LIMIT_INCOME_NOT_SINGLE](1724)\",\"value\":1724},{\"fact-type\":\"[UPPER_LIMIT_ASSETS_LOW]\",\"tagged-type\":\"int\",\"textual\":\"[UPPER_LIMIT_ASSETS_LOW](6225)\",\"value\":6225},{\"fact-type\":\"[UPPER_LIMIT_ASSETS_HIGH]\",\"tagged-type\":\"int\",\"textual\":\"[UPPER_LIMIT_ASSETS_HIGH](12450)\",\"value\":12450}],\"target_contents\":[{\"fact-type\":\"[UPPER_LIMIT_INCOME_SINGLE]\",\"tagged-type\":\"int\",\"textual\":\"[UPPER_LIMIT_INCOME_SINGLE](1207)\",\"value\":1207},{\"fact-type\":\"[UPPER_LIMIT_INCOME_NOT_SINGLE]\",\"tagged-type\":\"int\",\"textual\":\"[UPPER_LIMIT_INCOME_NOT_SINGLE](1724)\",\"value\":1724},{\"fact-type\":\"[UPPER_LIMIT_ASSETS_LOW]\",\"tagged-type\":\"int\",\"textual\":\"[UPPER_LIMIT_ASSETS_LOW](6225)\",\"value\":6225},{\"fact-type\":\"[UPPER_LIMIT_ASSETS_HIGH]\",\"tagged-type\":\"int\",\"textual\":\"[UPPER_LIMIT_ASSETS_HIGH](12450)\",\"value\":12450}],\"terminated-duties\":[],\"terminated_facts\":[],\"violations\":[]}\\n'"
      ]
     },
     "execution_count": 141,
     "metadata": {},
     "output_type": "execute_result"
    }
   ],
   "source": [
    "send_phrase(\"\"\"Act approve-application Actor case_handler Recipient applicant\"\"\")\n",
    "send_phrase(\"\"\"Act approve-application Conditioned by [Eligible for IIS]\"\"\")\n",
    "send_phrase(\"\"\"Act approve-application Creates [IIS granted](applicant, [Individual income supplement to be paid])\"\"\")\n",
    "send_phrase(\"\"\"Act approve-application Creates [IIS decision](applicant, [Entitlement description])\"\"\")"
   ]
  },
  {
   "cell_type": "code",
   "execution_count": 142,
   "id": "24a407f9-46a7-4e8f-b49b-a805a626b597",
   "metadata": {},
   "outputs": [
    {
     "data": {
      "text/plain": [
       "'{\"all-disabled-transitions\":[],\"all-duties\":[],\"all-enabled-transitions\":[],\"created_facts\":[],\"errors\":[{\"error\":\"Undeclared type or placeholder `[IIS decision]`\\\\n\",\"error-type\":\"compilation error\"}],\"inst-query-results\":[],\"new-disabled-transitions\":[],\"new-duties\":[],\"new-enabled-transitions\":[],\"new-state\":68,\"old-state\":68,\"output-events\":[],\"query-results\":[],\"response\":\"success\",\"source_contents\":[{\"fact-type\":\"[UPPER_LIMIT_INCOME_SINGLE]\",\"tagged-type\":\"int\",\"textual\":\"[UPPER_LIMIT_INCOME_SINGLE](1207)\",\"value\":1207},{\"fact-type\":\"[UPPER_LIMIT_INCOME_NOT_SINGLE]\",\"tagged-type\":\"int\",\"textual\":\"[UPPER_LIMIT_INCOME_NOT_SINGLE](1724)\",\"value\":1724},{\"fact-type\":\"[UPPER_LIMIT_ASSETS_LOW]\",\"tagged-type\":\"int\",\"textual\":\"[UPPER_LIMIT_ASSETS_LOW](6225)\",\"value\":6225},{\"fact-type\":\"[UPPER_LIMIT_ASSETS_HIGH]\",\"tagged-type\":\"int\",\"textual\":\"[UPPER_LIMIT_ASSETS_HIGH](12450)\",\"value\":12450}],\"target_contents\":[{\"fact-type\":\"[UPPER_LIMIT_INCOME_SINGLE]\",\"tagged-type\":\"int\",\"textual\":\"[UPPER_LIMIT_INCOME_SINGLE](1207)\",\"value\":1207},{\"fact-type\":\"[UPPER_LIMIT_INCOME_NOT_SINGLE]\",\"tagged-type\":\"int\",\"textual\":\"[UPPER_LIMIT_INCOME_NOT_SINGLE](1724)\",\"value\":1724},{\"fact-type\":\"[UPPER_LIMIT_ASSETS_LOW]\",\"tagged-type\":\"int\",\"textual\":\"[UPPER_LIMIT_ASSETS_LOW](6225)\",\"value\":6225},{\"fact-type\":\"[UPPER_LIMIT_ASSETS_HIGH]\",\"tagged-type\":\"int\",\"textual\":\"[UPPER_LIMIT_ASSETS_HIGH](12450)\",\"value\":12450}],\"terminated-duties\":[],\"terminated_facts\":[],\"violations\":[]}\\n'"
      ]
     },
     "execution_count": 142,
     "metadata": {},
     "output_type": "execute_result"
    }
   ],
   "source": [
    "send_phrase(\"\"\"Act reject-application Actor case_handler Recipient applicant\"\"\")\n",
    "send_phrase(\"\"\"Act reject-application Conditioned by ![Eligible for IIS]\"\"\")\n",
    "send_phrase(\"\"\"Act reject-application Creates [IIS decision](applicant, \"Entitlement to IIS €0\")\"\"\")"
   ]
  },
  {
   "cell_type": "code",
   "execution_count": null,
   "id": "21dc30e4-9072-4f54-8d08-914c0810b5f5",
   "metadata": {},
   "outputs": [],
   "source": []
  }
 ],
 "metadata": {
  "kernelspec": {
   "display_name": "Python 3 (ipykernel)",
   "language": "python",
   "name": "python3"
  },
  "language_info": {
   "codemirror_mode": {
    "name": "ipython",
    "version": 3
   },
   "file_extension": ".py",
   "mimetype": "text/x-python",
   "name": "python",
   "nbconvert_exporter": "python",
   "pygments_lexer": "ipython3",
   "version": "3.13.3"
  }
 },
 "nbformat": 4,
 "nbformat_minor": 5
}
