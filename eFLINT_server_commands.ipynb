{
 "cells": [
  {
   "cell_type": "markdown",
   "id": "4d7a1162-5713-4a41-b9e5-0ba66c9a7928",
   "metadata": {},
   "source": [
    "# eFLINT exploration notebook"
   ]
  },
  {
   "cell_type": "markdown",
   "id": "adc7ca5e-0560-4aa9-b06b-78329d405fd4",
   "metadata": {},
   "source": [
    "eFLINT can be communicated with through commandlines, for example this is a command to getting the server status."
   ]
  },
  {
   "cell_type": "code",
   "id": "f4ec0ca7-6747-4d65-9a04-4455584c2b8d",
   "metadata": {
    "ExecuteTime": {
     "end_time": "2025-05-23T14:25:10.323033Z",
     "start_time": "2025-05-23T14:25:10.114223Z"
    }
   },
   "source": [
    "from networkx.algorithms.bipartite.cluster import modes\n",
    "!echo '{ \"command\": \"status\" }' | nc localhost 8080"
   ],
   "outputs": [
    {
     "name": "stdout",
     "output_type": "stream",
     "text": [
      "{\"all-disabled-transitions\":[],\"all-duties\":[],\"all-enabled-transitions\":[],\"created_facts\":[],\"errors\":[],\"inst-query-results\":[],\"new-disabled-transitions\":[],\"new-duties\":[],\"new-enabled-transitions\":[],\"new-state\":335,\"old-state\":334,\"output-events\":[],\"query-results\":[],\"response\":\"success\",\"source_contents\":[],\"target_contents\":[],\"terminated-duties\":[],\"terminated_facts\":[],\"violations\":[]}\r\n"
     ]
    }
   ],
   "execution_count": 1
  },
  {
   "cell_type": "markdown",
   "id": "13c5c953-d15d-4061-9ff9-1a7805a4cc36",
   "metadata": {},
   "source": "First we have to set up python to be able to communicate with eFLINT server through command lines"
  },
  {
   "cell_type": "code",
   "id": "206f39ce-5d1c-489f-94fe-99f73bdcb729",
   "metadata": {
    "ExecuteTime": {
     "end_time": "2025-05-23T14:25:10.352114Z",
     "start_time": "2025-05-23T14:25:10.332398Z"
    }
   },
   "source": [
    "import subprocess\n",
    "\n",
    "cmd = '''echo '{ \"command\": \"status\" }' | nc localhost 8080'''\n",
    "result = subprocess.check_output(cmd, shell=True, text=True)\n",
    "\n",
    "print(\"eFLINT replied with:\")\n",
    "print(result)"
   ],
   "outputs": [
    {
     "name": "stdout",
     "output_type": "stream",
     "text": [
      "eFLINT replied with:\n",
      "{\"all-disabled-transitions\":[],\"all-duties\":[],\"all-enabled-transitions\":[],\"created_facts\":[],\"errors\":[],\"inst-query-results\":[],\"new-disabled-transitions\":[],\"new-duties\":[],\"new-enabled-transitions\":[],\"new-state\":335,\"old-state\":334,\"output-events\":[],\"query-results\":[],\"response\":\"success\",\"source_contents\":[],\"target_contents\":[],\"terminated-duties\":[],\"terminated_facts\":[],\"violations\":[]}\n",
      "\n"
     ]
    }
   ],
   "execution_count": 2
  },
  {
   "cell_type": "markdown",
   "id": "4911eae9-b25c-499c-a28a-cec78dae3878",
   "metadata": {},
   "source": [
    "Now we want to parse these response into data structure or a class in python"
   ]
  },
  {
   "cell_type": "markdown",
   "id": "8b84bf2c-ea7b-42a0-834a-34e316a9c622",
   "metadata": {},
   "source": "This is a hard coded, we would prefer it to be a class. To make Jupyter notebook reload my EF class, we will use `importlib` package.\n"
  },
  {
   "cell_type": "code",
   "id": "b4f8ad24-672f-4bf1-81eb-a3c5ecd85a6b",
   "metadata": {
    "ExecuteTime": {
     "end_time": "2025-05-23T14:25:10.424913Z",
     "start_time": "2025-05-23T14:25:10.422748Z"
    }
   },
   "source": [
    "\n",
    "from eflint import eflint_lib, eflint_parser\n",
    "import importlib\n",
    "\n",
    "importlib.reload(eflint_lib)\n",
    "\n",
    "from eflint.eflint_lib import EF\n",
    "\n",
    "ef = EF()"
   ],
   "outputs": [],
   "execution_count": 3
  },
  {
   "cell_type": "markdown",
   "id": "dc0a55b6-a0b4-4ac5-bca3-e2cb5fe5d559",
   "metadata": {},
   "source": [
    "Now verify it."
   ]
  },
  {
   "cell_type": "code",
   "id": "08f2e748-6f28-4871-ad19-f621a0dad415",
   "metadata": {
    "ExecuteTime": {
     "end_time": "2025-05-23T14:25:10.444260Z",
     "start_time": "2025-05-23T14:25:10.430576Z"
    }
   },
   "source": [
    "response = ef.send_eflint_command({\"command\": \"status\"})\n",
    "print(\"eFLINT from function replied with: \" + result)"
   ],
   "outputs": [
    {
     "name": "stdout",
     "output_type": "stream",
     "text": [
      "eFLINT from function replied with: {\"all-disabled-transitions\":[],\"all-duties\":[],\"all-enabled-transitions\":[],\"created_facts\":[],\"errors\":[],\"inst-query-results\":[],\"new-disabled-transitions\":[],\"new-duties\":[],\"new-enabled-transitions\":[],\"new-state\":335,\"old-state\":334,\"output-events\":[],\"query-results\":[],\"response\":\"success\",\"source_contents\":[],\"target_contents\":[],\"terminated-duties\":[],\"terminated_facts\":[],\"violations\":[]}\n",
      "\n"
     ]
    }
   ],
   "execution_count": 4
  },
  {
   "cell_type": "markdown",
   "id": "e905930e-d922-426f-970a-065b95a2d6d6",
   "metadata": {},
   "source": "And we should also make this a function in EF class. Now these responses are a string which is hard to work with. We will parse them into dataclasses."
  },
  {
   "cell_type": "code",
   "id": "8055a12b-dbb0-4c97-873b-83bd7b6d7833",
   "metadata": {
    "ExecuteTime": {
     "end_time": "2025-05-23T14:25:10.590618Z",
     "start_time": "2025-05-23T14:25:10.576162Z"
    }
   },
   "source": [
    "ef.status()"
   ],
   "outputs": [
    {
     "data": {
      "text/plain": [
       "{'all-disabled-transitions': [],\n",
       " 'all-duties': [],\n",
       " 'all-enabled-transitions': [],\n",
       " 'created_facts': [],\n",
       " 'errors': [],\n",
       " 'inst-query-results': [],\n",
       " 'new-disabled-transitions': [],\n",
       " 'new-duties': [],\n",
       " 'new-enabled-transitions': [],\n",
       " 'new-state': 335,\n",
       " 'old-state': 334,\n",
       " 'output-events': [],\n",
       " 'query-results': [],\n",
       " 'response': 'success',\n",
       " 'source_contents': [],\n",
       " 'target_contents': [],\n",
       " 'terminated-duties': [],\n",
       " 'terminated_facts': [],\n",
       " 'violations': []}"
      ]
     },
     "execution_count": 5,
     "metadata": {},
     "output_type": "execute_result"
    }
   ],
   "execution_count": 5
  },
  {
   "cell_type": "code",
   "id": "62b15dec-1f12-4ef9-bcd0-31ca63b04225",
   "metadata": {
    "ExecuteTime": {
     "end_time": "2025-05-23T14:25:10.699800Z",
     "start_time": "2025-05-23T14:25:10.696617Z"
    }
   },
   "source": [
    "from dataclasses import dataclass\n",
    "from typing import List\n",
    "\n",
    "\n",
    "@dataclass\n",
    "class ServerStatusResponse:\n",
    "    all_disabled_transitions: List[str]\n",
    "    all_duties: List[str]\n",
    "    all_enabled_transitions: List[str]\n",
    "    created_facts: List[str]\n",
    "    errors: List[str]\n",
    "    inst_query_results: List[str]\n",
    "    new_disabled_transitions: List[str]\n",
    "    new_duties: List[str]\n",
    "    new_enabled_transitions: List[str]\n",
    "    new_state: int\n",
    "    old_state: int\n",
    "    output_events: List[str]\n",
    "    query_results: List[str]\n",
    "    response: str\n",
    "    source_contents: List[str]\n",
    "    target_contents: List[str]\n",
    "    terminated_duties: List[str]\n",
    "    terminated_facts: List[str]\n",
    "    violations: List[str]"
   ],
   "outputs": [],
   "execution_count": 6
  },
  {
   "cell_type": "markdown",
   "id": "2c624bb7-5240-4f53-9132-c95635a41fdf",
   "metadata": {},
   "source": [
    "Because response are using kebab case, but in Python snake case are preferred."
   ]
  },
  {
   "cell_type": "code",
   "id": "1ca63f2f-5160-4c9b-affc-5f25e5ef6602",
   "metadata": {
    "ExecuteTime": {
     "end_time": "2025-05-23T14:25:10.735442Z",
     "start_time": "2025-05-23T14:25:10.733156Z"
    }
   },
   "source": [
    "def kebab_to_snake(s):\n",
    "    return s.replace('-', '_')\n",
    "\n",
    "\n",
    "def convert_keys_kebab_to_snake(d):\n",
    "    return {kebab_to_snake(k): v for k, v in d.items()}"
   ],
   "outputs": [],
   "execution_count": 7
  },
  {
   "cell_type": "code",
   "id": "5ebc7fef-aa8b-459f-9807-1b1ab4ad828b",
   "metadata": {
    "ExecuteTime": {
     "end_time": "2025-05-23T14:25:10.780507Z",
     "start_time": "2025-05-23T14:25:10.767255Z"
    }
   },
   "source": [
    "parsed_snake = convert_keys_kebab_to_snake(EF().status())\n",
    "response = ServerStatusResponse(**parsed_snake)"
   ],
   "outputs": [],
   "execution_count": 8
  },
  {
   "cell_type": "markdown",
   "id": "67a177a7-80f2-4827-85db-ce2c874886c2",
   "metadata": {},
   "source": [
    "Now this is our response object."
   ]
  },
  {
   "cell_type": "code",
   "id": "23452239-f59a-4444-b997-743dedaee43c",
   "metadata": {
    "ExecuteTime": {
     "end_time": "2025-05-23T14:25:10.811679Z",
     "start_time": "2025-05-23T14:25:10.809419Z"
    }
   },
   "source": [
    "response"
   ],
   "outputs": [
    {
     "data": {
      "text/plain": [
       "ServerStatusResponse(all_disabled_transitions=[], all_duties=[], all_enabled_transitions=[], created_facts=[], errors=[], inst_query_results=[], new_disabled_transitions=[], new_duties=[], new_enabled_transitions=[], new_state=335, old_state=334, output_events=[], query_results=[], response='success', source_contents=[], target_contents=[], terminated_duties=[], terminated_facts=[], violations=[])"
      ]
     },
     "execution_count": 9,
     "metadata": {},
     "output_type": "execute_result"
    }
   ],
   "execution_count": 9
  },
  {
   "cell_type": "code",
   "id": "33f6fd00-6fea-4119-baa9-af7b11f07913",
   "metadata": {
    "ExecuteTime": {
     "end_time": "2025-05-23T14:25:10.885969Z",
     "start_time": "2025-05-23T14:25:10.883726Z"
    }
   },
   "source": [
    "response.response"
   ],
   "outputs": [
    {
     "data": {
      "text/plain": [
       "'success'"
      ]
     },
     "execution_count": 10,
     "metadata": {},
     "output_type": "execute_result"
    }
   ],
   "execution_count": 10
  },
  {
   "cell_type": "markdown",
   "id": "be169e0b-1cfc-4a8d-8682-dd6c8bf5ae8b",
   "metadata": {},
   "source": [
    "---"
   ]
  },
  {
   "cell_type": "markdown",
   "id": "0e4c97be-2a2f-4a30-a86c-0e302443d0cc",
   "metadata": {},
   "source": [
    "# eFLINTAnswer"
   ]
  },
  {
   "cell_type": "markdown",
   "id": "1bb2348a-7d9a-4a98-8bb1-d2b2d7710ef9",
   "metadata": {},
   "source": "Now, our project is objective is to introduce support for human in the loop for distributed policy systems. For example, to build and own a house in Amsterdam there are many legal entity to produce policy that homeowner must comply to. Such as Heritage Regulations and Water Management Regulations, reality is so much more complicated but this is a good scenarios that will highlight our contribution. Which will be a questionnaires to help potential homeowner navigates this complex legal structure through eFLINT."
  },
  {
   "cell_type": "markdown",
   "id": "e7aaf152-6015-4690-8f46-02d911c0ba12",
   "metadata": {},
   "source": "But to do that, first we have to put some policy into our eFLINT server. Which is done by using \"phrase\" command. And for that we'll go with even simpler example."
  },
  {
   "cell_type": "code",
   "id": "d76a725e-4b61-43cf-9cef-2a1329533c74",
   "metadata": {
    "ExecuteTime": {
     "end_time": "2025-05-23T14:25:11.213138Z",
     "start_time": "2025-05-23T14:25:10.944452Z"
    }
   },
   "source": [
    "ef.phrase(\"Fact entity Identified by String\")\n",
    "ef.phrase(\"Fact featherless Identified by entity\")\n",
    "ef.phrase(\"Fact biped Identified by entity\")\n",
    "ef.phrase(\"Fact human Identified by entity Holds when featherless(entity) && biped(entity)\")"
   ],
   "outputs": [
    {
     "data": {
      "text/plain": [
       "{'all-disabled-transitions': [],\n",
       " 'all-duties': [],\n",
       " 'all-enabled-transitions': [],\n",
       " 'created_facts': [],\n",
       " 'errors': [],\n",
       " 'inst-query-results': [],\n",
       " 'new-disabled-transitions': [],\n",
       " 'new-duties': [],\n",
       " 'new-enabled-transitions': [],\n",
       " 'new-state': 339,\n",
       " 'old-state': 338,\n",
       " 'output-events': [],\n",
       " 'query-results': [],\n",
       " 'response': 'success',\n",
       " 'source_contents': [],\n",
       " 'target_contents': [],\n",
       " 'terminated-duties': [],\n",
       " 'terminated_facts': [],\n",
       " 'violations': []}"
      ]
     },
     "execution_count": 11,
     "metadata": {},
     "output_type": "execute_result"
    }
   ],
   "execution_count": 11
  },
  {
   "cell_type": "markdown",
   "id": "67657d63-dd9f-4ef6-9549-b5ac7fc4a487",
   "metadata": {},
   "source": [
    "Now we want to check if there is a new fact, actually it's a type in eFLINT, created in the eFLINT server."
   ]
  },
  {
   "cell_type": "code",
   "id": "ea05d58b-40be-48d6-aa45-6988622d3314",
   "metadata": {
    "ExecuteTime": {
     "end_time": "2025-05-23T14:25:11.350740Z",
     "start_time": "2025-05-23T14:25:11.229354Z"
    }
   },
   "source": [
    "!echo '{\"command\": \"types\"}' | nc localhost 8080"
   ],
   "outputs": [
    {
     "name": "stdout",
     "output_type": "stream",
     "text": [
      "{\"types\":{\"actor\":{\"closed\":true,\"conditions\":[],\"derivation\":[],\"domain\":{\"domain-type\":\"AnyString\"},\"domain_constraint\":{\"b\":true,\"term-type\":\"BoolLit\"},\"kind\":{\"fact\":{\"actor\":true,\"invariant\":false},\"kind-type\":\"Fact\"}},\"biped\":{\"closed\":true,\"conditions\":[],\"derivation\":[],\"domain\":{\"domain-type\":\"Products\",\"vars\":[{\"domID\":\"entity\",\"string\":\"\"}]},\"domain_constraint\":{\"b\":true,\"term-type\":\"BoolLit\"},\"kind\":{\"fact\":{\"actor\":false,\"invariant\":false},\"kind-type\":\"Fact\"}},\"entity\":{\"closed\":true,\"conditions\":[],\"derivation\":[],\"domain\":{\"domain-type\":\"AnyString\"},\"domain_constraint\":{\"b\":true,\"term-type\":\"BoolLit\"},\"kind\":{\"fact\":{\"actor\":false,\"invariant\":false},\"kind-type\":\"Fact\"}},\"featherless\":{\"closed\":true,\"conditions\":[],\"derivation\":[],\"domain\":{\"domain-type\":\"Products\",\"vars\":[{\"domID\":\"entity\",\"string\":\"\"}]},\"domain_constraint\":{\"b\":true,\"term-type\":\"BoolLit\"},\"kind\":{\"fact\":{\"actor\":false,\"invariant\":false},\"kind-type\":\"Fact\"}},\"human\":{\"closed\":true,\"conditions\":[],\"derivation\":[{\"derivation-type\":\"HoldsWhen\",\"term\":{\"t1\":{\"t\":{\"args\":{\"Right\":[{\"term\":{\"term-type\":\"Ref\",\"var\":{\"domID\":\"entity\",\"string\":\"\"}},\"var\":{\"domID\":\"entity\",\"string\":\"\"}}]},\"domID\":\"featherless\",\"term-type\":\"App\"},\"term-type\":\"Present\"},\"t2\":{\"t\":{\"args\":{\"Right\":[{\"term\":{\"term-type\":\"Ref\",\"var\":{\"domID\":\"entity\",\"string\":\"\"}},\"var\":{\"domID\":\"entity\",\"string\":\"\"}}]},\"domID\":\"biped\",\"term-type\":\"App\"},\"term-type\":\"Present\"},\"term-type\":\"And\"}}],\"domain\":{\"domain-type\":\"Products\",\"vars\":[{\"domID\":\"entity\",\"string\":\"\"}]},\"domain_constraint\":{\"b\":true,\"term-type\":\"BoolLit\"},\"kind\":{\"fact\":{\"actor\":false,\"invariant\":false},\"kind-type\":\"Fact\"}},\"int\":{\"closed\":true,\"conditions\":[],\"derivation\":[],\"domain\":{\"domain-type\":\"AnyInt\"},\"domain_constraint\":{\"b\":true,\"term-type\":\"BoolLit\"},\"kind\":{\"fact\":{\"actor\":false,\"invariant\":false},\"kind-type\":\"Fact\"}},\"intelligent\":{\"closed\":true,\"conditions\":[],\"derivation\":[],\"domain\":{\"domain-type\":\"Products\",\"vars\":[{\"domID\":\"entity\",\"string\":\"\"}]},\"domain_constraint\":{\"b\":true,\"term-type\":\"BoolLit\"},\"kind\":{\"fact\":{\"actor\":false,\"invariant\":false},\"kind-type\":\"Fact\"}},\"number_of_legs\":{\"closed\":true,\"conditions\":[],\"derivation\":[],\"domain\":{\"domain-type\":\"Products\",\"vars\":[{\"domID\":\"entity\",\"string\":\"\"},{\"domID\":\"int\",\"string\":\"\"}]},\"domain_constraint\":{\"b\":true,\"term-type\":\"BoolLit\"},\"kind\":{\"fact\":{\"actor\":false,\"invariant\":false},\"kind-type\":\"Fact\"}},\"string\":{\"closed\":true,\"conditions\":[],\"derivation\":[],\"domain\":{\"domain-type\":\"AnyString\"},\"domain_constraint\":{\"b\":true,\"term-type\":\"BoolLit\"},\"kind\":{\"fact\":{\"actor\":false,\"invariant\":false},\"kind-type\":\"Fact\"}}}}\r\n"
     ]
    }
   ],
   "execution_count": 12
  },
  {
   "cell_type": "markdown",
   "id": "8765f493-0bd6-4582-942f-b688d190ae50",
   "metadata": {},
   "source": [
    "After confirming that the commands work, We want to parse it to a function."
   ]
  },
  {
   "cell_type": "code",
   "id": "ca07ead0-68b3-4779-89a3-93d0768310ad",
   "metadata": {
    "ExecuteTime": {
     "end_time": "2025-05-23T14:25:11.376627Z",
     "start_time": "2025-05-23T14:25:11.359061Z"
    }
   },
   "source": [
    "types_response = ef.types()\n",
    "types_response"
   ],
   "outputs": [
    {
     "data": {
      "text/plain": [
       "{'types': {'actor': {'closed': True,\n",
       "   'conditions': [],\n",
       "   'derivation': [],\n",
       "   'domain': {'domain-type': 'AnyString'},\n",
       "   'domain_constraint': {'b': True, 'term-type': 'BoolLit'},\n",
       "   'kind': {'fact': {'actor': True, 'invariant': False}, 'kind-type': 'Fact'}},\n",
       "  'biped': {'closed': True,\n",
       "   'conditions': [],\n",
       "   'derivation': [],\n",
       "   'domain': {'domain-type': 'Products',\n",
       "    'vars': [{'domID': 'entity', 'string': ''}]},\n",
       "   'domain_constraint': {'b': True, 'term-type': 'BoolLit'},\n",
       "   'kind': {'fact': {'actor': False, 'invariant': False},\n",
       "    'kind-type': 'Fact'}},\n",
       "  'entity': {'closed': True,\n",
       "   'conditions': [],\n",
       "   'derivation': [],\n",
       "   'domain': {'domain-type': 'AnyString'},\n",
       "   'domain_constraint': {'b': True, 'term-type': 'BoolLit'},\n",
       "   'kind': {'fact': {'actor': False, 'invariant': False},\n",
       "    'kind-type': 'Fact'}},\n",
       "  'featherless': {'closed': True,\n",
       "   'conditions': [],\n",
       "   'derivation': [],\n",
       "   'domain': {'domain-type': 'Products',\n",
       "    'vars': [{'domID': 'entity', 'string': ''}]},\n",
       "   'domain_constraint': {'b': True, 'term-type': 'BoolLit'},\n",
       "   'kind': {'fact': {'actor': False, 'invariant': False},\n",
       "    'kind-type': 'Fact'}},\n",
       "  'human': {'closed': True,\n",
       "   'conditions': [],\n",
       "   'derivation': [{'derivation-type': 'HoldsWhen',\n",
       "     'term': {'t1': {'t': {'args': {'Right': [{'term': {'term-type': 'Ref',\n",
       "            'var': {'domID': 'entity', 'string': ''}},\n",
       "           'var': {'domID': 'entity', 'string': ''}}]},\n",
       "        'domID': 'featherless',\n",
       "        'term-type': 'App'},\n",
       "       'term-type': 'Present'},\n",
       "      't2': {'t': {'args': {'Right': [{'term': {'term-type': 'Ref',\n",
       "            'var': {'domID': 'entity', 'string': ''}},\n",
       "           'var': {'domID': 'entity', 'string': ''}}]},\n",
       "        'domID': 'biped',\n",
       "        'term-type': 'App'},\n",
       "       'term-type': 'Present'},\n",
       "      'term-type': 'And'}}],\n",
       "   'domain': {'domain-type': 'Products',\n",
       "    'vars': [{'domID': 'entity', 'string': ''}]},\n",
       "   'domain_constraint': {'b': True, 'term-type': 'BoolLit'},\n",
       "   'kind': {'fact': {'actor': False, 'invariant': False},\n",
       "    'kind-type': 'Fact'}},\n",
       "  'int': {'closed': True,\n",
       "   'conditions': [],\n",
       "   'derivation': [],\n",
       "   'domain': {'domain-type': 'AnyInt'},\n",
       "   'domain_constraint': {'b': True, 'term-type': 'BoolLit'},\n",
       "   'kind': {'fact': {'actor': False, 'invariant': False},\n",
       "    'kind-type': 'Fact'}},\n",
       "  'intelligent': {'closed': True,\n",
       "   'conditions': [],\n",
       "   'derivation': [],\n",
       "   'domain': {'domain-type': 'Products',\n",
       "    'vars': [{'domID': 'entity', 'string': ''}]},\n",
       "   'domain_constraint': {'b': True, 'term-type': 'BoolLit'},\n",
       "   'kind': {'fact': {'actor': False, 'invariant': False},\n",
       "    'kind-type': 'Fact'}},\n",
       "  'number_of_legs': {'closed': True,\n",
       "   'conditions': [],\n",
       "   'derivation': [],\n",
       "   'domain': {'domain-type': 'Products',\n",
       "    'vars': [{'domID': 'entity', 'string': ''},\n",
       "     {'domID': 'int', 'string': ''}]},\n",
       "   'domain_constraint': {'b': True, 'term-type': 'BoolLit'},\n",
       "   'kind': {'fact': {'actor': False, 'invariant': False},\n",
       "    'kind-type': 'Fact'}},\n",
       "  'string': {'closed': True,\n",
       "   'conditions': [],\n",
       "   'derivation': [],\n",
       "   'domain': {'domain-type': 'AnyString'},\n",
       "   'domain_constraint': {'b': True, 'term-type': 'BoolLit'},\n",
       "   'kind': {'fact': {'actor': False, 'invariant': False},\n",
       "    'kind-type': 'Fact'}}}}"
      ]
     },
     "execution_count": 13,
     "metadata": {},
     "output_type": "execute_result"
    }
   ],
   "execution_count": 13
  },
  {
   "cell_type": "code",
   "id": "bb453893-29db-468d-b9ba-3efa166f54f1",
   "metadata": {
    "ExecuteTime": {
     "end_time": "2025-05-23T14:25:11.438342Z",
     "start_time": "2025-05-23T14:25:11.435770Z"
    }
   },
   "source": [
    "types_response[\"types\"][\"human\"]"
   ],
   "outputs": [
    {
     "data": {
      "text/plain": [
       "{'closed': True,\n",
       " 'conditions': [],\n",
       " 'derivation': [{'derivation-type': 'HoldsWhen',\n",
       "   'term': {'t1': {'t': {'args': {'Right': [{'term': {'term-type': 'Ref',\n",
       "          'var': {'domID': 'entity', 'string': ''}},\n",
       "         'var': {'domID': 'entity', 'string': ''}}]},\n",
       "      'domID': 'featherless',\n",
       "      'term-type': 'App'},\n",
       "     'term-type': 'Present'},\n",
       "    't2': {'t': {'args': {'Right': [{'term': {'term-type': 'Ref',\n",
       "          'var': {'domID': 'entity', 'string': ''}},\n",
       "         'var': {'domID': 'entity', 'string': ''}}]},\n",
       "      'domID': 'biped',\n",
       "      'term-type': 'App'},\n",
       "     'term-type': 'Present'},\n",
       "    'term-type': 'And'}}],\n",
       " 'domain': {'domain-type': 'Products',\n",
       "  'vars': [{'domID': 'entity', 'string': ''}]},\n",
       " 'domain_constraint': {'b': True, 'term-type': 'BoolLit'},\n",
       " 'kind': {'fact': {'actor': False, 'invariant': False}, 'kind-type': 'Fact'}}"
      ]
     },
     "execution_count": 14,
     "metadata": {},
     "output_type": "execute_result"
    }
   ],
   "execution_count": 14
  },
  {
   "cell_type": "markdown",
   "id": "e8e855af-a3fe-4c46-b643-46e8cb4521d1",
   "metadata": {},
   "source": [
    "We want to extract dependency of type \"human\" and we should be able to see that to be human it holds when it is featherless and biped. We want to display this in a graph form"
   ]
  },
  {
   "cell_type": "code",
   "id": "022e03f7-f7fd-4612-b19e-cee1ace45fb3",
   "metadata": {
    "ExecuteTime": {
     "end_time": "2025-05-23T14:25:11.496070Z",
     "start_time": "2025-05-23T14:25:11.493693Z"
    }
   },
   "source": [
    "@dataclass\n",
    "class Node:\n",
    "    name: str\n",
    "    dependencies: List[\"Node\"]\n",
    "\n",
    "    def __repr__(self):\n",
    "        \"\"\"Custom representation to avoid recursion depth issues when printing\"\"\"\n",
    "        dep_names = [dep.name for dep in self.dependencies]\n",
    "        return f\"Node(name='{self.name}', dependencies={dep_names})\""
   ],
   "outputs": [],
   "execution_count": 15
  },
  {
   "cell_type": "code",
   "id": "0f73467d-75cb-40a1-ad90-1a7bdb2117af",
   "metadata": {
    "ExecuteTime": {
     "end_time": "2025-05-23T14:25:11.540815Z",
     "start_time": "2025-05-23T14:25:11.538409Z"
    }
   },
   "source": [
    "def typeinfo_to_node(type_info: dict, type_name: str = \"human\") -> Node:\n",
    "    \"\"\"\n",
    "    Convert a response types dict to a Node object with dependencies.\n",
    "    \"\"\"\n",
    "    dependencies = []\n",
    "    for derivation in type_info[\"derivation\"]:\n",
    "        if derivation[\"derivation-type\"] == 'HoldsWhen':\n",
    "            if derivation[\"term\"][\"term-type\"] == 'And':\n",
    "                dep_1 = derivation[\"term\"][\"t1\"][\"t\"][\"domID\"]\n",
    "                dependencies.append(Node(name=dep_1, dependencies=[]))\n",
    "                dep_2 = derivation[\"term\"][\"t2\"][\"t\"][\"domID\"]\n",
    "                dependencies.append(Node(name=dep_2, dependencies=[]))\n",
    "\n",
    "    return Node(name=type_name, dependencies=dependencies)"
   ],
   "outputs": [],
   "execution_count": 16
  },
  {
   "cell_type": "code",
   "id": "af423222-ae58-49a1-b49e-28bd2315f98d",
   "metadata": {
    "ExecuteTime": {
     "end_time": "2025-05-23T14:25:11.572127Z",
     "start_time": "2025-05-23T14:25:11.570306Z"
    }
   },
   "source": [
    "human_node = typeinfo_to_node(types_response[\"types\"][\"human\"], \"human\")\n",
    "human_node"
   ],
   "outputs": [
    {
     "data": {
      "text/plain": [
       "Node(name='human', dependencies=['featherless', 'biped'])"
      ]
     },
     "execution_count": 17,
     "metadata": {},
     "output_type": "execute_result"
    }
   ],
   "execution_count": 17
  },
  {
   "cell_type": "code",
   "id": "c9af7c97-8f2b-4f79-8f28-e9872dbfab50",
   "metadata": {
    "ExecuteTime": {
     "end_time": "2025-05-23T14:25:11.853576Z",
     "start_time": "2025-05-23T14:25:11.615061Z"
    }
   },
   "source": [
    "import networkx as nx\n",
    "import matplotlib.pyplot as plt\n",
    "\n",
    "\n",
    "def visualize_node(node):\n",
    "    \"\"\"Visualize a Node and its dependencies as a graph.\"\"\"\n",
    "    # Create directed graph\n",
    "    graph = nx.DiGraph()\n",
    "\n",
    "    # Add the main node\n",
    "    graph.add_node(node.name)\n",
    "\n",
    "    # Add dependency nodes and edges\n",
    "    for dep in node.dependencies:\n",
    "        graph.add_node(dep.name)\n",
    "        graph.add_edge(node.name, dep.name)\n",
    "\n",
    "    # Create figure\n",
    "    plt.figure(figsize=(8, 6))\n",
    "\n",
    "    # Set node positions\n",
    "    pos = nx.spring_layout(graph)\n",
    "\n",
    "    # Draw nodes with labels\n",
    "    nx.draw(graph, pos, with_labels=True,\n",
    "            node_color='white',\n",
    "            edgecolors='black',\n",
    "            node_size=1500,\n",
    "            font_size=10,\n",
    "            font_weight='normal',\n",
    "            width=1,\n",
    "            arrows=True,\n",
    "            arrowsize=15)"
   ],
   "outputs": [],
   "execution_count": 18
  },
  {
   "cell_type": "code",
   "id": "2ffdd1fa-bb79-4b67-a92f-437cb1959590",
   "metadata": {
    "ExecuteTime": {
     "end_time": "2025-05-23T14:25:11.935831Z",
     "start_time": "2025-05-23T14:25:11.861110Z"
    }
   },
   "source": [
    "visualize_node(human_node)"
   ],
   "outputs": [
    {
     "data": {
      "text/plain": [
       "<Figure size 800x600 with 1 Axes>"
      ],
      "image/png": "[encoded data removed]"
     },
     "metadata": {},
     "output_type": "display_data"
    }
   ],
   "execution_count": 19
  },
  {
   "cell_type": "markdown",
   "id": "df18f141-6699-4a17-83c6-21dcf4630569",
   "metadata": {},
   "source": [
    "Now we need `create` function to create an instance in eFLINT server to set actual rules."
   ]
  },
  {
   "metadata": {},
   "cell_type": "markdown",
   "source": "Now we want to ask some question, like asking plato if something is human. But first we need to create an instance of a type in eFLINT server. To do that we need `create",
   "id": "56bf3f3237ab2cbd"
  },
  {
   "metadata": {
    "ExecuteTime": {
     "end_time": "2025-05-23T14:25:11.958673Z",
     "start_time": "2025-05-23T14:25:11.943489Z"
    }
   },
   "cell_type": "code",
   "source": "ef.create(\"entity\", \"chicken\")",
   "id": "92251e54b5ca73df",
   "outputs": [
    {
     "data": {
      "text/plain": [
       "{'all-disabled-transitions': [],\n",
       " 'all-duties': [],\n",
       " 'all-enabled-transitions': [],\n",
       " 'created_facts': [{'fact-type': 'entity',\n",
       "   'tagged-type': 'string',\n",
       "   'textual': 'entity(\"chicken\")',\n",
       "   'value': 'chicken'}],\n",
       " 'errors': [],\n",
       " 'inst-query-results': [],\n",
       " 'new-disabled-transitions': [],\n",
       " 'new-duties': [],\n",
       " 'new-enabled-transitions': [],\n",
       " 'new-state': 340,\n",
       " 'old-state': 339,\n",
       " 'output-events': [],\n",
       " 'query-results': [],\n",
       " 'response': 'success',\n",
       " 'source_contents': [],\n",
       " 'target_contents': [{'fact-type': 'entity',\n",
       "   'tagged-type': 'string',\n",
       "   'textual': 'entity(\"chicken\")',\n",
       "   'value': 'chicken'}],\n",
       " 'terminated-duties': [],\n",
       " 'terminated_facts': [],\n",
       " 'violations': []}"
      ]
     },
     "execution_count": 20,
     "metadata": {},
     "output_type": "execute_result"
    }
   ],
   "execution_count": 20
  },
  {
   "metadata": {},
   "cell_type": "markdown",
   "source": "Now to ask eFLINT server if chicken is human, we need to use `query` command.",
   "id": "af03a51304ab6401"
  },
  {
   "metadata": {
    "ExecuteTime": {
     "end_time": "2025-05-23T14:25:12.009536Z",
     "start_time": "2025-05-23T14:25:11.996062Z"
    }
   },
   "cell_type": "code",
   "source": [
    "q_res = ef.query(\"human\", \"chicken\")\n",
    "q_res[\"query-results\"]"
   ],
   "id": "aad1ba27116a92f2",
   "outputs": [
    {
     "data": {
      "text/plain": [
       "['failure']"
      ]
     },
     "execution_count": 21,
     "metadata": {},
     "output_type": "execute_result"
    }
   ],
   "execution_count": 21
  },
  {
   "metadata": {},
   "cell_type": "markdown",
   "source": "Query result is `'failure'` which means chicken is not human. Now let's add that the chicken is featherless and biped.",
   "id": "863ca40eccda8fcf"
  },
  {
   "metadata": {
    "ExecuteTime": {
     "end_time": "2025-05-23T14:25:12.092575Z",
     "start_time": "2025-05-23T14:25:12.065860Z"
    }
   },
   "cell_type": "code",
   "source": [
    "_ = ef.create(\"featherless\", \"chicken\")\n",
    "_ = ef.create(\"biped\", \"chicken\")"
   ],
   "id": "64901fd193960b5",
   "outputs": [],
   "execution_count": 22
  },
  {
   "metadata": {
    "ExecuteTime": {
     "end_time": "2025-05-23T14:25:12.124977Z",
     "start_time": "2025-05-23T14:25:12.108650Z"
    }
   },
   "cell_type": "code",
   "source": [
    "q_res = ef.query(\"human\", \"chicken\")\n",
    "q_res[\"query-results\"]"
   ],
   "id": "92e251760284b32d",
   "outputs": [
    {
     "data": {
      "text/plain": [
       "['success']"
      ]
     },
     "execution_count": 23,
     "metadata": {},
     "output_type": "execute_result"
    }
   ],
   "execution_count": 23
  },
  {
   "metadata": {},
   "cell_type": "markdown",
   "source": "But eFLINT also support `Act` command, which is like another type but can create, modify and delete instance of Fact. And it also has actor and recipient. And Plato will also be use in this example. First we need to create entity called Plato then create an Act.",
   "id": "2da45f290aa7fd3b"
  },
  {
   "metadata": {
    "ExecuteTime": {
     "end_time": "2025-05-23T14:25:12.214101Z",
     "start_time": "2025-05-23T14:25:12.182578Z"
    }
   },
   "cell_type": "code",
   "source": [
    "ef.create(\"entity\", \"Plato\")\n",
    "ef.create(\"entity\", \"cow\")"
   ],
   "id": "29f1e1eff2288aa",
   "outputs": [
    {
     "data": {
      "text/plain": [
       "{'all-disabled-transitions': [],\n",
       " 'all-duties': [],\n",
       " 'all-enabled-transitions': [],\n",
       " 'created_facts': [{'fact-type': 'entity',\n",
       "   'tagged-type': 'string',\n",
       "   'textual': 'entity(\"cow\")',\n",
       "   'value': 'cow'}],\n",
       " 'errors': [],\n",
       " 'inst-query-results': [],\n",
       " 'new-disabled-transitions': [],\n",
       " 'new-duties': [],\n",
       " 'new-enabled-transitions': [],\n",
       " 'new-state': 346,\n",
       " 'old-state': 345,\n",
       " 'output-events': [],\n",
       " 'query-results': [],\n",
       " 'response': 'success',\n",
       " 'source_contents': [{'fact-type': 'entity',\n",
       "   'tagged-type': 'string',\n",
       "   'textual': 'entity(\"Plato\")',\n",
       "   'value': 'Plato'},\n",
       "  {'fact-type': 'entity',\n",
       "   'tagged-type': 'string',\n",
       "   'textual': 'entity(\"chicken\")',\n",
       "   'value': 'chicken'},\n",
       "  {'arguments': [{'fact-type': 'entity',\n",
       "     'tagged-type': 'string',\n",
       "     'textual': 'entity(\"chicken\")',\n",
       "     'value': 'chicken'}],\n",
       "   'fact-type': 'biped',\n",
       "   'tagged-type': 'product',\n",
       "   'textual': 'biped(entity(\"chicken\"))'},\n",
       "  {'arguments': [{'fact-type': 'entity',\n",
       "     'tagged-type': 'string',\n",
       "     'textual': 'entity(\"chicken\")',\n",
       "     'value': 'chicken'}],\n",
       "   'fact-type': 'featherless',\n",
       "   'tagged-type': 'product',\n",
       "   'textual': 'featherless(entity(\"chicken\"))'},\n",
       "  {'arguments': [{'fact-type': 'entity',\n",
       "     'tagged-type': 'string',\n",
       "     'textual': 'entity(\"chicken\")',\n",
       "     'value': 'chicken'}],\n",
       "   'fact-type': 'human',\n",
       "   'tagged-type': 'product',\n",
       "   'textual': 'human(entity(\"chicken\"))'}],\n",
       " 'target_contents': [{'fact-type': 'entity',\n",
       "   'tagged-type': 'string',\n",
       "   'textual': 'entity(\"Plato\")',\n",
       "   'value': 'Plato'},\n",
       "  {'fact-type': 'entity',\n",
       "   'tagged-type': 'string',\n",
       "   'textual': 'entity(\"chicken\")',\n",
       "   'value': 'chicken'},\n",
       "  {'fact-type': 'entity',\n",
       "   'tagged-type': 'string',\n",
       "   'textual': 'entity(\"cow\")',\n",
       "   'value': 'cow'},\n",
       "  {'arguments': [{'fact-type': 'entity',\n",
       "     'tagged-type': 'string',\n",
       "     'textual': 'entity(\"chicken\")',\n",
       "     'value': 'chicken'}],\n",
       "   'fact-type': 'biped',\n",
       "   'tagged-type': 'product',\n",
       "   'textual': 'biped(entity(\"chicken\"))'},\n",
       "  {'arguments': [{'fact-type': 'entity',\n",
       "     'tagged-type': 'string',\n",
       "     'textual': 'entity(\"chicken\")',\n",
       "     'value': 'chicken'}],\n",
       "   'fact-type': 'featherless',\n",
       "   'tagged-type': 'product',\n",
       "   'textual': 'featherless(entity(\"chicken\"))'},\n",
       "  {'arguments': [{'fact-type': 'entity',\n",
       "     'tagged-type': 'string',\n",
       "     'textual': 'entity(\"chicken\")',\n",
       "     'value': 'chicken'}],\n",
       "   'fact-type': 'human',\n",
       "   'tagged-type': 'product',\n",
       "   'textual': 'human(entity(\"chicken\"))'}],\n",
       " 'terminated-duties': [],\n",
       " 'terminated_facts': [],\n",
       " 'violations': []}"
      ]
     },
     "execution_count": 24,
     "metadata": {},
     "output_type": "execute_result"
    }
   ],
   "execution_count": 24
  },
  {
   "metadata": {
    "ExecuteTime": {
     "end_time": "2025-05-23T14:25:12.385570Z",
     "start_time": "2025-05-23T14:25:12.266677Z"
    }
   },
   "cell_type": "code",
   "source": "_ = ef.phrase('Act ask-if-human Actor entity1 Recipient entity2 Holds when featherless(entity1) && biped(entity1)')",
   "id": "9bd999182f670d55",
   "outputs": [],
   "execution_count": 25
  },
  {
   "metadata": {
    "ExecuteTime": {
     "end_time": "2025-05-23T14:25:12.413235Z",
     "start_time": "2025-05-23T14:25:12.392533Z"
    }
   },
   "cell_type": "code",
   "source": "_ = ef.action(\"ask-if-human\", \"Plato\", \"Cow\")",
   "id": "18fb8ae77b0dab2d",
   "outputs": [],
   "execution_count": 26
  },
  {
   "metadata": {},
   "cell_type": "markdown",
   "source": "From that, We found that doing action is practically useless, because what I care is what would enable (make something true) which could be just a query. So We will just use query instead of action.",
   "id": "e35d5e8ea05b3642"
  },
  {
   "metadata": {},
   "cell_type": "markdown",
   "source": "Let's add some more complexity. we will not manually add if something is biped anymore, but we will ask 'how many legs does it have' instead and then infer it from there. To do this, we will use `revert` to go back to state before anything is defined.",
   "id": "f99f6efcf23a6fe7"
  },
  {
   "metadata": {
    "ExecuteTime": {
     "end_time": "2025-05-23T14:25:12.487537Z",
     "start_time": "2025-05-23T14:25:12.438710Z"
    }
   },
   "cell_type": "code",
   "source": [
    "history_response = ef.history()\n",
    "list(filter(lambda edge: edge[\"source_id\"] == 1, history_response[\"edges\"]))"
   ],
   "id": "6ec504423e18ead4",
   "outputs": [
    {
     "data": {
      "text/plain": [
       "[{'all-disabled-transitions': [],\n",
       "  'all-duties': [],\n",
       "  'all-enabled-transitions': [],\n",
       "  'created_facts': [],\n",
       "  'errors': [],\n",
       "  'new-disabled-transitions': [],\n",
       "  'new-duties': [],\n",
       "  'new-enabled-transitions': [],\n",
       "  'output-events': [],\n",
       "  'phrase': 'Fact entity Identified by String\\nType extension of entity\\n',\n",
       "  'query-results': [],\n",
       "  'source_contents': [],\n",
       "  'source_id': 1,\n",
       "  'target_contents': [],\n",
       "  'target_id': 294,\n",
       "  'terminated-duties': [],\n",
       "  'terminated_facts': [],\n",
       "  'violations': []}]"
      ]
     },
     "execution_count": 27,
     "metadata": {},
     "output_type": "execute_result"
    }
   ],
   "execution_count": 27
  },
  {
   "metadata": {
    "ExecuteTime": {
     "end_time": "2025-05-23T14:25:12.537035Z",
     "start_time": "2025-05-23T14:25:12.510285Z"
    }
   },
   "cell_type": "code",
   "source": [
    "ef.revert(1)\n",
    "ef.status()"
   ],
   "id": "63e4367c288ae345",
   "outputs": [
    {
     "data": {
      "text/plain": [
       "{'all-disabled-transitions': [],\n",
       " 'all-duties': [],\n",
       " 'all-enabled-transitions': [],\n",
       " 'created_facts': [],\n",
       " 'errors': [],\n",
       " 'inst-query-results': [],\n",
       " 'new-disabled-transitions': [],\n",
       " 'new-duties': [],\n",
       " 'new-enabled-transitions': [],\n",
       " 'new-state': 1,\n",
       " 'old-state': 1,\n",
       " 'output-events': [],\n",
       " 'query-results': [],\n",
       " 'response': 'success',\n",
       " 'source_contents': [],\n",
       " 'target_contents': [],\n",
       " 'terminated-duties': [],\n",
       " 'terminated_facts': [],\n",
       " 'violations': []}"
      ]
     },
     "execution_count": 28,
     "metadata": {},
     "output_type": "execute_result"
    }
   ],
   "execution_count": 28
  },
  {
   "metadata": {
    "ExecuteTime": {
     "end_time": "2025-05-23T14:25:12.893317Z",
     "start_time": "2025-05-23T14:25:12.565970Z"
    }
   },
   "cell_type": "code",
   "source": [
    "ef.phrase(\"Fact entity Identified by String\")\n",
    "ef.phrase(\"Fact number_of_legs Identified by entity * int\")\n",
    "ef.phrase(\"Fact featherless Identified by entity\")\n",
    "ef.phrase(\"Fact biped Identified by entity Holds when (Exists number_of_legs : number_of_legs(entity, 2))\")\n",
    "ef.phrase(\"Fact human Identified by entity Holds when featherless(entity) && biped(entity)\")"
   ],
   "id": "43071794dfc8cac",
   "outputs": [
    {
     "data": {
      "text/plain": [
       "{'all-disabled-transitions': [],\n",
       " 'all-duties': [],\n",
       " 'all-enabled-transitions': [],\n",
       " 'created_facts': [],\n",
       " 'errors': [],\n",
       " 'inst-query-results': [],\n",
       " 'new-disabled-transitions': [],\n",
       " 'new-duties': [],\n",
       " 'new-enabled-transitions': [],\n",
       " 'new-state': 352,\n",
       " 'old-state': 351,\n",
       " 'output-events': [],\n",
       " 'query-results': [],\n",
       " 'response': 'success',\n",
       " 'source_contents': [],\n",
       " 'target_contents': [],\n",
       " 'terminated-duties': [],\n",
       " 'terminated_facts': [],\n",
       " 'violations': []}"
      ]
     },
     "execution_count": 29,
     "metadata": {},
     "output_type": "execute_result"
    }
   ],
   "execution_count": 29
  },
  {
   "metadata": {
    "ExecuteTime": {
     "end_time": "2025-05-23T14:25:12.928020Z",
     "start_time": "2025-05-23T14:25:12.901068Z"
    }
   },
   "cell_type": "code",
   "source": [
    "ef.create(\"entity\", \"chicken\")\n",
    "ef.query(\"human\", \"chicken\")[\"query-results\"]"
   ],
   "id": "bae7311001f0ec91",
   "outputs": [
    {
     "data": {
      "text/plain": [
       "['failure']"
      ]
     },
     "execution_count": 30,
     "metadata": {},
     "output_type": "execute_result"
    }
   ],
   "execution_count": 30
  },
  {
   "metadata": {
    "ExecuteTime": {
     "end_time": "2025-05-23T14:25:12.974604Z",
     "start_time": "2025-05-23T14:25:12.934775Z"
    }
   },
   "cell_type": "code",
   "source": [
    "ef.create(\"featherless\", \"chicken\")\n",
    "ef.create(\"number_of_legs\", [\"chicken\", 2])\n",
    "ef.query(\"human\", \"chicken\")[\"query-results\"]"
   ],
   "id": "f8bb9f96e381511d",
   "outputs": [
    {
     "data": {
      "text/plain": [
       "['success']"
      ]
     },
     "execution_count": 31,
     "metadata": {},
     "output_type": "execute_result"
    }
   ],
   "execution_count": 31
  },
  {
   "metadata": {},
   "cell_type": "markdown",
   "source": "Why `ef.phrase(\"Fact biped Identified by entity Holds when (Exists n : number_of_legs(entity, 2))\")` is not working?",
   "id": "b0b8afc3a04bf494"
  },
  {
   "metadata": {
    "ExecuteTime": {
     "end_time": "2025-05-23T14:25:12.998936Z",
     "start_time": "2025-05-23T14:25:12.984285Z"
    }
   },
   "cell_type": "code",
   "source": [
    "types_response = ef.types()\n",
    "types_response[\"types\"][\"biped\"]"
   ],
   "id": "9874bc0c3438e2a7",
   "outputs": [
    {
     "data": {
      "text/plain": [
       "{'closed': True,\n",
       " 'conditions': [],\n",
       " 'derivation': [{'derivation-type': 'HoldsWhen',\n",
       "   'term': {'t': {'t': {'args': {'Right': [{'term': {'term-type': 'Ref',\n",
       "          'var': {'domID': 'entity', 'string': ''}},\n",
       "         'var': {'domID': 'entity', 'string': ''}},\n",
       "        {'term': {'domID': 'int',\n",
       "          't': {'int': 2, 'term-type': 'IntLit'},\n",
       "          'term-type': 'Tag'},\n",
       "         'var': {'domID': 'int', 'string': ''}}]},\n",
       "      'domID': 'number_of_legs',\n",
       "      'term-type': 'App'},\n",
       "     'term-type': 'Present'},\n",
       "    'term-type': 'Exists',\n",
       "    'vars': [{'domID': 'number_of_legs', 'string': ''}]}}],\n",
       " 'domain': {'domain-type': 'Products',\n",
       "  'vars': [{'domID': 'entity', 'string': ''}]},\n",
       " 'domain_constraint': {'b': True, 'term-type': 'BoolLit'},\n",
       " 'kind': {'fact': {'actor': False, 'invariant': False}, 'kind-type': 'Fact'}}"
      ]
     },
     "execution_count": 32,
     "metadata": {},
     "output_type": "execute_result"
    }
   ],
   "execution_count": 32
  },
  {
   "metadata": {
    "ExecuteTime": {
     "end_time": "2025-05-23T14:25:13.044352Z",
     "start_time": "2025-05-23T14:25:13.042275Z"
    }
   },
   "cell_type": "code",
   "source": [
    "human_node = typeinfo_to_node(types_response[\"types\"][\"human\"], \"human\")\n",
    "human_node"
   ],
   "id": "52df6f26d6ae9a25",
   "outputs": [
    {
     "data": {
      "text/plain": [
       "Node(name='human', dependencies=['featherless', 'biped'])"
      ]
     },
     "execution_count": 33,
     "metadata": {},
     "output_type": "execute_result"
    }
   ],
   "execution_count": 33
  },
  {
   "metadata": {},
   "cell_type": "markdown",
   "source": "We can see that the graph is not complete, because we don't have `number_of_legs` in the graph. So we need to add that to the graph.",
   "id": "be8ba6f59feae9ee"
  },
  {
   "metadata": {
    "ExecuteTime": {
     "end_time": "2025-05-23T14:25:13.085503Z",
     "start_time": "2025-05-23T14:25:13.082889Z"
    }
   },
   "cell_type": "code",
   "source": "types_response[\"types\"][\"biped\"]",
   "id": "5142c9d73f736881",
   "outputs": [
    {
     "data": {
      "text/plain": [
       "{'closed': True,\n",
       " 'conditions': [],\n",
       " 'derivation': [{'derivation-type': 'HoldsWhen',\n",
       "   'term': {'t': {'t': {'args': {'Right': [{'term': {'term-type': 'Ref',\n",
       "          'var': {'domID': 'entity', 'string': ''}},\n",
       "         'var': {'domID': 'entity', 'string': ''}},\n",
       "        {'term': {'domID': 'int',\n",
       "          't': {'int': 2, 'term-type': 'IntLit'},\n",
       "          'term-type': 'Tag'},\n",
       "         'var': {'domID': 'int', 'string': ''}}]},\n",
       "      'domID': 'number_of_legs',\n",
       "      'term-type': 'App'},\n",
       "     'term-type': 'Present'},\n",
       "    'term-type': 'Exists',\n",
       "    'vars': [{'domID': 'number_of_legs', 'string': ''}]}}],\n",
       " 'domain': {'domain-type': 'Products',\n",
       "  'vars': [{'domID': 'entity', 'string': ''}]},\n",
       " 'domain_constraint': {'b': True, 'term-type': 'BoolLit'},\n",
       " 'kind': {'fact': {'actor': False, 'invariant': False}, 'kind-type': 'Fact'}}"
      ]
     },
     "execution_count": 34,
     "metadata": {},
     "output_type": "execute_result"
    }
   ],
   "execution_count": 34
  },
  {
   "metadata": {
    "ExecuteTime": {
     "end_time": "2025-05-23T14:25:13.121833Z",
     "start_time": "2025-05-23T14:25:13.119957Z"
    }
   },
   "cell_type": "code",
   "source": [
    "for key, value in types_response[\"types\"].items():\n",
    "    if key not in {\"actor\", \"int\", \"string\"}:\n",
    "        print(key, typeinfo_to_node(value, key))"
   ],
   "id": "61230d6965aad2b",
   "outputs": [
    {
     "name": "stdout",
     "output_type": "stream",
     "text": [
      "biped Node(name='biped', dependencies=[])\n",
      "entity Node(name='entity', dependencies=[])\n",
      "featherless Node(name='featherless', dependencies=[])\n",
      "human Node(name='human', dependencies=['featherless', 'biped'])\n",
      "number_of_legs Node(name='number_of_legs', dependencies=[])\n"
     ]
    }
   ],
   "execution_count": 35
  },
  {
   "metadata": {
    "ExecuteTime": {
     "end_time": "2025-05-23T14:25:13.171460Z",
     "start_time": "2025-05-23T14:25:13.169123Z"
    }
   },
   "cell_type": "code",
   "source": [
    "def create_graph(types_res: dict, type_name: str) -> Node:\n",
    "    \"\"\"\n",
    "    Convert a response types dict to a Node object with dependencies. !!! Now Recursively !!!\n",
    "    \"\"\"\n",
    "    dependencies = []\n",
    "    type_info = types_res[type_name]\n",
    "    for derivation in type_info[\"derivation\"]:\n",
    "        if derivation[\"derivation-type\"] == 'HoldsWhen':\n",
    "            if derivation[\"term\"][\"term-type\"] == 'Exists':\n",
    "                dep = derivation[\"term\"][\"t\"][\"t\"][\"domID\"]\n",
    "                dep_node = create_graph(types_res, dep)\n",
    "                dependencies.append(dep_node)\n",
    "            if derivation[\"term\"][\"term-type\"] == 'And':\n",
    "                dep_1 = derivation[\"term\"][\"t1\"][\"t\"][\"domID\"]\n",
    "                dep_1_node = create_graph(types_res, dep_1)\n",
    "                dependencies.append(dep_1_node)\n",
    "                dep_2 = derivation[\"term\"][\"t2\"][\"t\"][\"domID\"]\n",
    "                dep_2_node = create_graph(types_res, dep_2)\n",
    "                dependencies.append(dep_2_node)\n",
    "\n",
    "    return Node(name=type_name, dependencies=dependencies)"
   ],
   "id": "8f19868b5ba19fff",
   "outputs": [],
   "execution_count": 36
  },
  {
   "metadata": {
    "ExecuteTime": {
     "end_time": "2025-05-23T14:25:13.209995Z",
     "start_time": "2025-05-23T14:25:13.207990Z"
    }
   },
   "cell_type": "code",
   "source": "create_graph(types_response[\"types\"], \"human\")",
   "id": "e56533ae70b8e8df",
   "outputs": [
    {
     "data": {
      "text/plain": [
       "Node(name='human', dependencies=['featherless', 'biped'])"
      ]
     },
     "execution_count": 37,
     "metadata": {},
     "output_type": "execute_result"
    }
   ],
   "execution_count": 37
  },
  {
   "metadata": {
    "ExecuteTime": {
     "end_time": "2025-05-23T14:25:13.257114Z",
     "start_time": "2025-05-23T14:25:13.254670Z"
    }
   },
   "cell_type": "code",
   "source": [
    "def visualize_graph(node):\n",
    "    \"\"\"Visualize a Node and its dependencies as a graph.\"\"\"\n",
    "    # Create directed graph\n",
    "    graph = nx.DiGraph()\n",
    "\n",
    "    # Add the main node\n",
    "    graph.add_node(node.name)\n",
    "\n",
    "    # Add dependency nodes and edges recursively\n",
    "    def add_edges(n):\n",
    "        for dep in n.dependencies:\n",
    "            graph.add_node(dep.name)\n",
    "            graph.add_edge(n.name, dep.name)\n",
    "            add_edges(dep)\n",
    "\n",
    "    add_edges(node)\n",
    "\n",
    "    # Create figure\n",
    "    plt.figure(figsize=(8, 6))\n",
    "\n",
    "    # Set node positions\n",
    "    pos = nx.spring_layout(graph)\n",
    "\n",
    "    # Draw nodes with labels\n",
    "    nx.draw(graph, pos, with_labels=True,\n",
    "            node_color='white',\n",
    "            edgecolors='black',\n",
    "            node_size=1500,\n",
    "            font_size=10,\n",
    "            font_weight='normal',\n",
    "            width=1,\n",
    "            arrows=True,\n",
    "            arrowsize=15)"
   ],
   "id": "e75a9d52fc2a23d9",
   "outputs": [],
   "execution_count": 38
  },
  {
   "metadata": {
    "ExecuteTime": {
     "end_time": "2025-05-23T14:25:13.311948Z",
     "start_time": "2025-05-23T14:25:13.282172Z"
    }
   },
   "cell_type": "code",
   "source": "visualize_graph(create_graph(types_response[\"types\"], \"human\"))",
   "id": "cbf82a3a5da155b0",
   "outputs": [
    {
     "data": {
      "text/plain": [
       "<Figure size 800x600 with 1 Axes>"
      ],
      "image/png": "[encoded data removed]"
     },
     "metadata": {},
     "output_type": "display_data"
    }
   ],
   "execution_count": 39
  },
  {
   "metadata": {},
   "cell_type": "markdown",
   "source": [
    "Right now every relation is a conjunction, but we should to be able to use `or` as well. So we need to add that to the graph. So we need to make sure our graph understand that.\n",
    "So let's add another fact that could bypass `biped` and `featherless` and make it human, which is `intelligent`. This would mean our current graph is not sufficient to represent this conjunction and disjunction."
   ],
   "id": "98d4b0498bf7eb3a"
  },
  {
   "metadata": {
    "ExecuteTime": {
     "end_time": "2025-05-23T14:25:13.772986Z",
     "start_time": "2025-05-23T14:25:13.336318Z"
    }
   },
   "cell_type": "code",
   "source": [
    "ef.revert(1)\n",
    "ef.phrase(\"Fact entity Identified by String\")\n",
    "ef.phrase(\"Fact number_of_legs Identified by entity * int\")\n",
    "ef.phrase(\"Fact featherless Identified by entity\")\n",
    "ef.phrase(\"Fact biped Identified by entity Holds when (Exists number_of_legs : number_of_legs(entity, 2))\")\n",
    "ef.phrase(\"Fact intelligent Identified by entity\")  # this is the new one\n",
    "ef.phrase(\"Fact human Identified by entity Holds when (biped(entity) && featherless(entity)) || intelligent(entity)\")"
   ],
   "id": "e0efa6ca19a6004f",
   "outputs": [
    {
     "data": {
      "text/plain": [
       "{'all-disabled-transitions': [],\n",
       " 'all-duties': [],\n",
       " 'all-enabled-transitions': [],\n",
       " 'created_facts': [],\n",
       " 'errors': [],\n",
       " 'inst-query-results': [],\n",
       " 'new-disabled-transitions': [],\n",
       " 'new-duties': [],\n",
       " 'new-enabled-transitions': [],\n",
       " 'new-state': 363,\n",
       " 'old-state': 362,\n",
       " 'output-events': [],\n",
       " 'query-results': [],\n",
       " 'response': 'success',\n",
       " 'source_contents': [],\n",
       " 'target_contents': [],\n",
       " 'terminated-duties': [],\n",
       " 'terminated_facts': [],\n",
       " 'violations': []}"
      ]
     },
     "execution_count": 40,
     "metadata": {},
     "output_type": "execute_result"
    }
   ],
   "execution_count": 40
  },
  {
   "metadata": {
    "ExecuteTime": {
     "end_time": "2025-05-23T14:25:13.813996Z",
     "start_time": "2025-05-23T14:25:13.790827Z"
    }
   },
   "cell_type": "code",
   "source": [
    "ef.create(\"entity\", \"dolphin\")\n",
    "q_res = ef.query(\"human\", \"dolphin\")\n",
    "q_res[\"query-results\"]"
   ],
   "id": "a7b932dafe610253",
   "outputs": [
    {
     "data": {
      "text/plain": [
       "['failure']"
      ]
     },
     "execution_count": 41,
     "metadata": {},
     "output_type": "execute_result"
    }
   ],
   "execution_count": 41
  },
  {
   "metadata": {
    "ExecuteTime": {
     "end_time": "2025-05-23T14:25:13.852150Z",
     "start_time": "2025-05-23T14:25:13.835187Z"
    }
   },
   "cell_type": "code",
   "source": "ef.types()",
   "id": "66c638ba0e430f69",
   "outputs": [
    {
     "data": {
      "text/plain": [
       "{'types': {'actor': {'closed': True,\n",
       "   'conditions': [],\n",
       "   'derivation': [],\n",
       "   'domain': {'domain-type': 'AnyString'},\n",
       "   'domain_constraint': {'b': True, 'term-type': 'BoolLit'},\n",
       "   'kind': {'fact': {'actor': True, 'invariant': False}, 'kind-type': 'Fact'}},\n",
       "  'biped': {'closed': True,\n",
       "   'conditions': [],\n",
       "   'derivation': [{'derivation-type': 'HoldsWhen',\n",
       "     'term': {'t': {'t': {'args': {'Right': [{'term': {'term-type': 'Ref',\n",
       "            'var': {'domID': 'entity', 'string': ''}},\n",
       "           'var': {'domID': 'entity', 'string': ''}},\n",
       "          {'term': {'domID': 'int',\n",
       "            't': {'int': 2, 'term-type': 'IntLit'},\n",
       "            'term-type': 'Tag'},\n",
       "           'var': {'domID': 'int', 'string': ''}}]},\n",
       "        'domID': 'number_of_legs',\n",
       "        'term-type': 'App'},\n",
       "       'term-type': 'Present'},\n",
       "      'term-type': 'Exists',\n",
       "      'vars': [{'domID': 'number_of_legs', 'string': ''}]}}],\n",
       "   'domain': {'domain-type': 'Products',\n",
       "    'vars': [{'domID': 'entity', 'string': ''}]},\n",
       "   'domain_constraint': {'b': True, 'term-type': 'BoolLit'},\n",
       "   'kind': {'fact': {'actor': False, 'invariant': False},\n",
       "    'kind-type': 'Fact'}},\n",
       "  'entity': {'closed': True,\n",
       "   'conditions': [],\n",
       "   'derivation': [],\n",
       "   'domain': {'domain-type': 'AnyString'},\n",
       "   'domain_constraint': {'b': True, 'term-type': 'BoolLit'},\n",
       "   'kind': {'fact': {'actor': False, 'invariant': False},\n",
       "    'kind-type': 'Fact'}},\n",
       "  'featherless': {'closed': True,\n",
       "   'conditions': [],\n",
       "   'derivation': [],\n",
       "   'domain': {'domain-type': 'Products',\n",
       "    'vars': [{'domID': 'entity', 'string': ''}]},\n",
       "   'domain_constraint': {'b': True, 'term-type': 'BoolLit'},\n",
       "   'kind': {'fact': {'actor': False, 'invariant': False},\n",
       "    'kind-type': 'Fact'}},\n",
       "  'human': {'closed': True,\n",
       "   'conditions': [],\n",
       "   'derivation': [{'derivation-type': 'HoldsWhen',\n",
       "     'term': {'t1': {'t1': {'t': {'args': {'Right': [{'term': {'term-type': 'Ref',\n",
       "             'var': {'domID': 'entity', 'string': ''}},\n",
       "            'var': {'domID': 'entity', 'string': ''}}]},\n",
       "         'domID': 'biped',\n",
       "         'term-type': 'App'},\n",
       "        'term-type': 'Present'},\n",
       "       't2': {'t': {'args': {'Right': [{'term': {'term-type': 'Ref',\n",
       "             'var': {'domID': 'entity', 'string': ''}},\n",
       "            'var': {'domID': 'entity', 'string': ''}}]},\n",
       "         'domID': 'featherless',\n",
       "         'term-type': 'App'},\n",
       "        'term-type': 'Present'},\n",
       "       'term-type': 'And'},\n",
       "      't2': {'t': {'args': {'Right': [{'term': {'term-type': 'Ref',\n",
       "            'var': {'domID': 'entity', 'string': ''}},\n",
       "           'var': {'domID': 'entity', 'string': ''}}]},\n",
       "        'domID': 'intelligent',\n",
       "        'term-type': 'App'},\n",
       "       'term-type': 'Present'},\n",
       "      'term-type': 'Or'}}],\n",
       "   'domain': {'domain-type': 'Products',\n",
       "    'vars': [{'domID': 'entity', 'string': ''}]},\n",
       "   'domain_constraint': {'b': True, 'term-type': 'BoolLit'},\n",
       "   'kind': {'fact': {'actor': False, 'invariant': False},\n",
       "    'kind-type': 'Fact'}},\n",
       "  'int': {'closed': True,\n",
       "   'conditions': [],\n",
       "   'derivation': [],\n",
       "   'domain': {'domain-type': 'AnyInt'},\n",
       "   'domain_constraint': {'b': True, 'term-type': 'BoolLit'},\n",
       "   'kind': {'fact': {'actor': False, 'invariant': False},\n",
       "    'kind-type': 'Fact'}},\n",
       "  'intelligent': {'closed': True,\n",
       "   'conditions': [],\n",
       "   'derivation': [],\n",
       "   'domain': {'domain-type': 'Products',\n",
       "    'vars': [{'domID': 'entity', 'string': ''}]},\n",
       "   'domain_constraint': {'b': True, 'term-type': 'BoolLit'},\n",
       "   'kind': {'fact': {'actor': False, 'invariant': False},\n",
       "    'kind-type': 'Fact'}},\n",
       "  'number_of_legs': {'closed': True,\n",
       "   'conditions': [],\n",
       "   'derivation': [],\n",
       "   'domain': {'domain-type': 'Products',\n",
       "    'vars': [{'domID': 'entity', 'string': ''},\n",
       "     {'domID': 'int', 'string': ''}]},\n",
       "   'domain_constraint': {'b': True, 'term-type': 'BoolLit'},\n",
       "   'kind': {'fact': {'actor': False, 'invariant': False},\n",
       "    'kind-type': 'Fact'}},\n",
       "  'string': {'closed': True,\n",
       "   'conditions': [],\n",
       "   'derivation': [],\n",
       "   'domain': {'domain-type': 'AnyString'},\n",
       "   'domain_constraint': {'b': True, 'term-type': 'BoolLit'},\n",
       "   'kind': {'fact': {'actor': False, 'invariant': False},\n",
       "    'kind-type': 'Fact'}}}}"
      ]
     },
     "execution_count": 42,
     "metadata": {},
     "output_type": "execute_result"
    }
   ],
   "execution_count": 42
  },
  {
   "metadata": {
    "ExecuteTime": {
     "end_time": "2025-05-23T14:25:13.921144Z",
     "start_time": "2025-05-23T14:25:13.872018Z"
    }
   },
   "cell_type": "code",
   "source": [
    "ef.create(\"intelligent\", \"dolphin\")\n",
    "ef.create(\"number_of_legs\", [\"dolphin\", 0])\n",
    "ef.create(\"featherless\", \"dolphin\")\n",
    "q_res = ef.query(\"human\", \"dolphin\")\n",
    "q_res[\"query-results\"]"
   ],
   "id": "58708e1cd09fbe44",
   "outputs": [
    {
     "data": {
      "text/plain": [
       "['success']"
      ]
     },
     "execution_count": 43,
     "metadata": {},
     "output_type": "execute_result"
    }
   ],
   "execution_count": 43
  },
  {
   "metadata": {},
   "cell_type": "markdown",
   "source": "The query works, but the graph is broken. We have to fix this",
   "id": "17057aa5d5c37681"
  },
  {
   "metadata": {
    "ExecuteTime": {
     "end_time": "2025-05-23T14:25:13.969934Z",
     "start_time": "2025-05-23T14:25:13.936043Z"
    }
   },
   "cell_type": "code",
   "source": "visualize_graph(create_graph(ef.types()[\"types\"], \"human\"))",
   "id": "fcbb5d53cd52687e",
   "outputs": [
    {
     "data": {
      "text/plain": [
       "<Figure size 800x600 with 1 Axes>"
      ],
      "image/png": "[encoded data removed]"
     },
     "metadata": {},
     "output_type": "display_data"
    }
   ],
   "execution_count": 44
  },
  {
   "metadata": {
    "ExecuteTime": {
     "end_time": "2025-05-23T14:25:13.991226Z",
     "start_time": "2025-05-23T14:25:13.987414Z"
    }
   },
   "cell_type": "code",
   "source": [
    "def extract_dom_ids(term: dict) -> list:\n",
    "    \"\"\"\n",
    "    Recursively extract all domID values from 'App' terms within a term tree.\n",
    "    \"\"\"\n",
    "    dom_ids = []\n",
    "    term_type = term.get(\"term-type\")\n",
    "\n",
    "    if term_type == \"App\":\n",
    "        dom_id = term.get(\"domID\")\n",
    "        if dom_id:\n",
    "            dom_ids.append(dom_id)\n",
    "        # Recurse into arguments\n",
    "        args = term.get(\"args\", {}).get(\"Right\", [])\n",
    "        for arg in args:\n",
    "            inner_term = arg.get(\"term\")\n",
    "            if inner_term:\n",
    "                dom_ids.extend(extract_dom_ids(inner_term))\n",
    "\n",
    "    elif term_type in {\"Present\", \"Not\", \"Exists\"}:\n",
    "        inner_term = term.get(\"t\")\n",
    "        if inner_term:\n",
    "            dom_ids.extend(extract_dom_ids(inner_term.get(\"t\", inner_term)))\n",
    "\n",
    "    elif term_type in {\"And\", \"Or\"}:\n",
    "        for sub_term_key in [\"t1\", \"t2\"]:\n",
    "            if sub_term_key in term:\n",
    "                dom_ids.extend(extract_dom_ids(term[sub_term_key]))\n",
    "\n",
    "    elif term_type == \"Ref\":\n",
    "        pass  # typically no domID to extract from Ref itself\n",
    "\n",
    "    return dom_ids\n",
    "\n",
    "\n",
    "def create_graph(types_res: dict, type_name: str) -> Node:\n",
    "    \"\"\"\n",
    "    Convert a response types dict to a Node object with dependencies. Recursively extracts all domIDs.\n",
    "    \"\"\"\n",
    "    dependencies = []\n",
    "    type_info = types_res.get(type_name, {})\n",
    "\n",
    "    for derivation in type_info.get(\"derivation\", []):\n",
    "        if derivation.get(\"derivation-type\") == 'HoldsWhen':\n",
    "            term = derivation.get(\"term\", {})\n",
    "            dom_ids = extract_dom_ids(term)\n",
    "            for dep in dom_ids:\n",
    "                if dep in types_res:  # Only recurse if it's a known type\n",
    "                    dep_node = create_graph(types_res, dep)\n",
    "                    dependencies.append(dep_node)\n",
    "\n",
    "    return Node(name=type_name, dependencies=dependencies)"
   ],
   "id": "e5a663aee858feba",
   "outputs": [],
   "execution_count": 45
  },
  {
   "metadata": {
    "ExecuteTime": {
     "end_time": "2025-05-23T14:25:14.037507Z",
     "start_time": "2025-05-23T14:25:14.016032Z"
    }
   },
   "cell_type": "code",
   "source": "create_graph(ef.types()[\"types\"], \"human\")",
   "id": "f31b2d4623d5291",
   "outputs": [
    {
     "data": {
      "text/plain": [
       "Node(name='human', dependencies=['biped', 'featherless', 'intelligent'])"
      ]
     },
     "execution_count": 46,
     "metadata": {},
     "output_type": "execute_result"
    }
   ],
   "execution_count": 46
  },
  {
   "metadata": {
    "ExecuteTime": {
     "end_time": "2025-05-23T14:25:14.169651Z",
     "start_time": "2025-05-23T14:25:14.086041Z"
    }
   },
   "cell_type": "code",
   "source": "visualize_graph(create_graph(ef.types()[\"types\"], \"human\"))",
   "id": "933236faf76c0378",
   "outputs": [
    {
     "data": {
      "text/plain": [
       "<Figure size 800x600 with 1 Axes>"
      ],
      "image/png": "[encoded data removed]"
     },
     "metadata": {},
     "output_type": "display_data"
    }
   ],
   "execution_count": 47
  },
  {
   "metadata": {},
   "cell_type": "markdown",
   "source": "We have somewhat successfully create a dependencies graph from a simple eFLINT, though it is not entirely correct due to missing conjunction and disjunction labels, but we can fix that later.",
   "id": "f27229437e7f3a6f"
  },
  {
   "metadata": {},
   "cell_type": "markdown",
   "source": "# Generating questionnaire",
   "id": "6fda07558dc50ed0"
  },
  {
   "metadata": {},
   "cell_type": "markdown",
   "source": [
    "First, some example from LiveQL DSL.\n",
    "```\n",
    "form Box1HouseOwning {\n",
    "  \"Did you sell a house in 2010?\"\n",
    "     hasSoldHouse: bool\n",
    "  \"Did you buy a house in 2010?\"\n",
    "     hasBoughtHouse: bool\n",
    "  \"Did you enter a loan for maintenance?\"\n",
    "     hasMaintLoan: bool\n",
    "\n",
    "  if (hasSoldHouse) {\n",
    "    \"Private debts for the sold house:\"\n",
    "       privateDebt: int\n",
    "    \"Price the house was sold for:\"\n",
    "       sellingPrice: int\n",
    "    \"Value residue:\"\n",
    "       valueResidue: int (sellingPrice - privateDebt)\n",
    "  }\n",
    "}\n",
    "```"
   ],
   "id": "b7cb262c7df685aa"
  },
  {
   "metadata": {},
   "cell_type": "markdown",
   "source": "This means that we have to target most relevant leaf nodes in our graph to generate the questionnaire.",
   "id": "78f11c9e591b3865"
  },
  {
   "metadata": {
    "ExecuteTime": {
     "end_time": "2025-05-23T14:25:14.207105Z",
     "start_time": "2025-05-23T14:25:14.186558Z"
    }
   },
   "cell_type": "code",
   "source": [
    "human_node = create_graph(ef.types()[\"types\"], \"human\")\n",
    "human_node"
   ],
   "id": "9f270f470bcf94cf",
   "outputs": [
    {
     "data": {
      "text/plain": [
       "Node(name='human', dependencies=['biped', 'featherless', 'intelligent'])"
      ]
     },
     "execution_count": 48,
     "metadata": {},
     "output_type": "execute_result"
    }
   ],
   "execution_count": 48
  },
  {
   "metadata": {
    "ExecuteTime": {
     "end_time": "2025-05-23T14:25:14.233932Z",
     "start_time": "2025-05-23T14:25:14.230993Z"
    }
   },
   "cell_type": "code",
   "source": [
    "def collect_leaf_nodes(node: Node, visited=None) -> set:\n",
    "    if visited is None:\n",
    "        visited = set()\n",
    "\n",
    "    if node.name in visited:\n",
    "        return set()\n",
    "\n",
    "    visited.add(node.name)\n",
    "\n",
    "    if not node.dependencies:\n",
    "        return {node.name}\n",
    "\n",
    "    leaves = set()\n",
    "    for dep in node.dependencies:\n",
    "        leaves.update(collect_leaf_nodes(dep, visited))\n",
    "    return leaves\n",
    "\n",
    "\n",
    "def generate_dsl(root: Node, form_name: str = \"GeneratedForm\") -> str:\n",
    "    leaf_nodes = collect_leaf_nodes(root)\n",
    "\n",
    "    lines = [f\"form {form_name} {{\"]\n",
    "    for name in sorted(leaf_nodes):\n",
    "        question = f'\"Do you have {name.replace(\"_\", \" \")}?\"'\n",
    "        lines.append(f\"  {question}\")\n",
    "        lines.append(f\"     {name}: bool\")\n",
    "    lines.append(\"}\")\n",
    "\n",
    "    return \"\\n\".join(lines)"
   ],
   "id": "b5c25b4e229b1b5f",
   "outputs": [],
   "execution_count": 49
  },
  {
   "metadata": {
    "ExecuteTime": {
     "end_time": "2025-05-23T14:25:14.263076Z",
     "start_time": "2025-05-23T14:25:14.261421Z"
    }
   },
   "cell_type": "code",
   "source": [
    "dsl_output = generate_dsl(human_node, \"HumanForm\")\n",
    "print(dsl_output)"
   ],
   "id": "c9cd071b3a37bc93",
   "outputs": [
    {
     "name": "stdout",
     "output_type": "stream",
     "text": [
      "form HumanForm {\n",
      "  \"Do you have featherless?\"\n",
      "     featherless: bool\n",
      "  \"Do you have intelligent?\"\n",
      "     intelligent: bool\n",
      "  \"Do you have number of legs?\"\n",
      "     number_of_legs: bool\n",
      "}\n"
     ]
    }
   ],
   "execution_count": 50
  },
  {
   "metadata": {},
   "cell_type": "markdown",
   "source": "Then we can produce a .ql file then open it in LiveQL editor.",
   "id": "ac3fff088ccf4710"
  },
  {
   "metadata": {
    "ExecuteTime": {
     "end_time": "2025-05-23T14:25:14.314209Z",
     "start_time": "2025-05-23T14:25:14.312005Z"
    }
   },
   "cell_type": "code",
   "source": [
    "import os\n",
    "\n",
    "\n",
    "def save_dsl_to_file(root: Node, form_name: str, path: str):\n",
    "    dsl_content = generate_dsl(root, form_name)\n",
    "\n",
    "    os.makedirs(os.path.dirname(path), exist_ok=True)\n",
    "    with open(path, \"w\") as f:\n",
    "        f.write(dsl_content)\n",
    "\n",
    "    print(f\"DSL saved to {path}\")"
   ],
   "id": "f47c4359dfba4d58",
   "outputs": [],
   "execution_count": 51
  },
  {
   "metadata": {
    "ExecuteTime": {
     "end_time": "2025-05-23T14:25:14.348181Z",
     "start_time": "2025-05-23T14:25:14.344794Z"
    }
   },
   "cell_type": "code",
   "source": [
    "save_dsl_to_file(human_node, form_name=\"HumanForm\",\n",
    "                 path=\"/Users/tiemfah/Projects/LiveQL/bin/nl/cwi/swat/liveql/examples/eflint.ql\")"
   ],
   "id": "36adaf340154bc4a",
   "outputs": [
    {
     "name": "stdout",
     "output_type": "stream",
     "text": [
      "DSL saved to /Users/tiemfah/Projects/LiveQL/bin/nl/cwi/swat/liveql/examples/eflint.ql\n"
     ]
    }
   ],
   "execution_count": 52
  },
  {
   "metadata": {},
   "cell_type": "markdown",
   "source": "Then we can start an editor in LiveQL and open the file.",
   "id": "55cf7f41c3c1c332"
  },
  {
   "metadata": {
    "ExecuteTime": {
     "end_time": "2025-05-23T14:25:14.398190Z",
     "start_time": "2025-05-23T14:25:14.396403Z"
    }
   },
   "cell_type": "code",
   "source": "os.environ['PATH'] = \"/opt/homebrew/opt/openjdk@21/bin:\" + os.environ['PATH']",
   "id": "23c5c890495a6eeb",
   "outputs": [],
   "execution_count": 53
  },
  {
   "metadata": {
    "ExecuteTime": {
     "end_time": "2025-05-23T14:25:14.431855Z",
     "start_time": "2025-05-23T14:25:14.429890Z"
    }
   },
   "cell_type": "code",
   "source": "# subprocess.run([\"sh\", \"/Users/tiemfah/Projects/LiveQL/run.sh\"])",
   "id": "51aa0ee9a2e09d02",
   "outputs": [],
   "execution_count": 54
  },
  {
   "metadata": {},
   "cell_type": "markdown",
   "source": [
    "We got the wording totally wrong, the typing is missing and right now it is asking all possible leaf nodes, which is unnecessary. We need to fix that.\n",
    "![Wrong form wording](img/wrong_form_wording.png)"
   ],
   "id": "5b164c4e0487dc21"
  },
  {
   "metadata": {
    "ExecuteTime": {
     "end_time": "2025-05-23T14:25:14.495926Z",
     "start_time": "2025-05-23T14:25:14.474041Z"
    }
   },
   "cell_type": "code",
   "source": "ef.types()",
   "id": "d9866a5ccaa9c310",
   "outputs": [
    {
     "data": {
      "text/plain": [
       "{'types': {'actor': {'closed': True,\n",
       "   'conditions': [],\n",
       "   'derivation': [],\n",
       "   'domain': {'domain-type': 'AnyString'},\n",
       "   'domain_constraint': {'b': True, 'term-type': 'BoolLit'},\n",
       "   'kind': {'fact': {'actor': True, 'invariant': False}, 'kind-type': 'Fact'}},\n",
       "  'biped': {'closed': True,\n",
       "   'conditions': [],\n",
       "   'derivation': [{'derivation-type': 'HoldsWhen',\n",
       "     'term': {'t': {'t': {'args': {'Right': [{'term': {'term-type': 'Ref',\n",
       "            'var': {'domID': 'entity', 'string': ''}},\n",
       "           'var': {'domID': 'entity', 'string': ''}},\n",
       "          {'term': {'domID': 'int',\n",
       "            't': {'int': 2, 'term-type': 'IntLit'},\n",
       "            'term-type': 'Tag'},\n",
       "           'var': {'domID': 'int', 'string': ''}}]},\n",
       "        'domID': 'number_of_legs',\n",
       "        'term-type': 'App'},\n",
       "       'term-type': 'Present'},\n",
       "      'term-type': 'Exists',\n",
       "      'vars': [{'domID': 'number_of_legs', 'string': ''}]}}],\n",
       "   'domain': {'domain-type': 'Products',\n",
       "    'vars': [{'domID': 'entity', 'string': ''}]},\n",
       "   'domain_constraint': {'b': True, 'term-type': 'BoolLit'},\n",
       "   'kind': {'fact': {'actor': False, 'invariant': False},\n",
       "    'kind-type': 'Fact'}},\n",
       "  'entity': {'closed': True,\n",
       "   'conditions': [],\n",
       "   'derivation': [],\n",
       "   'domain': {'domain-type': 'AnyString'},\n",
       "   'domain_constraint': {'b': True, 'term-type': 'BoolLit'},\n",
       "   'kind': {'fact': {'actor': False, 'invariant': False},\n",
       "    'kind-type': 'Fact'}},\n",
       "  'featherless': {'closed': True,\n",
       "   'conditions': [],\n",
       "   'derivation': [],\n",
       "   'domain': {'domain-type': 'Products',\n",
       "    'vars': [{'domID': 'entity', 'string': ''}]},\n",
       "   'domain_constraint': {'b': True, 'term-type': 'BoolLit'},\n",
       "   'kind': {'fact': {'actor': False, 'invariant': False},\n",
       "    'kind-type': 'Fact'}},\n",
       "  'human': {'closed': True,\n",
       "   'conditions': [],\n",
       "   'derivation': [{'derivation-type': 'HoldsWhen',\n",
       "     'term': {'t1': {'t1': {'t': {'args': {'Right': [{'term': {'term-type': 'Ref',\n",
       "             'var': {'domID': 'entity', 'string': ''}},\n",
       "            'var': {'domID': 'entity', 'string': ''}}]},\n",
       "         'domID': 'biped',\n",
       "         'term-type': 'App'},\n",
       "        'term-type': 'Present'},\n",
       "       't2': {'t': {'args': {'Right': [{'term': {'term-type': 'Ref',\n",
       "             'var': {'domID': 'entity', 'string': ''}},\n",
       "            'var': {'domID': 'entity', 'string': ''}}]},\n",
       "         'domID': 'featherless',\n",
       "         'term-type': 'App'},\n",
       "        'term-type': 'Present'},\n",
       "       'term-type': 'And'},\n",
       "      't2': {'t': {'args': {'Right': [{'term': {'term-type': 'Ref',\n",
       "            'var': {'domID': 'entity', 'string': ''}},\n",
       "           'var': {'domID': 'entity', 'string': ''}}]},\n",
       "        'domID': 'intelligent',\n",
       "        'term-type': 'App'},\n",
       "       'term-type': 'Present'},\n",
       "      'term-type': 'Or'}}],\n",
       "   'domain': {'domain-type': 'Products',\n",
       "    'vars': [{'domID': 'entity', 'string': ''}]},\n",
       "   'domain_constraint': {'b': True, 'term-type': 'BoolLit'},\n",
       "   'kind': {'fact': {'actor': False, 'invariant': False},\n",
       "    'kind-type': 'Fact'}},\n",
       "  'int': {'closed': True,\n",
       "   'conditions': [],\n",
       "   'derivation': [],\n",
       "   'domain': {'domain-type': 'AnyInt'},\n",
       "   'domain_constraint': {'b': True, 'term-type': 'BoolLit'},\n",
       "   'kind': {'fact': {'actor': False, 'invariant': False},\n",
       "    'kind-type': 'Fact'}},\n",
       "  'intelligent': {'closed': True,\n",
       "   'conditions': [],\n",
       "   'derivation': [],\n",
       "   'domain': {'domain-type': 'Products',\n",
       "    'vars': [{'domID': 'entity', 'string': ''}]},\n",
       "   'domain_constraint': {'b': True, 'term-type': 'BoolLit'},\n",
       "   'kind': {'fact': {'actor': False, 'invariant': False},\n",
       "    'kind-type': 'Fact'}},\n",
       "  'number_of_legs': {'closed': True,\n",
       "   'conditions': [],\n",
       "   'derivation': [],\n",
       "   'domain': {'domain-type': 'Products',\n",
       "    'vars': [{'domID': 'entity', 'string': ''},\n",
       "     {'domID': 'int', 'string': ''}]},\n",
       "   'domain_constraint': {'b': True, 'term-type': 'BoolLit'},\n",
       "   'kind': {'fact': {'actor': False, 'invariant': False},\n",
       "    'kind-type': 'Fact'}},\n",
       "  'string': {'closed': True,\n",
       "   'conditions': [],\n",
       "   'derivation': [],\n",
       "   'domain': {'domain-type': 'AnyString'},\n",
       "   'domain_constraint': {'b': True, 'term-type': 'BoolLit'},\n",
       "   'kind': {'fact': {'actor': False, 'invariant': False},\n",
       "    'kind-type': 'Fact'}}}}"
      ]
     },
     "execution_count": 55,
     "metadata": {},
     "output_type": "execute_result"
    }
   ],
   "execution_count": 55
  },
  {
   "metadata": {},
   "cell_type": "markdown",
   "source": [
    "# Introducing `AND` and `OR` into the graph\n",
    "because what we have right now is not sufficient."
   ],
   "id": "6959bc3de8833a1e"
  },
  {
   "metadata": {
    "ExecuteTime": {
     "end_time": "2025-05-23T14:25:14.537218Z",
     "start_time": "2025-05-23T14:25:14.532406Z"
    }
   },
   "cell_type": "code",
   "source": [
    "from typing import Union\n",
    "\n",
    "ALL_NODE_TYPES = Union[\"Node\", \"OrNode\", \"AndNode\", \"EqualsNode\", \"GreaterNode\"]\n",
    "\n",
    "\n",
    "@dataclass\n",
    "class Node:\n",
    "    name: str\n",
    "    dependencies: List[Node] = None\n",
    "\n",
    "    def __repr__(self):\n",
    "        dep_names = [dep.name for dep in self.dependencies]\n",
    "        return f\"{type(self).__name__}(name='{self.name}', dependencies={dep_names})\"\n",
    "\n",
    "    def __post_init__(self):\n",
    "        if self.dependencies is None:\n",
    "            self.dependencies = []\n",
    "\n",
    "\n",
    "@dataclass\n",
    "class OrNode(Node):\n",
    "    name: str = \"OR\"\n",
    "\n",
    "\n",
    "@dataclass\n",
    "class AndNode(Node):\n",
    "    name: str = \"AND\"\n",
    "\n",
    "\n",
    "@dataclass\n",
    "class EqualsNode(Node):\n",
    "    name: str = \"EQUALS\"\n",
    "    left: Node = None\n",
    "    right: Node = None\n",
    "\n",
    "    def __repr__(self):\n",
    "        return f\"EqualsNode(left={self.left.name}, right={self.right.name})\"\n",
    "\n",
    "\n",
    "@dataclass\n",
    "class GreaterNode(Node):\n",
    "    name: str = \"GREATER\"\n",
    "    left: Node = None\n",
    "    right: Node = None\n",
    "\n",
    "    def __repr__(self):\n",
    "        return f\"GreaterNode(left={self.left.name}, right={self.right.name})\"\n",
    "\n",
    "\n",
    "@dataclass\n",
    "class CountNode(Node):\n",
    "    name: str = \"COUNT\""
   ],
   "id": "a9a97f40cbfb1645",
   "outputs": [],
   "execution_count": 56
  },
  {
   "metadata": {},
   "cell_type": "markdown",
   "source": "After we have some dataclasses, we can start parsing the json response into graph. then with another function we could visualize only the node that is related to the query.",
   "id": "d90bb9cffd5262ba"
  },
  {
   "metadata": {
    "ExecuteTime": {
     "end_time": "2025-05-23T14:25:14.568127Z",
     "start_time": "2025-05-23T14:25:14.562699Z"
    }
   },
   "cell_type": "code",
   "source": [
    "from typing import Dict\n",
    "\n",
    "\n",
    "def create_graph(types_res: dict) -> Dict[str, Node]:\n",
    "    \"\"\"\n",
    "    Convert a response types json to a graph that is connected then return the dict of query to root node of that query.\n",
    "    \"\"\"\n",
    "    name_to_node = {}  # Cache for nodes we've already created\n",
    "\n",
    "    def _extract_dependencies(node_name: str) -> List[ALL_NODE_TYPES]:\n",
    "        \"\"\"\n",
    "        Recursively extract dependencies from the types response.\n",
    "        \"\"\"\n",
    "        # Skip if the node_name doesn't exist in the types dictionary\n",
    "        if node_name not in types_res[\"types\"]:\n",
    "            return []\n",
    "\n",
    "        # Already traverse this before.\n",
    "        if node_name in name_to_node:\n",
    "            return [name_to_node[node_name]]  # Return the node, not just its dependencies\n",
    "\n",
    "        # Else create a new node for this name\n",
    "        node = Node(name=node_name)\n",
    "        name_to_node[node_name] = node\n",
    "\n",
    "        # Extract dependencies from derivations\n",
    "        dependencies = []\n",
    "        type_definition = types_res[\"types\"][node_name]\n",
    "\n",
    "        # Skip if there are no derivations\n",
    "        if \"derivation\" not in type_definition or not type_definition[\"derivation\"]:\n",
    "            return [node]\n",
    "\n",
    "        for derivation in type_definition[\"derivation\"]:\n",
    "            if derivation[\"derivation-type\"] == 'HoldsWhen':\n",
    "                term = derivation[\"term\"]\n",
    "                parsed_term = _parse_term(term)\n",
    "                if parsed_term:\n",
    "                    dependencies.extend(parsed_term)\n",
    "\n",
    "        node.dependencies = dependencies\n",
    "        return [node]\n",
    "\n",
    "    def _parse_term(term: Dict) -> List[ALL_NODE_TYPES]:\n",
    "        \"\"\"Parse a term structure and return corresponding nodes\"\"\"\n",
    "        term_type = term.get(\"term-type\")\n",
    "\n",
    "        if not term_type:\n",
    "            return []\n",
    "\n",
    "        if term_type == 'And':\n",
    "            and_node = AndNode()\n",
    "\n",
    "            # Handle t1\n",
    "            t1 = term.get(\"t1\", {})\n",
    "            t1_deps = _parse_term(t1)\n",
    "            if t1_deps:\n",
    "                and_node.dependencies.extend(t1_deps)\n",
    "\n",
    "            # Handle t2\n",
    "            t2 = term.get(\"t2\", {})\n",
    "            t2_deps = _parse_term(t2)\n",
    "            if t2_deps:\n",
    "                and_node.dependencies.extend(t2_deps)\n",
    "\n",
    "            return [and_node] if and_node.dependencies else []\n",
    "\n",
    "        elif term_type == 'Or':\n",
    "            or_node = OrNode()\n",
    "\n",
    "            # Handle t1\n",
    "            t1 = term.get(\"t1\", {})\n",
    "            t1_deps = _parse_term(t1)\n",
    "            if t1_deps:\n",
    "                or_node.dependencies.extend(t1_deps)\n",
    "\n",
    "            # Handle t2\n",
    "            t2 = term.get(\"t2\", {})\n",
    "            t2_deps = _parse_term(t2)\n",
    "            if t2_deps:\n",
    "                or_node.dependencies.extend(t2_deps)\n",
    "\n",
    "            return [or_node] if or_node.dependencies else []\n",
    "\n",
    "        elif term_type == 'Present':\n",
    "            t = term.get(\"t\", {})\n",
    "            return _parse_term(t)\n",
    "\n",
    "        elif term_type == 'Exists':\n",
    "            present_term = term.get(\"t\", {})\n",
    "            if present_term.get(\"term-type\", \"\") == 'Present':\n",
    "                inner_present_term = present_term.get(\"t\", {})\n",
    "                if inner_present_term.get(\"term-type\", \"\") == 'App':\n",
    "                    left_value = inner_present_term.get(\"domID\", '')\n",
    "\n",
    "                    right_value = None\n",
    "                    args = inner_present_term.get(\"args\", {}).get('Right', [])\n",
    "                    for arg in args:\n",
    "                        term_obj = arg.get('term', {})\n",
    "                        if term_obj.get('term-type') == 'Tag' and term_obj.get('domID') == 'int':\n",
    "                            int_lit = term_obj.get('t', {})\n",
    "                            if int_lit.get('term-type') == 'IntLit':\n",
    "                                right_value = int_lit.get('int')\n",
    "                                break\n",
    "                    if left_value and right_value is not None:\n",
    "                        # Create nodes for left and right sides\n",
    "                        left_node = Node(name=left_value)\n",
    "                        right_node = Node(name=str(right_value))\n",
    "\n",
    "                        # Create the equality node\n",
    "                        equals_node = EqualsNode(\n",
    "                            name=f\"{left_value} == {right_value}\",\n",
    "                            dependencies=[left_node, right_node],\n",
    "                            left=left_node,\n",
    "                            right=right_node\n",
    "                        )\n",
    "                        return [equals_node]\n",
    "\n",
    "            t = term.get(\"t\", {})\n",
    "            return _parse_term(t)\n",
    "\n",
    "        elif term_type == 'App':\n",
    "            dom_id = term.get(\"domID\")\n",
    "            if dom_id and dom_id in types_res[\"types\"]:\n",
    "                return _extract_dependencies(dom_id)\n",
    "\n",
    "        return []\n",
    "\n",
    "    # Process all types\n",
    "    for type_name in types_res[\"types\"]:\n",
    "        if type_name not in name_to_node:\n",
    "            _extract_dependencies(type_name)\n",
    "\n",
    "    return name_to_node\n"
   ],
   "id": "f9288064dd762903",
   "outputs": [],
   "execution_count": 57
  },
  {
   "metadata": {
    "ExecuteTime": {
     "end_time": "2025-05-23T14:25:14.610736Z",
     "start_time": "2025-05-23T14:25:14.591113Z"
    }
   },
   "cell_type": "code",
   "source": [
    "type_graph = create_graph(ef.types())\n",
    "type_graph"
   ],
   "id": "4ac991c8c3112964",
   "outputs": [
    {
     "data": {
      "text/plain": [
       "{'actor': Node(name='actor', dependencies=[]),\n",
       " 'biped': Node(name='biped', dependencies=['number_of_legs == 2']),\n",
       " 'entity': Node(name='entity', dependencies=[]),\n",
       " 'featherless': Node(name='featherless', dependencies=[]),\n",
       " 'human': Node(name='human', dependencies=['OR']),\n",
       " 'intelligent': Node(name='intelligent', dependencies=[]),\n",
       " 'int': Node(name='int', dependencies=[]),\n",
       " 'number_of_legs': Node(name='number_of_legs', dependencies=[]),\n",
       " 'string': Node(name='string', dependencies=[])}"
      ]
     },
     "execution_count": 58,
     "metadata": {},
     "output_type": "execute_result"
    }
   ],
   "execution_count": 58
  },
  {
   "metadata": {
    "ExecuteTime": {
     "end_time": "2025-05-23T14:25:14.635060Z",
     "start_time": "2025-05-23T14:25:14.630634Z"
    }
   },
   "cell_type": "code",
   "source": [
    "def visualize_graph(node: ALL_NODE_TYPES, fig_size=(12, 9), title=None):\n",
    "    \"\"\"\n",
    "    Visualize a Node and its dependencies as a network graph using NetworkX and Matplotlib.\n",
    "    Properly handles AndNode and OrNode types.\n",
    "    \"\"\"\n",
    "    # Create directed graph\n",
    "    graph = nx.DiGraph()\n",
    "\n",
    "    # Keep track of visited nodes to avoid cycles\n",
    "    visited = set()\n",
    "\n",
    "    root_node = node\n",
    "\n",
    "    # Add nodes and edges recursively\n",
    "    def add_nodes_and_edges(n, parent=None):\n",
    "        if isinstance(n, EqualsNode):\n",
    "            node_label = \"EXISTS\"\n",
    "            node_color = 'lightyellow'\n",
    "        elif isinstance(n, AndNode):\n",
    "            node_label = \"AND\"\n",
    "            node_color = 'lightgreen'\n",
    "        elif isinstance(n, OrNode):\n",
    "            node_label = \"OR\"\n",
    "            node_color = 'salmon'\n",
    "        elif isinstance(n, Node):\n",
    "            node_label = n.name\n",
    "            node_color = 'lightblue'\n",
    "            if id(n) == id(root_node):\n",
    "                node_color = 'pink'\n",
    "        else:\n",
    "            return\n",
    "\n",
    "        # Add the node with its attributes\n",
    "        graph.add_node(id(n), label=node_label, color=node_color)\n",
    "\n",
    "        # Add edge from parent if it exists\n",
    "        if parent:\n",
    "            graph.add_edge(parent, id(n))\n",
    "\n",
    "        # Skip if we've already processed this Node to avoid cycles\n",
    "        if isinstance(n, Node) and n.name in visited:\n",
    "            return\n",
    "\n",
    "        # Mark as visited\n",
    "        if isinstance(n, Node):\n",
    "            visited.add(n.name)\n",
    "\n",
    "        # Process dependencies\n",
    "        for dep in n.dependencies:\n",
    "            add_nodes_and_edges(dep, id(n))\n",
    "\n",
    "        if isinstance(n, EqualsNode):\n",
    "            add_nodes_and_edges(n.left, id(n))\n",
    "            add_nodes_and_edges(n.right, id(n))\n",
    "\n",
    "    # Start with the main node\n",
    "    add_nodes_and_edges(node)\n",
    "\n",
    "    # Extract node attributes\n",
    "    node_colors = [graph.nodes[n].get('color', 'white') for n in graph.nodes()]\n",
    "    node_labels = {n: graph.nodes[n].get('label', n) for n in graph.nodes()}\n",
    "\n",
    "    # Create figure\n",
    "    plt.figure(figsize=fig_size)\n",
    "    if title:\n",
    "        plt.title(title)\n",
    "\n",
    "    # Set node positions\n",
    "    pos = nx.spring_layout(graph, seed=42, k=0.5)\n",
    "\n",
    "    # Draw nodes\n",
    "    nx.draw(graph, pos,\n",
    "            labels=node_labels,\n",
    "            node_color=node_colors,\n",
    "            edgecolors='black',\n",
    "            node_size=2000,\n",
    "            font_size=10,\n",
    "            font_weight='bold',\n",
    "            width=1.5,\n",
    "            arrows=True,\n",
    "            arrowsize=20,\n",
    "            arrowstyle='-|>',\n",
    "            connectionstyle='arc3,rad=0.1')\n",
    "\n",
    "    # Adjust figure margins instead of using tight_layout\n",
    "    plt.subplots_adjust(left=0.05, right=0.95, top=0.95, bottom=0.05)\n",
    "    plt.axis('off')\n",
    "    return plt"
   ],
   "id": "4827a2bc113e66bb",
   "outputs": [],
   "execution_count": 59
  },
  {
   "metadata": {
    "ExecuteTime": {
     "end_time": "2025-05-23T14:25:14.736681Z",
     "start_time": "2025-05-23T14:25:14.661852Z"
    }
   },
   "cell_type": "code",
   "source": "visualize_graph(type_graph[\"human\"], title=\"Human Type Graph\")",
   "id": "3a75c5ece33739b8",
   "outputs": [
    {
     "data": {
      "text/plain": [
       "<module 'matplotlib.pyplot' from '/Users/tiemfah/Projects/eFLINTAnswers/.venv/lib/python3.13/site-packages/matplotlib/pyplot.py'>"
      ]
     },
     "execution_count": 60,
     "metadata": {},
     "output_type": "execute_result"
    },
    {
     "data": {
      "text/plain": [
       "<Figure size 1200x900 with 1 Axes>"
      ],
      "image/png": "[encoded data removed]"
     },
     "metadata": {},
     "output_type": "display_data"
    }
   ],
   "execution_count": 60
  },
  {
   "metadata": {},
   "cell_type": "markdown",
   "source": "# Giving feedback to user",
   "id": "865b487366289514"
  },
  {
   "metadata": {},
   "cell_type": "markdown",
   "source": [
    "Now to generate the questionnaires that is aware of `AND` and `OR` in the graph, we need to make some kind of response from the form itself. For example, we could use `\"Result\" test: str(\"property xxx holds: False\")` to send the response back to user. We are expecting to generate something like this from the graph\n",
    "```\n",
    "form HumanForm {\n",
    "  \"Do you have featherless?\"\n",
    "     featherless: bool\n",
    "  \"Do you have intelligent?\"\n",
    "     intelligent: bool\n",
    "  \"Do you have number of legs?\"\n",
    "     number_of_legs: bool\n",
    "}\n",
    "```"
   ],
   "id": "22a63e3b6d656db8"
  },
  {
   "metadata": {},
   "cell_type": "markdown",
   "source": "There is a problem with this one, the result is from the form itself. But we should use the reasoning engine from eFLINT server. For instance, the number_of_legs will be much harder in the future once it is fixed. So the solution could be:",
   "id": "ff180395c03bf42b"
  },
  {
   "metadata": {},
   "cell_type": "markdown",
   "source": "1. Modify LiveQL to let python monitor user action in the form and recreate those action in eFLINT server. Like typing `2` into `number_of_legs` will create `number_of_legs(questionnaire, 2)` in eFLINT server. And after every action, we will ask the server if the property is true or false.",
   "id": "239c8f7a14d5002a"
  },
  {
   "metadata": {},
   "cell_type": "markdown",
   "source": [
    "2. We skip reasoning engine in eFLINT and do magic to parse the graph into complicated value in LiveQL, for example, we can display the result immediately in the form with the example below.\n",
    "```\n",
    "form HumanForm {\n",
    "    ...\n",
    "    \"Result of human property\"\n",
    "         result: bool(intelligent || (featherless && number_of_legs == 2))\n",
    "}\n",
    "```"
   ],
   "id": "9fcf1c090c8d630"
  },
  {
   "metadata": {},
   "cell_type": "markdown",
   "source": "~~3. We discard LiveQL and build our own form in Python, this will allow us to connect to eFLINT server and ask for the result easily. But we have no idea how much work is needed to build a form in Python.~~",
   "id": "9e140d3fd7643dcd"
  },
  {
   "metadata": {},
   "cell_type": "markdown",
   "source": [
    "# Add missing typing and Fix the wording\n",
    "And possibly fix liveQL boolean default value."
   ],
   "id": "be6d04d6badce002"
  },
  {
   "metadata": {},
   "cell_type": "markdown",
   "source": [
    "We can infer type by looking at `domain` of the type.\n",
    "```\n",
    "    'number_of_legs': {\n",
    "      'domain': {\n",
    "        'domain-type': 'Products',\n",
    "        'vars': [\n",
    "          {\n",
    "            'domID': 'entity',\n",
    "            'string': ''\n",
    "          },\n",
    "          {\n",
    "            'domID': 'int',\n",
    "            'string': ''\n",
    "          }\n",
    "        ]\n",
    "      },\n",
    "    },\n",
    "```\n",
    "and\n",
    "```\n",
    "    'intelligent': {\n",
    "      'domain': {\n",
    "        'domain-type': 'Products',\n",
    "        'vars': [\n",
    "          {\n",
    "            'domID': 'entity',\n",
    "            'string': ''\n",
    "          }\n",
    "        ]\n",
    "      },\n",
    "    },\n",
    "```\n",
    "Notice that for intelligent, there isn't extra type because it just means that member of set intelligent are member of entity, this just mean that they are boolean."
   ],
   "id": "b2d20fd7721d38ff"
  },
  {
   "metadata": {
    "ExecuteTime": {
     "end_time": "2025-05-23T14:25:14.749841Z",
     "start_time": "2025-05-23T14:25:14.746996Z"
    }
   },
   "cell_type": "code",
   "source": [
    "def infer_types_from_domains(types_res: dict) -> Dict[str, str]:\n",
    "    \"\"\"\n",
    "    THIS ONE COULD ONLY HANDLE PRODUCTS OF 2 TYPE\n",
    "\n",
    "    Infers types from domain structures and returns a dictionary mapping node names to types.\n",
    "\n",
    "    Args:\n",
    "        types_res: Dictionary containing the 'types' key with node definitions\n",
    "\n",
    "    Returns:\n",
    "        Dictionary mapping node names to their inferred types\n",
    "    \"\"\"\n",
    "    type_map = {}\n",
    "    types_data = types_res.get('types', {})\n",
    "\n",
    "    for node_name, node_info in types_data.items():\n",
    "        if 'domain' in node_info:\n",
    "            domain = node_info['domain']\n",
    "            domain_type = domain.get('domain-type')\n",
    "\n",
    "            if domain_type == 'AnyString':\n",
    "                type_map[node_name] = 'string'\n",
    "            elif domain_type == 'AnyInt':\n",
    "                type_map[node_name] = 'int'\n",
    "            elif domain_type == 'Products':\n",
    "                vars_list = domain.get('vars', [])\n",
    "                if len(vars_list) == 1:\n",
    "                    # Single entity var indicates boolean property\n",
    "                    type_map[node_name] = 'bool'\n",
    "                elif len(vars_list) == 2:\n",
    "                    dom_ids = [var.get('domID') for var in vars_list]\n",
    "                    if 'entity' in dom_ids and 'int' in dom_ids:\n",
    "                        # Entity and int vars indicate numeric property\n",
    "                        type_map[node_name] = 'int'\n",
    "\n",
    "    return type_map"
   ],
   "id": "989b73506453f7be",
   "outputs": [],
   "execution_count": 61
  },
  {
   "metadata": {
    "ExecuteTime": {
     "end_time": "2025-05-23T14:25:14.806224Z",
     "start_time": "2025-05-23T14:25:14.785037Z"
    }
   },
   "cell_type": "code",
   "source": "infer_types_from_domains(ef.types())",
   "id": "73e867a42521d187",
   "outputs": [
    {
     "data": {
      "text/plain": [
       "{'actor': 'string',\n",
       " 'biped': 'bool',\n",
       " 'entity': 'string',\n",
       " 'featherless': 'bool',\n",
       " 'human': 'bool',\n",
       " 'int': 'int',\n",
       " 'intelligent': 'bool',\n",
       " 'number_of_legs': 'int',\n",
       " 'string': 'string'}"
      ]
     },
     "execution_count": 62,
     "metadata": {},
     "output_type": "execute_result"
    }
   ],
   "execution_count": 62
  },
  {
   "metadata": {
    "ExecuteTime": {
     "end_time": "2025-05-23T14:25:14.834111Z",
     "start_time": "2025-05-23T14:25:14.831468Z"
    }
   },
   "cell_type": "code",
   "source": [
    "def collect_leaf_nodes(node: ALL_NODE_TYPES, visited=None) -> set:\n",
    "    if visited is None:\n",
    "        visited = set()\n",
    "\n",
    "    if node.name in visited:\n",
    "        return set()\n",
    "\n",
    "    visited.add(node.name)\n",
    "\n",
    "    if not node.dependencies:\n",
    "        return {node.name}\n",
    "\n",
    "    leaves = set()\n",
    "\n",
    "    if isinstance(node, EqualsNode):\n",
    "        return collect_leaf_nodes(node.left, visited)\n",
    "\n",
    "    for dep in node.dependencies:\n",
    "        leaves.update(collect_leaf_nodes(dep, visited))\n",
    "    return leaves"
   ],
   "id": "19290ceef0b4e891",
   "outputs": [],
   "execution_count": 63
  },
  {
   "metadata": {
    "ExecuteTime": {
     "end_time": "2025-05-23T14:25:14.860837Z",
     "start_time": "2025-05-23T14:25:14.858486Z"
    }
   },
   "cell_type": "code",
   "source": "collect_leaf_nodes(type_graph[\"human\"], visited=set())",
   "id": "ba2ad639a5f16c5e",
   "outputs": [
    {
     "data": {
      "text/plain": [
       "{'featherless', 'intelligent', 'number_of_legs'}"
      ]
     },
     "execution_count": 64,
     "metadata": {},
     "output_type": "execute_result"
    }
   ],
   "execution_count": 64
  },
  {
   "metadata": {
    "ExecuteTime": {
     "end_time": "2025-05-23T14:25:14.905696Z",
     "start_time": "2025-05-23T14:25:14.901117Z"
    }
   },
   "cell_type": "code",
   "source": [
    "def node_to_string(root: ALL_NODE_TYPES) -> str:\n",
    "    \"\"\"\n",
    "    Convert a Node graph into a string representation of a logical expression.\n",
    "\n",
    "    Examples:\n",
    "    - \"bool(intelligent || (featherless && number_of_legs == 2))\"\n",
    "\n",
    "    Args:\n",
    "        root: The root node of the graph\n",
    "\n",
    "    Returns:\n",
    "        A string representation of the logical expression\n",
    "    \"\"\"\n",
    "    # Keep track of visited nodes to avoid cycles\n",
    "    visited = set()\n",
    "\n",
    "    def process_node(node):\n",
    "        # Avoid cycles by tracking visited nodes by their identity\n",
    "        node_id = id(node)\n",
    "        if node_id in visited:\n",
    "            return node.name  # Return just the name to avoid infinite recursion\n",
    "\n",
    "        visited.add(node_id)\n",
    "\n",
    "        if isinstance(node, OrNode):\n",
    "            # Get all dependencies and join them with OR operator\n",
    "            deps = [process_node(dep) for dep in node.dependencies]\n",
    "            deps_str = \" || \".join(deps)\n",
    "            return deps_str\n",
    "\n",
    "        elif isinstance(node, AndNode):\n",
    "            # Get all dependencies and join them with AND operator\n",
    "            deps = [process_node(dep) for dep in node.dependencies]\n",
    "            deps_str = \" && \".join(deps)\n",
    "            return deps_str\n",
    "\n",
    "        elif isinstance(node, EqualsNode):\n",
    "            # Process equals operator with left and right sides\n",
    "            left = process_node(node.left) if node.left else \"\"\n",
    "            right = process_node(node.right) if node.right else \"\"\n",
    "            return f\"{left} == {right}\"\n",
    "\n",
    "        elif isinstance(node, Node):\n",
    "            # For a regular node:\n",
    "            # 1. If it has dependencies, process them\n",
    "            if node.dependencies:\n",
    "                # This is a node that leads to other nodes in the graph\n",
    "                # Instead of returning its name, we need to process its dependencies\n",
    "                # This is likely where the original function went wrong\n",
    "                if len(node.dependencies) == 1:\n",
    "                    # If there's only one dependency, just return that result\n",
    "                    return process_node(node.dependencies[0])\n",
    "                else:\n",
    "                    # Multiple dependencies - would need to define how these combine\n",
    "                    # For now, assuming they combine with AND\n",
    "                    deps = [process_node(dep) for dep in node.dependencies]\n",
    "                    return \" && \".join(deps)\n",
    "            else:\n",
    "                # It's a leaf node, just return its name\n",
    "                return node.name\n",
    "\n",
    "        # Handle edge cases\n",
    "        return \"\"\n",
    "\n",
    "    # Start with the root node and wrap in bool()\n",
    "    result_string = process_node(root)\n",
    "\n",
    "    # Add parentheses for complex expressions\n",
    "    if \" || \" in result_string or \" && \" in result_string:\n",
    "        if not (result_string.startswith(\"(\") and result_string.endswith(\")\")):\n",
    "            # Add parentheses for proper grouping in complex expressions\n",
    "            parts = result_string.split(\" || \")\n",
    "            for i, part in enumerate(parts):\n",
    "                if \" && \" in part and not (part.startswith(\"(\") and part.endswith(\")\")):\n",
    "                    parts[i] = f\"({part})\"\n",
    "            result_string = \" || \".join(parts)\n",
    "\n",
    "    return f\"({result_string})\""
   ],
   "id": "3a48ec43cb903af1",
   "outputs": [],
   "execution_count": 65
  },
  {
   "metadata": {
    "ExecuteTime": {
     "end_time": "2025-05-23T14:25:14.930793Z",
     "start_time": "2025-05-23T14:25:14.928755Z"
    }
   },
   "cell_type": "code",
   "source": [
    "human_node = type_graph[\"human\"]\n",
    "node_to_string(human_node)"
   ],
   "id": "e4e2fccf3dcef19",
   "outputs": [
    {
     "data": {
      "text/plain": [
       "'((number_of_legs == 2 && featherless) || intelligent)'"
      ]
     },
     "execution_count": 66,
     "metadata": {},
     "output_type": "execute_result"
    }
   ],
   "execution_count": 66
  },
  {
   "metadata": {
    "ExecuteTime": {
     "end_time": "2025-05-23T14:25:14.980038Z",
     "start_time": "2025-05-23T14:25:14.977387Z"
    }
   },
   "cell_type": "code",
   "source": [
    "def generate_dsl(root: Node, node_to_type: Dict[str, str], form_name: str = \"GeneratedForm\") -> str:\n",
    "    leaf_nodes = collect_leaf_nodes(root)\n",
    "\n",
    "    lines = [f\"form {form_name} {{\"]\n",
    "    for name in sorted(leaf_nodes):\n",
    "        node_type = node_to_type.get(name, 'string')  # Default to string if type not found\n",
    "\n",
    "        # Format name for question by replacing underscores with spaces\n",
    "        formatted_name = name.replace(\"_\", \" \")\n",
    "\n",
    "        # Customize question based on the type\n",
    "        if node_type == 'bool':\n",
    "            question = f'\"Is the actor {formatted_name}?\"'\n",
    "        elif node_type == 'int':\n",
    "            question = f'\"How many {formatted_name} does the actor have?\"'\n",
    "        elif node_type == 'string':\n",
    "            question = f'\"What is the actor {formatted_name}?\"'\n",
    "        else:\n",
    "            # Generic fallback for any other types\n",
    "            question = f'\"Enter your {formatted_name}:\"'\n",
    "\n",
    "        lines.append(f\"  {question}\")\n",
    "        lines.append(f\"     {name}: {node_type}\")\n",
    "\n",
    "    # Add the logical expression from the root node\n",
    "    lines.append(f\"  if {node_to_string(root)} \" + \"{\")\n",
    "    lines.append(f\"    \\\"Property {root.name} holds\\\" result: bool(true)\")\n",
    "    lines.append(\"  } else {\")\n",
    "    lines.append(f\"    \\\"Property {root.name} does not holds\\\" result: bool(true)\")\n",
    "    lines.append(\"  }\")\n",
    "    lines.append(\"}\")\n",
    "\n",
    "    return \"\\n\".join(lines)"
   ],
   "id": "45b07268fc495603",
   "outputs": [],
   "execution_count": 67
  },
  {
   "metadata": {
    "ExecuteTime": {
     "end_time": "2025-05-23T14:25:15.028834Z",
     "start_time": "2025-05-23T14:25:15.008327Z"
    }
   },
   "cell_type": "code",
   "source": [
    "dsl_output = generate_dsl(type_graph[\"human\"], infer_types_from_domains(ef.types()), \"HumanForm\")\n",
    "print(dsl_output)"
   ],
   "id": "3702276e0169f120",
   "outputs": [
    {
     "name": "stdout",
     "output_type": "stream",
     "text": [
      "form HumanForm {\n",
      "  \"Is the actor featherless?\"\n",
      "     featherless: bool\n",
      "  \"Is the actor intelligent?\"\n",
      "     intelligent: bool\n",
      "  \"How many number of legs does the actor have?\"\n",
      "     number_of_legs: int\n",
      "  if ((number_of_legs == 2 && featherless) || intelligent) {\n",
      "    \"Property human holds\" result: bool(true)\n",
      "  } else {\n",
      "    \"Property human does not holds\" result: bool(true)\n",
      "  }\n",
      "}\n"
     ]
    }
   ],
   "execution_count": 68
  },
  {
   "metadata": {},
   "cell_type": "markdown",
   "source": "# Giving feedback to user # Solution 1: embedded reasoning within LiveQL",
   "id": "32c17f905427ac95"
  },
  {
   "metadata": {},
   "cell_type": "markdown",
   "source": [
    "To be able to give responses or show further form in case that more information is needed, the LiveQL must have some kind of reasoning logic within the DSL. And we can achieve that with logic operator. For example, the graph that we parsed from `types response` should be transformed into\n",
    "```bool(intelligent || (featherless && number_of_legs == 2))```\n",
    " for LiveQL to be aware of the reasoning engine."
   ],
   "id": "cd67cdb6712409d9"
  },
  {
   "metadata": {},
   "cell_type": "markdown",
   "source": [
    "```\n",
    "  if ((number_of_legs == 2 && featherless) || intelligent) {\n",
    "    \"Property human holds\" result: bool(true)\n",
    "  } else {\n",
    "    \"Property human does not holds\" result: bool(true)\n",
    "  }\n",
    "```"
   ],
   "id": "56d1fac141e3b592"
  },
  {
   "metadata": {
    "ExecuteTime": {
     "end_time": "2025-05-23T14:25:15.062840Z",
     "start_time": "2025-05-23T14:25:15.059451Z"
    }
   },
   "cell_type": "code",
   "source": [
    "def generate_dsl(root: Node, node_to_type: Dict[str, str], form_name: str = \"GeneratedForm\") -> str:\n",
    "    leaf_nodes = collect_leaf_nodes(root)\n",
    "\n",
    "    lines = [f\"form {form_name} {{\"]\n",
    "    for name in sorted(leaf_nodes):\n",
    "        node_type = node_to_type.get(name, 'string')  # Default to string if type not found\n",
    "\n",
    "        # Format name for question by replacing underscores with spaces\n",
    "        formatted_name = name.replace(\"_\", \" \")\n",
    "\n",
    "        # Customize question based on the type\n",
    "        if node_type == 'bool':\n",
    "            question = f'\"Is the actor {formatted_name}?\"'\n",
    "        elif node_type == 'int':\n",
    "            question = f'\"How many {formatted_name} does the actor have?\"'\n",
    "        elif node_type == 'string':\n",
    "            question = f'\"What is the actor {formatted_name}?\"'\n",
    "        else:\n",
    "            # Generic fallback for any other types\n",
    "            question = f'\"Enter your {formatted_name}:\"'\n",
    "\n",
    "        lines.append(f\"  {question}\")\n",
    "        lines.append(f\"     {name}: {node_type}\")\n",
    "\n",
    "    # Add the logical expression from the root node\n",
    "    lines.append(f\"  if {node_to_string(root)} \" + \"{\")\n",
    "    lines.append(f\"    \\\"Property {root.name} holds\\\" result: bool(true)\")\n",
    "    lines.append(\"  } else {\")\n",
    "    lines.append(f\"    \\\"Property {root.name} does not holds\\\" result: bool(true)\")\n",
    "    lines.append(\"  }\")\n",
    "    lines.append(\"}\")\n",
    "\n",
    "    return \"\\n\".join(lines)"
   ],
   "id": "25168e8ddf15a827",
   "outputs": [],
   "execution_count": 69
  },
  {
   "metadata": {
    "ExecuteTime": {
     "end_time": "2025-05-23T14:25:15.098067Z",
     "start_time": "2025-05-23T14:25:15.095998Z"
    }
   },
   "cell_type": "code",
   "source": [
    "def save_dsl_to_file(root: Node, form_types: Dict[str, str], form_name: str, path: str):\n",
    "    dsl_content = generate_dsl(root, form_types, form_name)\n",
    "\n",
    "    os.makedirs(os.path.dirname(path), exist_ok=True)\n",
    "    with open(path, \"w\") as f:\n",
    "        f.write(dsl_content)\n",
    "\n",
    "    print(f\"DSL saved to {path}\")"
   ],
   "id": "f51057b46dc6897",
   "outputs": [],
   "execution_count": 70
  },
  {
   "metadata": {
    "ExecuteTime": {
     "end_time": "2025-05-23T14:25:15.143015Z",
     "start_time": "2025-05-23T14:25:15.123234Z"
    }
   },
   "cell_type": "code",
   "source": [
    "save_dsl_to_file(root=type_graph[\"human\"], form_types=infer_types_from_domains(ef.types()), form_name=\"HumanForm\",\n",
    "                 path=\"/Users/tiemfah/Projects/LiveQL/bin/nl/cwi/swat/liveql/examples/eflint.ql\")"
   ],
   "id": "730bea4a23043700",
   "outputs": [
    {
     "name": "stdout",
     "output_type": "stream",
     "text": [
      "DSL saved to /Users/tiemfah/Projects/LiveQL/bin/nl/cwi/swat/liveql/examples/eflint.ql\n"
     ]
    }
   ],
   "execution_count": 71
  },
  {
   "metadata": {
    "ExecuteTime": {
     "end_time": "2025-05-23T14:25:15.165666Z",
     "start_time": "2025-05-23T14:25:15.164032Z"
    }
   },
   "cell_type": "code",
   "source": "# subprocess.run([\"sh\", \"/Users/tiemfah/Projects/LiveQL/run.sh\"])",
   "id": "ddfb18843c976eec",
   "outputs": [],
   "execution_count": 72
  },
  {
   "metadata": {},
   "cell_type": "markdown",
   "source": "Property checking statement will only refresh after it loses window focus for `int` field.",
   "id": "a35ef08f48c3c1ed"
  },
  {
   "metadata": {},
   "cell_type": "markdown",
   "source": "![Giving feedback to user](img/giving_feedback.png)",
   "id": "f54cc1c4d469447e"
  },
  {
   "metadata": {},
   "cell_type": "markdown",
   "source": "# More advance concept in eFLINT: 2 of the same type",
   "id": "c619d0656eeb3437"
  },
  {
   "metadata": {
    "ExecuteTime": {
     "end_time": "2025-05-23T14:29:15.387086Z",
     "start_time": "2025-05-23T14:29:15.117566Z"
    }
   },
   "cell_type": "code",
   "source": [
    "ef.revert(1)\n",
    "ef.phrase(\"Fact actor Identified by String\")\n",
    "ef.phrase(\"Fact stick Identified by String\")\n",
    "ef.phrase(\"Fact own_a_stick Identified by actor * stick\")\n",
    "ef.phrase(\"Fact own_chopsticks Identified by actor Holds when Count(Foreach own_a_stick: own_a_stick When own_a_stick.actor == actor) <= 2\")"
   ],
   "id": "e48c2626fffd664b",
   "outputs": [
    {
     "data": {
      "text/plain": [
       "{'all-disabled-transitions': [],\n",
       " 'all-duties': [],\n",
       " 'all-enabled-transitions': [],\n",
       " 'created_facts': [],\n",
       " 'errors': [],\n",
       " 'inst-query-results': [],\n",
       " 'new-disabled-transitions': [],\n",
       " 'new-duties': [],\n",
       " 'new-enabled-transitions': [],\n",
       " 'new-state': 377,\n",
       " 'old-state': 376,\n",
       " 'output-events': [],\n",
       " 'query-results': [],\n",
       " 'response': 'success',\n",
       " 'source_contents': [],\n",
       " 'target_contents': [],\n",
       " 'terminated-duties': [],\n",
       " 'terminated_facts': [],\n",
       " 'violations': []}"
      ]
     },
     "execution_count": 88,
     "metadata": {},
     "output_type": "execute_result"
    }
   ],
   "execution_count": 88
  },
  {
   "metadata": {},
   "cell_type": "markdown",
   "source": "But we don't support `>` relation yet, and the graph will not work properly. And also take the chance to refactor `create_graph` function.",
   "id": "3e8c7c031cc88877"
  },
  {
   "metadata": {
    "ExecuteTime": {
     "end_time": "2025-05-23T14:25:15.491307Z",
     "start_time": "2025-05-23T14:25:15.480382Z"
    }
   },
   "cell_type": "code",
   "source": [
    "from typing import Optional\n",
    "\n",
    "\n",
    "class TermParser:\n",
    "    \"\"\"Handles parsing of term structures into nodes\"\"\"\n",
    "\n",
    "    def __init__(self, types_response: dict, node_cache: Dict[str, Node]):\n",
    "        self.types_response = types_response\n",
    "        self.node_cache = node_cache\n",
    "\n",
    "    def parse_term(self, term: Dict) -> List[ALL_NODE_TYPES]:\n",
    "        \"\"\"Parse a term structure and return corresponding nodes\"\"\"\n",
    "        term_type = term.get(\"term-type\")\n",
    "        if not term_type:\n",
    "            return []\n",
    "\n",
    "        parser_method = getattr(self, f'_parse_{term_type.lower()}', None)\n",
    "        if parser_method:\n",
    "            return parser_method(term)\n",
    "\n",
    "        return []\n",
    "\n",
    "    def _parse_and(self, term: Dict) -> List[ALL_NODE_TYPES]:\n",
    "        \"\"\"Parse AND term\"\"\"\n",
    "        and_node = AndNode()\n",
    "\n",
    "        for sub_term_key in [\"t1\", \"t2\"]:\n",
    "            sub_term = term.get(sub_term_key, {})\n",
    "            sub_dependencies = self.parse_term(sub_term)\n",
    "            and_node.dependencies.extend(sub_dependencies)\n",
    "\n",
    "        return [and_node] if and_node.dependencies else []\n",
    "\n",
    "    def _parse_or(self, term: Dict) -> List[ALL_NODE_TYPES]:\n",
    "        \"\"\"Parse OR term\"\"\"\n",
    "        or_node = OrNode()\n",
    "\n",
    "        for sub_term_key in [\"t1\", \"t2\"]:\n",
    "            sub_term = term.get(sub_term_key, {})\n",
    "            sub_dependencies = self.parse_term(sub_term)\n",
    "            or_node.dependencies.extend(sub_dependencies)\n",
    "\n",
    "        return [or_node] if or_node.dependencies else []\n",
    "\n",
    "    def _parse_present(self, term: Dict) -> List[ALL_NODE_TYPES]:\n",
    "        \"\"\"Parse Present term\"\"\"\n",
    "        sub_term = term.get(\"t\", {})\n",
    "        return self.parse_term(sub_term)\n",
    "\n",
    "    def _parse_exists(self, term: Dict) -> List[ALL_NODE_TYPES]:\n",
    "        \"\"\"Parse Exists term\"\"\"\n",
    "        equals_node = self._try_parse_equality(term)\n",
    "        if equals_node:\n",
    "            return [equals_node]\n",
    "\n",
    "        # Fallback to parsing the nested term\n",
    "        sub_term = term.get(\"t\", {})\n",
    "        return self.parse_term(sub_term)\n",
    "\n",
    "    def _parse_intlit(self, term: Dict) -> List[ALL_NODE_TYPES]:\n",
    "        \"\"\"Parse Intlit term\"\"\"\n",
    "        return [Node(term[\"int\"])]\n",
    "\n",
    "    def _parse_count(self, term: Dict) -> List[ALL_NODE_TYPES]:\n",
    "        \"\"\"Parse Count term\"\"\"\n",
    "        count_node = CountNode()\n",
    "\n",
    "        count_vars = term.get(\"vars\", [])\n",
    "        for var in count_vars:\n",
    "            count_node.dependencies.append(Node(var[\"domID\"]))\n",
    "\n",
    "        return [count_node]\n",
    "\n",
    "    def _parse_ge(self, term: Dict) -> List[ALL_NODE_TYPES]:\n",
    "        \"\"\"Parse GE term\"\"\"\n",
    "        greater_than_node = GreaterNode()\n",
    "\n",
    "        for sub_term_key in [\"t1\", \"t2\"]:\n",
    "            sub_term = term.get(sub_term_key, {})\n",
    "            sub_dependencies = self.parse_term(sub_term)\n",
    "            greater_than_node.dependencies.extend(sub_dependencies)\n",
    "\n",
    "        if len(greater_than_node.dependencies) == 2:\n",
    "            greater_than_node.left = greater_than_node.dependencies[0]\n",
    "            greater_than_node.right = greater_than_node.dependencies[1]\n",
    "\n",
    "        return [greater_than_node] if greater_than_node.dependencies else []\n",
    "\n",
    "    def _parse_app(self, term: Dict) -> List[ALL_NODE_TYPES]:\n",
    "        \"\"\"Parse App term\"\"\"\n",
    "        dom_id = term.get(\"domID\")\n",
    "        if dom_id and dom_id in self.types_response[\"types\"]:\n",
    "            return self._extract_dependencies(dom_id)\n",
    "        return []\n",
    "\n",
    "    def _try_parse_equality(self, term: Dict) -> Optional[EqualsNode]:\n",
    "        \"\"\"Try to parse an equality expression from an Exists term\"\"\"\n",
    "        present_term = term.get(\"t\", {})\n",
    "\n",
    "        if not self._is_present_term(present_term):\n",
    "            return None\n",
    "\n",
    "        inner_term = present_term.get(\"t\", {})\n",
    "        if not self._is_app_term(inner_term):\n",
    "            return None\n",
    "\n",
    "        left_value = inner_term.get(\"domID\", '')\n",
    "        right_value = self._extract_int_value(inner_term)\n",
    "\n",
    "        if left_value and right_value is not None:\n",
    "            return self._create_equality_node(left_value, right_value)\n",
    "\n",
    "        return None\n",
    "\n",
    "    def _is_present_term(self, term: Dict) -> bool:\n",
    "        \"\"\"Check if term is a Present term\"\"\"\n",
    "        return term.get(\"term-type\") == 'Present'\n",
    "\n",
    "    def _is_app_term(self, term: Dict) -> bool:\n",
    "        \"\"\"Check if term is an App term\"\"\"\n",
    "        return term.get(\"term-type\") == 'App'\n",
    "\n",
    "    def _extract_int_value(self, app_term: Dict) -> Optional[int]:\n",
    "        \"\"\"Extract integer value from App term arguments\"\"\"\n",
    "        args = app_term.get(\"args\", {}).get('Right', [])\n",
    "\n",
    "        for arg in args:\n",
    "            term_obj = arg.get('term', {})\n",
    "            if self._is_int_tag(term_obj):\n",
    "                int_lit = term_obj.get('t', {})\n",
    "                if int_lit.get('term-type') == 'IntLit':\n",
    "                    return int_lit.get('int')\n",
    "\n",
    "        return None\n",
    "\n",
    "    def _is_int_tag(self, term_obj: Dict) -> bool:\n",
    "        \"\"\"Check if term object is an int tag\"\"\"\n",
    "        return (term_obj.get('term-type') == 'Tag' and\n",
    "                term_obj.get('domID') == 'int')\n",
    "\n",
    "    def _create_equality_node(self, left_value: str, right_value: int) -> EqualsNode:\n",
    "        \"\"\"Create an equality node with left and right operands\"\"\"\n",
    "        left_node = Node(name=left_value)\n",
    "        right_node = Node(name=str(right_value))\n",
    "\n",
    "        return EqualsNode(\n",
    "            name=f\"{left_value} == {right_value}\",\n",
    "            dependencies=[left_node, right_node],\n",
    "            left=left_node,\n",
    "            right=right_node\n",
    "        )\n",
    "\n",
    "    def _extract_dependencies(self, node_name: str) -> List[ALL_NODE_TYPES]:\n",
    "        \"\"\"Extract dependencies for a given node name\"\"\"\n",
    "        if node_name not in self.types_response[\"types\"]:\n",
    "            return []\n",
    "\n",
    "        if node_name in self.node_cache:\n",
    "            return [self.node_cache[node_name]]\n",
    "\n",
    "        node = Node(name=node_name)\n",
    "        self.node_cache[node_name] = node\n",
    "\n",
    "        dependencies = self._get_node_dependencies(node_name)\n",
    "        node.dependencies = dependencies\n",
    "\n",
    "        return [node]\n",
    "\n",
    "    def _get_node_dependencies(self, node_name: str) -> List[ALL_NODE_TYPES]:\n",
    "        \"\"\"Get dependencies for a specific node\"\"\"\n",
    "        type_definition = self.types_response[\"types\"][node_name]\n",
    "\n",
    "        if not self._has_derivations(type_definition):\n",
    "            return []\n",
    "\n",
    "        dependencies = []\n",
    "        for derivation in type_definition[\"derivation\"]:\n",
    "            if derivation.get(\"derivation-type\") == 'HoldsWhen':\n",
    "                term = derivation.get(\"term\")\n",
    "                if term:\n",
    "                    dependencies.extend(self.parse_term(term))\n",
    "\n",
    "        return dependencies\n",
    "\n",
    "    def _has_derivations(self, type_definition: Dict) -> bool:\n",
    "        \"\"\"Check if type definition has derivations\"\"\"\n",
    "        return (\"derivation\" in type_definition and\n",
    "                type_definition[\"derivation\"])\n",
    "\n",
    "\n",
    "class GraphCreator:\n",
    "    \"\"\"Main class for creating graphs from types response\"\"\"\n",
    "\n",
    "    def __init__(self, types_response: dict):\n",
    "        self.types_response = types_response\n",
    "        self.node_cache: Dict[str, Node] = {}\n",
    "        self.term_parser = TermParser(types_response, self.node_cache)\n",
    "\n",
    "    def create_graph(self) -> Dict[str, Node]:\n",
    "        \"\"\"\n",
    "        Convert a response types json to a graph that is connected then return\n",
    "        the dict of query to root node of that query.\n",
    "        \"\"\"\n",
    "        self._process_all_types()\n",
    "        return self.node_cache.copy()\n",
    "\n",
    "    def _process_all_types(self) -> None:\n",
    "        \"\"\"Process all types in the response\"\"\"\n",
    "        for type_name in self.types_response[\"types\"]:\n",
    "            if type_name not in self.node_cache:\n",
    "                self.term_parser._extract_dependencies(type_name)\n",
    "\n",
    "\n",
    "def create_graph(types_res: dict) -> Dict[str, Node]:\n",
    "    \"\"\"\n",
    "    Convert a response types json to a graph that is connected then return\n",
    "    the dict of query to root node of that query.\n",
    "\n",
    "    Args:\n",
    "        types_res: Dictionary containing types response data\n",
    "\n",
    "    Returns:\n",
    "        Dictionary mapping type names to their corresponding root nodes\n",
    "    \"\"\"\n",
    "    creator = GraphCreator(types_res)\n",
    "    return creator.create_graph()"
   ],
   "id": "5538b1997b5ced55",
   "outputs": [],
   "execution_count": 74
  },
  {
   "metadata": {
    "ExecuteTime": {
     "end_time": "2025-05-23T14:25:28.157653Z",
     "start_time": "2025-05-23T14:25:28.138697Z"
    }
   },
   "cell_type": "code",
   "source": "ef.types()",
   "id": "f903659f2d68fc21",
   "outputs": [
    {
     "data": {
      "text/plain": [
       "{'types': {'actor': {'closed': True,\n",
       "   'conditions': [],\n",
       "   'derivation': [],\n",
       "   'domain': {'domain-type': 'AnyString'},\n",
       "   'domain_constraint': {'b': True, 'term-type': 'BoolLit'},\n",
       "   'kind': {'fact': {'actor': False, 'invariant': False},\n",
       "    'kind-type': 'Fact'}},\n",
       "  'int': {'closed': True,\n",
       "   'conditions': [],\n",
       "   'derivation': [],\n",
       "   'domain': {'domain-type': 'AnyInt'},\n",
       "   'domain_constraint': {'b': True, 'term-type': 'BoolLit'},\n",
       "   'kind': {'fact': {'actor': False, 'invariant': False},\n",
       "    'kind-type': 'Fact'}},\n",
       "  'own_a_stick': {'closed': True,\n",
       "   'conditions': [],\n",
       "   'derivation': [],\n",
       "   'domain': {'domain-type': 'Products',\n",
       "    'vars': [{'domID': 'actor', 'string': ''},\n",
       "     {'domID': 'stick', 'string': ''}]},\n",
       "   'domain_constraint': {'b': True, 'term-type': 'BoolLit'},\n",
       "   'kind': {'fact': {'actor': False, 'invariant': False},\n",
       "    'kind-type': 'Fact'}},\n",
       "  'own_chopsticks': {'closed': True,\n",
       "   'conditions': [],\n",
       "   'derivation': [{'derivation-type': 'HoldsWhen',\n",
       "     'term': {'t1': {'t': {'t1': {'term-type': 'Ref',\n",
       "         'var': {'domID': 'own_a_stick', 'string': ''}},\n",
       "        't2': {'t1': {'t': {'term-type': 'Ref',\n",
       "           'var': {'domID': 'own_a_stick', 'string': ''}},\n",
       "          'term-type': 'Project',\n",
       "          'var': {'domID': 'actor', 'string': ''}},\n",
       "         't2': {'term-type': 'Ref', 'var': {'domID': 'actor', 'string': ''}},\n",
       "         'term-type': 'Eq'},\n",
       "        'term-type': 'When'},\n",
       "       'term-type': 'Count',\n",
       "       'vars': [{'domID': 'own_a_stick', 'string': ''}]},\n",
       "      't2': {'int': 2, 'term-type': 'IntLit'},\n",
       "      'term-type': 'Le'}}],\n",
       "   'domain': {'domain-type': 'Products',\n",
       "    'vars': [{'domID': 'actor', 'string': ''}]},\n",
       "   'domain_constraint': {'b': True, 'term-type': 'BoolLit'},\n",
       "   'kind': {'fact': {'actor': False, 'invariant': False},\n",
       "    'kind-type': 'Fact'}},\n",
       "  'stick': {'closed': True,\n",
       "   'conditions': [],\n",
       "   'derivation': [],\n",
       "   'domain': {'domain-type': 'AnyString'},\n",
       "   'domain_constraint': {'b': True, 'term-type': 'BoolLit'},\n",
       "   'kind': {'fact': {'actor': False, 'invariant': False},\n",
       "    'kind-type': 'Fact'}},\n",
       "  'string': {'closed': True,\n",
       "   'conditions': [],\n",
       "   'derivation': [],\n",
       "   'domain': {'domain-type': 'AnyString'},\n",
       "   'domain_constraint': {'b': True, 'term-type': 'BoolLit'},\n",
       "   'kind': {'fact': {'actor': False, 'invariant': False},\n",
       "    'kind-type': 'Fact'}}}}"
      ]
     },
     "execution_count": 80,
     "metadata": {},
     "output_type": "execute_result"
    }
   ],
   "execution_count": 80
  },
  {
   "metadata": {
    "ExecuteTime": {
     "end_time": "2025-05-23T14:25:15.529191Z",
     "start_time": "2025-05-23T14:25:15.514792Z"
    }
   },
   "cell_type": "code",
   "source": "create_graph(ef.types())[\"own_chopsticks\"]",
   "id": "a6a74413eece8b74",
   "outputs": [
    {
     "data": {
      "text/plain": [
       "Node(name='own_chopsticks', dependencies=[])"
      ]
     },
     "execution_count": 75,
     "metadata": {},
     "output_type": "execute_result"
    }
   ],
   "execution_count": 75
  },
  {
   "metadata": {
    "ExecuteTime": {
     "end_time": "2025-05-23T14:25:15.584165Z",
     "start_time": "2025-05-23T14:25:15.549661Z"
    }
   },
   "cell_type": "code",
   "source": "visualize_graph(create_graph(ef.types())[\"own_chopsticks\"])",
   "id": "fb238e90486213dd",
   "outputs": [
    {
     "data": {
      "text/plain": [
       "<module 'matplotlib.pyplot' from '/Users/tiemfah/Projects/eFLINTAnswers/.venv/lib/python3.13/site-packages/matplotlib/pyplot.py'>"
      ]
     },
     "execution_count": 76,
     "metadata": {},
     "output_type": "execute_result"
    },
    {
     "data": {
      "text/plain": [
       "<Figure size 1200x900 with 1 Axes>"
      ],
      "image/png": "[encoded data removed]"
     },
     "metadata": {},
     "output_type": "display_data"
    }
   ],
   "execution_count": 76
  },
  {
   "metadata": {},
   "cell_type": "markdown",
   "source": [
    "# Moving everything into a file\n",
    "Because this notebook is getting too long."
   ],
   "id": "5de52e6d6f1a1bd5"
  },
  {
   "metadata": {
    "ExecuteTime": {
     "end_time": "2025-05-23T14:34:08.872458Z",
     "start_time": "2025-05-23T14:34:08.863842Z"
    }
   },
   "cell_type": "code",
   "source": [
    "import model\n",
    "import graph_visualizer\n",
    "import importlib\n",
    "\n",
    "importlib.reload(model)\n",
    "importlib.reload(eflint_parser)\n",
    "importlib.reload(graph_visualizer)\n",
    "\n",
    "from model import *\n",
    "from eflint.eflint_parser import create_graph\n",
    "from graph_visualizer import visualize_graph"
   ],
   "id": "deaf267e8a1547ff",
   "outputs": [],
   "execution_count": 91
  },
  {
   "metadata": {
    "ExecuteTime": {
     "end_time": "2025-05-23T14:34:09.236465Z",
     "start_time": "2025-05-23T14:34:09.177676Z"
    }
   },
   "cell_type": "code",
   "source": [
    "graph = create_graph(ef.types())\n",
    "own_chopsticks_node = graph[\"own_chopsticks\"]\n",
    "visualize_graph(own_chopsticks_node)"
   ],
   "id": "838fe551ab0f6a8d",
   "outputs": [
    {
     "data": {
      "text/plain": [
       "<Figure size 1200x900 with 1 Axes>"
      ],
      "image/png": "[encoded data removed]"
     },
     "metadata": {},
     "output_type": "display_data"
    },
    {
     "data": {
      "text/plain": [
       "<module 'matplotlib.pyplot' from '/Users/tiemfah/Projects/eFLINTAnswers/.venv/lib/python3.13/site-packages/matplotlib/pyplot.py'>"
      ]
     },
     "execution_count": 92,
     "metadata": {},
     "output_type": "execute_result"
    }
   ],
   "execution_count": 92
  },
  {
   "metadata": {},
   "cell_type": "markdown",
   "source": [
    "# Ask fewer questions\n",
    "If an entity is intelligent, it is automatically considered human. To minimize the number of questions, the form should first ask \"Is it intelligent?\". If the answer is yes, no further questions are needed and the result can be shown immediately. If not, the next question should be either \"Is it featherless?\" or \"How many legs does it have?\"."
   ],
   "id": "192cb11e4ba2ea4"
  },
  {
   "metadata": {
    "ExecuteTime": {
     "end_time": "2025-05-27T11:50:41.808795Z",
     "start_time": "2025-05-27T11:50:41.344926Z"
    }
   },
   "cell_type": "code",
   "source": [
    "from eflint.eflint_lib import EF\n",
    "ef = EF()\n",
    "ef.revert(1)\n",
    "ef.phrase(\"Fact entity Identified by String\")\n",
    "ef.phrase(\"Fact number_of_legs Identified by entity * int\")\n",
    "ef.phrase(\"Fact featherless Identified by entity\")\n",
    "ef.phrase(\"Fact biped Identified by entity Holds when (Exists number_of_legs : number_of_legs(entity, 2))\")\n",
    "ef.phrase(\"Fact intelligent Identified by entity\")\n",
    "ef.phrase(\"Fact human Identified by entity Holds when (biped(entity) && featherless(entity)) || intelligent(entity)\")"
   ],
   "id": "182d6fe648845259",
   "outputs": [
    {
     "data": {
      "text/plain": [
       "{'all-disabled-transitions': [],\n",
       " 'all-duties': [],\n",
       " 'all-enabled-transitions': [],\n",
       " 'created_facts': [],\n",
       " 'errors': [],\n",
       " 'inst-query-results': [],\n",
       " 'new-disabled-transitions': [],\n",
       " 'new-duties': [],\n",
       " 'new-enabled-transitions': [],\n",
       " 'new-state': 7,\n",
       " 'old-state': 6,\n",
       " 'output-events': [],\n",
       " 'query-results': [],\n",
       " 'response': 'success',\n",
       " 'source_contents': [],\n",
       " 'target_contents': [],\n",
       " 'terminated-duties': [],\n",
       " 'terminated_facts': [],\n",
       " 'violations': []}"
      ]
     },
     "execution_count": 3,
     "metadata": {},
     "output_type": "execute_result"
    }
   ],
   "execution_count": 3
  },
  {
   "metadata": {},
   "cell_type": "markdown",
   "source": [
    "To achieve that, we need to split it into set of questions first. From this example there would be two set of questions.\n",
    "1. {\"intelligent\"}\n",
    "2. {\"featherless\", \"number_of_legs\"}\n",
    "And the set divider would be the `OR` node."
   ],
   "id": "8a39611b36538d76"
  },
  {
   "metadata": {
    "ExecuteTime": {
     "end_time": "2025-05-27T11:58:03.263539Z",
     "start_time": "2025-05-27T11:58:03.239504Z"
    }
   },
   "cell_type": "code",
   "source": "ef.types()",
   "id": "dcb76606100b227d",
   "outputs": [
    {
     "data": {
      "text/plain": [
       "{'types': {'actor': {'closed': True,\n",
       "   'conditions': [],\n",
       "   'derivation': [],\n",
       "   'domain': {'domain-type': 'AnyString'},\n",
       "   'domain_constraint': {'b': True, 'term-type': 'BoolLit'},\n",
       "   'kind': {'fact': {'actor': True, 'invariant': False}, 'kind-type': 'Fact'}},\n",
       "  'biped': {'closed': True,\n",
       "   'conditions': [],\n",
       "   'derivation': [{'derivation-type': 'HoldsWhen',\n",
       "     'term': {'t': {'t': {'args': {'Right': [{'term': {'term-type': 'Ref',\n",
       "            'var': {'domID': 'entity', 'string': ''}},\n",
       "           'var': {'domID': 'entity', 'string': ''}},\n",
       "          {'term': {'domID': 'int',\n",
       "            't': {'int': 2, 'term-type': 'IntLit'},\n",
       "            'term-type': 'Tag'},\n",
       "           'var': {'domID': 'int', 'string': ''}}]},\n",
       "        'domID': 'number_of_legs',\n",
       "        'term-type': 'App'},\n",
       "       'term-type': 'Present'},\n",
       "      'term-type': 'Exists',\n",
       "      'vars': [{'domID': 'number_of_legs', 'string': ''}]}}],\n",
       "   'domain': {'domain-type': 'Products',\n",
       "    'vars': [{'domID': 'entity', 'string': ''}]},\n",
       "   'domain_constraint': {'b': True, 'term-type': 'BoolLit'},\n",
       "   'kind': {'fact': {'actor': False, 'invariant': False},\n",
       "    'kind-type': 'Fact'}},\n",
       "  'earth_alien': {'closed': True,\n",
       "   'conditions': [],\n",
       "   'derivation': [{'derivation-type': 'Dv',\n",
       "     'term': {'domID': 'earth_alien',\n",
       "      't': {'term-type': 'Ref', 'var': {'domID': 'entity', 'string': ''}},\n",
       "      'term-type': 'Tag'},\n",
       "     'vars': [{'domID': 'entity', 'string': ''}]}],\n",
       "   'domain': {'domain-type': 'AnyString'},\n",
       "   'domain_constraint': {'b': True, 'term-type': 'BoolLit'},\n",
       "   'kind': {'fact': {'actor': False, 'invariant': False},\n",
       "    'kind-type': 'Fact'}},\n",
       "  'entity': {'closed': True,\n",
       "   'conditions': [],\n",
       "   'derivation': [],\n",
       "   'domain': {'domain-type': 'AnyString'},\n",
       "   'domain_constraint': {'b': True, 'term-type': 'BoolLit'},\n",
       "   'kind': {'fact': {'actor': False, 'invariant': False},\n",
       "    'kind-type': 'Fact'}},\n",
       "  'featherless': {'closed': True,\n",
       "   'conditions': [],\n",
       "   'derivation': [],\n",
       "   'domain': {'domain-type': 'Products',\n",
       "    'vars': [{'domID': 'entity', 'string': ''}]},\n",
       "   'domain_constraint': {'b': True, 'term-type': 'BoolLit'},\n",
       "   'kind': {'fact': {'actor': False, 'invariant': False},\n",
       "    'kind-type': 'Fact'}},\n",
       "  'human': {'closed': True,\n",
       "   'conditions': [],\n",
       "   'derivation': [{'derivation-type': 'HoldsWhen',\n",
       "     'term': {'t1': {'t1': {'t': {'args': {'Right': [{'term': {'term-type': 'Ref',\n",
       "             'var': {'domID': 'entity', 'string': ''}},\n",
       "            'var': {'domID': 'entity', 'string': ''}}]},\n",
       "         'domID': 'biped',\n",
       "         'term-type': 'App'},\n",
       "        'term-type': 'Present'},\n",
       "       't2': {'t': {'args': {'Right': [{'term': {'term-type': 'Ref',\n",
       "             'var': {'domID': 'entity', 'string': ''}},\n",
       "            'var': {'domID': 'entity', 'string': ''}}]},\n",
       "         'domID': 'featherless',\n",
       "         'term-type': 'App'},\n",
       "        'term-type': 'Present'},\n",
       "       'term-type': 'And'},\n",
       "      't2': {'t': {'args': {'Right': [{'term': {'term-type': 'Ref',\n",
       "            'var': {'domID': 'entity', 'string': ''}},\n",
       "           'var': {'domID': 'entity', 'string': ''}}]},\n",
       "        'domID': 'intelligent',\n",
       "        'term-type': 'App'},\n",
       "       'term-type': 'Present'},\n",
       "      'term-type': 'Or'}}],\n",
       "   'domain': {'domain-type': 'Products',\n",
       "    'vars': [{'domID': 'entity', 'string': ''}]},\n",
       "   'domain_constraint': {'b': True, 'term-type': 'BoolLit'},\n",
       "   'kind': {'fact': {'actor': False, 'invariant': False},\n",
       "    'kind-type': 'Fact'}},\n",
       "  'int': {'closed': True,\n",
       "   'conditions': [],\n",
       "   'derivation': [],\n",
       "   'domain': {'domain-type': 'AnyInt'},\n",
       "   'domain_constraint': {'b': True, 'term-type': 'BoolLit'},\n",
       "   'kind': {'fact': {'actor': False, 'invariant': False},\n",
       "    'kind-type': 'Fact'}},\n",
       "  'intelligent': {'closed': True,\n",
       "   'conditions': [],\n",
       "   'derivation': [],\n",
       "   'domain': {'domain-type': 'Products',\n",
       "    'vars': [{'domID': 'entity', 'string': ''}]},\n",
       "   'domain_constraint': {'b': True, 'term-type': 'BoolLit'},\n",
       "   'kind': {'fact': {'actor': False, 'invariant': False},\n",
       "    'kind-type': 'Fact'}},\n",
       "  'number_of_legs': {'closed': True,\n",
       "   'conditions': [],\n",
       "   'derivation': [],\n",
       "   'domain': {'domain-type': 'Products',\n",
       "    'vars': [{'domID': 'entity', 'string': ''},\n",
       "     {'domID': 'int', 'string': ''}]},\n",
       "   'domain_constraint': {'b': True, 'term-type': 'BoolLit'},\n",
       "   'kind': {'fact': {'actor': False, 'invariant': False},\n",
       "    'kind-type': 'Fact'}},\n",
       "  'string': {'closed': True,\n",
       "   'conditions': [],\n",
       "   'derivation': [],\n",
       "   'domain': {'domain-type': 'AnyString'},\n",
       "   'domain_constraint': {'b': True, 'term-type': 'BoolLit'},\n",
       "   'kind': {'fact': {'actor': False, 'invariant': False},\n",
       "    'kind-type': 'Fact'}}}}"
      ]
     },
     "execution_count": 9,
     "metadata": {},
     "output_type": "execute_result"
    }
   ],
   "execution_count": 9
  },
  {
   "metadata": {
    "ExecuteTime": {
     "end_time": "2025-05-27T11:57:59.022086Z",
     "start_time": "2025-05-27T11:57:58.906078Z"
    }
   },
   "cell_type": "code",
   "source": "ef.phrase(\"Fact earth_alien Derived from entity\")",
   "id": "18494fb6ffa4e40b",
   "outputs": [
    {
     "data": {
      "text/plain": [
       "{'all-disabled-transitions': [],\n",
       " 'all-duties': [],\n",
       " 'all-enabled-transitions': [],\n",
       " 'created_facts': [],\n",
       " 'errors': [],\n",
       " 'inst-query-results': [],\n",
       " 'new-disabled-transitions': [],\n",
       " 'new-duties': [],\n",
       " 'new-enabled-transitions': [],\n",
       " 'new-state': 8,\n",
       " 'old-state': 7,\n",
       " 'output-events': [],\n",
       " 'query-results': [],\n",
       " 'response': 'success',\n",
       " 'source_contents': [],\n",
       " 'target_contents': [],\n",
       " 'terminated-duties': [],\n",
       " 'terminated_facts': [],\n",
       " 'violations': []}"
      ]
     },
     "execution_count": 8,
     "metadata": {},
     "output_type": "execute_result"
    }
   ],
   "execution_count": 8
  },
  {
   "metadata": {},
   "cell_type": "code",
   "outputs": [],
   "execution_count": null,
   "source": "",
   "id": "88726520155a8ba"
  }
 ],
 "metadata": {
  "kernelspec": {
   "display_name": "Python 3 (ipykernel)",
   "language": "python",
   "name": "python3"
  },
  "language_info": {
   "codemirror_mode": {
    "name": "ipython",
    "version": 3
   },
   "file_extension": ".py",
   "mimetype": "text/x-python",
   "name": "python",
   "nbconvert_exporter": "python",
   "pygments_lexer": "ipython3",
   "version": "3.13.3"
  }
 },
 "nbformat": 4,
 "nbformat_minor": 5
}
